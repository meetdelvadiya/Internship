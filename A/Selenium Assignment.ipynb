{
 "cells": [
  {
   "cell_type": "code",
   "execution_count": 1,
   "metadata": {},
   "outputs": [],
   "source": [
    "import selenium\n",
    "import pandas as pd\n",
    "from selenium import webdriver"
   ]
  },
  {
   "cell_type": "markdown",
   "metadata": {},
   "source": [
    "# Q1: Data Analyst in Bangalore"
   ]
  },
  {
   "cell_type": "code",
   "execution_count": 123,
   "metadata": {},
   "outputs": [],
   "source": [
    "driver=webdriver.Chrome(r\"C://chromedriver_win32/chromedriver.exe\")"
   ]
  },
  {
   "cell_type": "code",
   "execution_count": 124,
   "metadata": {},
   "outputs": [],
   "source": [
    "driver.get(\"https://www.naukri.com/\")"
   ]
  },
  {
   "cell_type": "code",
   "execution_count": 125,
   "metadata": {},
   "outputs": [],
   "source": [
    "job=driver.find_element_by_id(\"qsb-keyword-sugg\")\n",
    "job.send_keys('Data Analyst')\n",
    "loc=driver.find_element_by_xpath('//input[@id=\"qsb-location-sugg\"]')\n",
    "loc.send_keys('Bangalore')"
   ]
  },
  {
   "cell_type": "code",
   "execution_count": 126,
   "metadata": {},
   "outputs": [],
   "source": [
    "search_btn=driver.find_element_by_xpath('//div[@class=\"search-btn\"]/button')\n",
    "search_btn.click()"
   ]
  },
  {
   "cell_type": "code",
   "execution_count": 127,
   "metadata": {},
   "outputs": [],
   "source": [
    "url=\"https://www.naukri.com/data-analyst-jobs-in-bangalore?k=data%20analyst&l=bangalore\""
   ]
  },
  {
   "cell_type": "code",
   "execution_count": 128,
   "metadata": {},
   "outputs": [],
   "source": [
    "driver.get(url)"
   ]
  },
  {
   "cell_type": "code",
   "execution_count": 129,
   "metadata": {},
   "outputs": [],
   "source": [
    "job_titles=[]\n",
    "company_names=[]\n",
    "job_locations=[]\n",
    "experience_required=[]"
   ]
  },
  {
   "cell_type": "code",
   "execution_count": 130,
   "metadata": {},
   "outputs": [
    {
     "data": {
      "text/plain": [
       "[<selenium.webdriver.remote.webelement.WebElement (session=\"a7887cb4dac444772837a3fb9e45e718\", element=\"69069b0a-9d67-47ed-9cd8-606eea979453\")>,\n",
       " <selenium.webdriver.remote.webelement.WebElement (session=\"a7887cb4dac444772837a3fb9e45e718\", element=\"972c0c75-6e6e-405d-96c2-d2d217d2fbb6\")>,\n",
       " <selenium.webdriver.remote.webelement.WebElement (session=\"a7887cb4dac444772837a3fb9e45e718\", element=\"60cbfdcb-9e45-4f82-bd37-0eec2796ea01\")>,\n",
       " <selenium.webdriver.remote.webelement.WebElement (session=\"a7887cb4dac444772837a3fb9e45e718\", element=\"a1348811-97ab-405e-a04e-f9cb8a4963a4\")>,\n",
       " <selenium.webdriver.remote.webelement.WebElement (session=\"a7887cb4dac444772837a3fb9e45e718\", element=\"c7c52826-e05f-4c8f-8aa9-c9e184f045e9\")>,\n",
       " <selenium.webdriver.remote.webelement.WebElement (session=\"a7887cb4dac444772837a3fb9e45e718\", element=\"0d279ef6-bcda-4e87-aae5-0ed16c5d3f40\")>,\n",
       " <selenium.webdriver.remote.webelement.WebElement (session=\"a7887cb4dac444772837a3fb9e45e718\", element=\"ccf6bb2f-631f-4ee5-bcfe-f16a05986fb2\")>,\n",
       " <selenium.webdriver.remote.webelement.WebElement (session=\"a7887cb4dac444772837a3fb9e45e718\", element=\"ae0707d2-33c6-4129-bdd4-d919db311870\")>,\n",
       " <selenium.webdriver.remote.webelement.WebElement (session=\"a7887cb4dac444772837a3fb9e45e718\", element=\"8eaa8acd-e3c7-4b5e-a064-007b16d12b4e\")>,\n",
       " <selenium.webdriver.remote.webelement.WebElement (session=\"a7887cb4dac444772837a3fb9e45e718\", element=\"91a97ab2-1bec-4022-8eae-1e0d65d6d7b2\")>]"
      ]
     },
     "execution_count": 130,
     "metadata": {},
     "output_type": "execute_result"
    }
   ],
   "source": [
    "titles_tags=driver.find_elements_by_xpath('//a[@class=\"title fw500 ellipsis\"]')\n",
    "titles_tags[0:10]"
   ]
  },
  {
   "cell_type": "code",
   "execution_count": 131,
   "metadata": {},
   "outputs": [
    {
     "data": {
      "text/plain": [
       "['Assistant Manager II - Data Analyst',\n",
       " 'Data Analyst',\n",
       " 'Data Analyst',\n",
       " 'Data Analyst',\n",
       " 'Data Analyst',\n",
       " 'Hiring For Data Analyst',\n",
       " 'Senior Data Analyst',\n",
       " 'Data Analyst (SQL, Excel, R/Python, Dashboards, PowerBI) - Contract',\n",
       " 'Data Analyst with Marketing Analytics-Capco',\n",
       " 'Business Data Analyst - MIS & Reporting']"
      ]
     },
     "execution_count": 131,
     "metadata": {},
     "output_type": "execute_result"
    }
   ],
   "source": [
    "for i in titles_tags:\n",
    "    title=i.text\n",
    "    job_titles.append(title)\n",
    "job_titles[:10]"
   ]
  },
  {
   "cell_type": "code",
   "execution_count": 132,
   "metadata": {},
   "outputs": [],
   "source": [
    "company_tags=driver.find_elements_by_xpath('//a[@class=\"subTitle ellipsis fleft\"]')"
   ]
  },
  {
   "cell_type": "code",
   "execution_count": 133,
   "metadata": {},
   "outputs": [
    {
     "data": {
      "text/plain": [
       "['Flipkart Internet Private Limited',\n",
       " 'Super India Tech Mark',\n",
       " 'tech mahindra ltd',\n",
       " 'GlaxoSmithKline Pharmaceuticals Limited',\n",
       " 'Xiaomi',\n",
       " 'Concentrix Daksh Services India Private Limited.',\n",
       " 'Cerner',\n",
       " 'Flipkart Internet Private Limited',\n",
       " 'Capco Technologies Pvt Ltd',\n",
       " 'INTERTRUST GROUP']"
      ]
     },
     "execution_count": 133,
     "metadata": {},
     "output_type": "execute_result"
    }
   ],
   "source": [
    "for i in company_tags:\n",
    "    company=i.text\n",
    "    company_names.append(company)\n",
    "company_names[:10]"
   ]
  },
  {
   "cell_type": "code",
   "execution_count": 134,
   "metadata": {},
   "outputs": [],
   "source": [
    "location_tags=driver.find_elements_by_xpath('//li[@class=\"fleft grey-text br2 placeHolderLi location\"]')"
   ]
  },
  {
   "cell_type": "code",
   "execution_count": 135,
   "metadata": {},
   "outputs": [
    {
     "data": {
      "text/plain": [
       "['Bangalore/Bengaluru',\n",
       " 'Bangalore/Bengaluru(Devalapur)',\n",
       " 'Bangalore/Bengaluru',\n",
       " 'Bangalore/Bengaluru',\n",
       " 'Bangalore/Bengaluru',\n",
       " 'Hyderabad/Secunderabad, Pune, Chennai, Bangalore/Bengaluru, Delhi / NCR, Mumbai (All Areas)',\n",
       " 'Bangalore/Bengaluru',\n",
       " 'Bangalore/Bengaluru',\n",
       " 'Pune, Bangalore/Bengaluru',\n",
       " 'Mumbai, Bangalore/Bengaluru']"
      ]
     },
     "execution_count": 135,
     "metadata": {},
     "output_type": "execute_result"
    }
   ],
   "source": [
    "for i in location_tags:\n",
    "    location=i.text\n",
    "    job_locations.append(location)\n",
    "job_locations[:10]"
   ]
  },
  {
   "cell_type": "code",
   "execution_count": 136,
   "metadata": {},
   "outputs": [],
   "source": [
    "experience_tags=driver.find_elements_by_xpath('//li[@class=\"fleft grey-text br2 placeHolderLi experience\"]/span[1]')"
   ]
  },
  {
   "cell_type": "code",
   "execution_count": 137,
   "metadata": {},
   "outputs": [
    {
     "data": {
      "text/plain": [
       "['4-8 Yrs',\n",
       " '0-2 Yrs',\n",
       " '4-8 Yrs',\n",
       " '2-7 Yrs',\n",
       " '2-6 Yrs',\n",
       " '2-7 Yrs',\n",
       " '3-5 Yrs',\n",
       " '1-5 Yrs',\n",
       " '4-9 Yrs',\n",
       " '3-7 Yrs']"
      ]
     },
     "execution_count": 137,
     "metadata": {},
     "output_type": "execute_result"
    }
   ],
   "source": [
    "for i in experience_tags:\n",
    "    experience=i.text\n",
    "    experience_required.append(experience)\n",
    "experience_required[:10]"
   ]
  },
  {
   "cell_type": "code",
   "execution_count": 138,
   "metadata": {},
   "outputs": [],
   "source": [
    "jobs=pd.DataFrame({})\n",
    "jobs['Title']=job_titles\n",
    "jobs['Company']=company_names\n",
    "jobs['Location']=job_locations\n",
    "jobs['experience_required']=experience_required"
   ]
  },
  {
   "cell_type": "code",
   "execution_count": 139,
   "metadata": {},
   "outputs": [
    {
     "data": {
      "text/html": [
       "<div>\n",
       "<style scoped>\n",
       "    .dataframe tbody tr th:only-of-type {\n",
       "        vertical-align: middle;\n",
       "    }\n",
       "\n",
       "    .dataframe tbody tr th {\n",
       "        vertical-align: top;\n",
       "    }\n",
       "\n",
       "    .dataframe thead th {\n",
       "        text-align: right;\n",
       "    }\n",
       "</style>\n",
       "<table border=\"1\" class=\"dataframe\">\n",
       "  <thead>\n",
       "    <tr style=\"text-align: right;\">\n",
       "      <th></th>\n",
       "      <th>Title</th>\n",
       "      <th>Company</th>\n",
       "      <th>Location</th>\n",
       "      <th>experience_required</th>\n",
       "    </tr>\n",
       "  </thead>\n",
       "  <tbody>\n",
       "    <tr>\n",
       "      <th>0</th>\n",
       "      <td>Assistant Manager II - Data Analyst</td>\n",
       "      <td>Flipkart Internet Private Limited</td>\n",
       "      <td>Bangalore/Bengaluru</td>\n",
       "      <td>4-8 Yrs</td>\n",
       "    </tr>\n",
       "    <tr>\n",
       "      <th>1</th>\n",
       "      <td>Data Analyst</td>\n",
       "      <td>Super India Tech Mark</td>\n",
       "      <td>Bangalore/Bengaluru(Devalapur)</td>\n",
       "      <td>0-2 Yrs</td>\n",
       "    </tr>\n",
       "    <tr>\n",
       "      <th>2</th>\n",
       "      <td>Data Analyst</td>\n",
       "      <td>tech mahindra ltd</td>\n",
       "      <td>Bangalore/Bengaluru</td>\n",
       "      <td>4-8 Yrs</td>\n",
       "    </tr>\n",
       "    <tr>\n",
       "      <th>3</th>\n",
       "      <td>Data Analyst</td>\n",
       "      <td>GlaxoSmithKline Pharmaceuticals Limited</td>\n",
       "      <td>Bangalore/Bengaluru</td>\n",
       "      <td>2-7 Yrs</td>\n",
       "    </tr>\n",
       "    <tr>\n",
       "      <th>4</th>\n",
       "      <td>Data Analyst</td>\n",
       "      <td>Xiaomi</td>\n",
       "      <td>Bangalore/Bengaluru</td>\n",
       "      <td>2-6 Yrs</td>\n",
       "    </tr>\n",
       "    <tr>\n",
       "      <th>5</th>\n",
       "      <td>Hiring For Data Analyst</td>\n",
       "      <td>Concentrix Daksh Services India Private Limited.</td>\n",
       "      <td>Hyderabad/Secunderabad, Pune, Chennai, Bangalo...</td>\n",
       "      <td>2-7 Yrs</td>\n",
       "    </tr>\n",
       "    <tr>\n",
       "      <th>6</th>\n",
       "      <td>Senior Data Analyst</td>\n",
       "      <td>Cerner</td>\n",
       "      <td>Bangalore/Bengaluru</td>\n",
       "      <td>3-5 Yrs</td>\n",
       "    </tr>\n",
       "    <tr>\n",
       "      <th>7</th>\n",
       "      <td>Data Analyst (SQL, Excel, R/Python, Dashboards...</td>\n",
       "      <td>Flipkart Internet Private Limited</td>\n",
       "      <td>Bangalore/Bengaluru</td>\n",
       "      <td>1-5 Yrs</td>\n",
       "    </tr>\n",
       "    <tr>\n",
       "      <th>8</th>\n",
       "      <td>Data Analyst with Marketing Analytics-Capco</td>\n",
       "      <td>Capco Technologies Pvt Ltd</td>\n",
       "      <td>Pune, Bangalore/Bengaluru</td>\n",
       "      <td>4-9 Yrs</td>\n",
       "    </tr>\n",
       "    <tr>\n",
       "      <th>9</th>\n",
       "      <td>Business Data Analyst - MIS &amp; Reporting</td>\n",
       "      <td>INTERTRUST GROUP</td>\n",
       "      <td>Mumbai, Bangalore/Bengaluru</td>\n",
       "      <td>3-7 Yrs</td>\n",
       "    </tr>\n",
       "  </tbody>\n",
       "</table>\n",
       "</div>"
      ],
      "text/plain": [
       "                                               Title  \\\n",
       "0                Assistant Manager II - Data Analyst   \n",
       "1                                       Data Analyst   \n",
       "2                                       Data Analyst   \n",
       "3                                       Data Analyst   \n",
       "4                                       Data Analyst   \n",
       "5                            Hiring For Data Analyst   \n",
       "6                                Senior Data Analyst   \n",
       "7  Data Analyst (SQL, Excel, R/Python, Dashboards...   \n",
       "8        Data Analyst with Marketing Analytics-Capco   \n",
       "9            Business Data Analyst - MIS & Reporting   \n",
       "\n",
       "                                            Company  \\\n",
       "0                 Flipkart Internet Private Limited   \n",
       "1                             Super India Tech Mark   \n",
       "2                                 tech mahindra ltd   \n",
       "3           GlaxoSmithKline Pharmaceuticals Limited   \n",
       "4                                            Xiaomi   \n",
       "5  Concentrix Daksh Services India Private Limited.   \n",
       "6                                            Cerner   \n",
       "7                 Flipkart Internet Private Limited   \n",
       "8                        Capco Technologies Pvt Ltd   \n",
       "9                                  INTERTRUST GROUP   \n",
       "\n",
       "                                            Location experience_required  \n",
       "0                                Bangalore/Bengaluru             4-8 Yrs  \n",
       "1                     Bangalore/Bengaluru(Devalapur)             0-2 Yrs  \n",
       "2                                Bangalore/Bengaluru             4-8 Yrs  \n",
       "3                                Bangalore/Bengaluru             2-7 Yrs  \n",
       "4                                Bangalore/Bengaluru             2-6 Yrs  \n",
       "5  Hyderabad/Secunderabad, Pune, Chennai, Bangalo...             2-7 Yrs  \n",
       "6                                Bangalore/Bengaluru             3-5 Yrs  \n",
       "7                                Bangalore/Bengaluru             1-5 Yrs  \n",
       "8                          Pune, Bangalore/Bengaluru             4-9 Yrs  \n",
       "9                        Mumbai, Bangalore/Bengaluru             3-7 Yrs  "
      ]
     },
     "execution_count": 139,
     "metadata": {},
     "output_type": "execute_result"
    }
   ],
   "source": [
    "jobs[:10]"
   ]
  },
  {
   "cell_type": "code",
   "execution_count": 20,
   "metadata": {},
   "outputs": [],
   "source": [
    "driver.close()"
   ]
  },
  {
   "cell_type": "markdown",
   "metadata": {},
   "source": [
    "# Q2: Data Scientist in Bangalore"
   ]
  },
  {
   "cell_type": "code",
   "execution_count": 39,
   "metadata": {},
   "outputs": [],
   "source": [
    "driver=webdriver.Chrome(r\"C://chromedriver_win32/chromedriver.exe\")"
   ]
  },
  {
   "cell_type": "code",
   "execution_count": 40,
   "metadata": {},
   "outputs": [],
   "source": [
    "driver.get(\"https://www.naukri.com/\")"
   ]
  },
  {
   "cell_type": "code",
   "execution_count": 41,
   "metadata": {},
   "outputs": [],
   "source": [
    "job=driver.find_element_by_id(\"qsb-keyword-sugg\")\n",
    "job.send_keys('Data Scientist')\n",
    "loc=driver.find_element_by_xpath('//input[@id=\"qsb-location-sugg\"]')\n",
    "loc.send_keys('Bangalore')"
   ]
  },
  {
   "cell_type": "code",
   "execution_count": 42,
   "metadata": {},
   "outputs": [],
   "source": [
    "search_btn=driver.find_element_by_xpath('//div[@class=\"search-btn\"]/button')\n",
    "search_btn.click()"
   ]
  },
  {
   "cell_type": "code",
   "execution_count": 43,
   "metadata": {},
   "outputs": [],
   "source": [
    "url=\"https://www.naukri.com/data-scientist-jobs-in-bangalore?k=data%20scientist&l=bangalore\""
   ]
  },
  {
   "cell_type": "code",
   "execution_count": 44,
   "metadata": {},
   "outputs": [],
   "source": [
    "driver.get(url)"
   ]
  },
  {
   "cell_type": "code",
   "execution_count": 45,
   "metadata": {},
   "outputs": [],
   "source": [
    "job_titles=[]\n",
    "company_names=[]\n",
    "job_locations=[]\n",
    "job_description=[]"
   ]
  },
  {
   "cell_type": "code",
   "execution_count": 46,
   "metadata": {},
   "outputs": [],
   "source": [
    "titles_tags=driver.find_elements_by_xpath('//a[@class=\"title fw500 ellipsis\"]')"
   ]
  },
  {
   "cell_type": "code",
   "execution_count": 47,
   "metadata": {},
   "outputs": [
    {
     "data": {
      "text/plain": [
       "['Required- Data Scientist (NLP)-Axis Bank - 6 months contract',\n",
       " 'Opportunity For Data Scientist Internship - Bengaluru',\n",
       " 'Data Scientist/ Analyst',\n",
       " 'Data Scientist - Python/ MATLAB/ Machine Learning Algorithms',\n",
       " 'Principal Data Scientist - Machine/Deep Learning - NLP/Tensorflow',\n",
       " 'Data Scientist/Senior Data Scientist',\n",
       " 'Global Medical Data Scientist',\n",
       " 'Data Scientist - Advanced Analytics',\n",
       " 'Data Scientist',\n",
       " 'Senior Data Scientist, , Data Science']"
      ]
     },
     "execution_count": 47,
     "metadata": {},
     "output_type": "execute_result"
    }
   ],
   "source": [
    "for i in titles_tags:\n",
    "    title=i.text\n",
    "    job_titles.append(title)\n",
    "job_titles[:10]"
   ]
  },
  {
   "cell_type": "code",
   "execution_count": 48,
   "metadata": {},
   "outputs": [],
   "source": [
    "company_tags=driver.find_elements_by_xpath('//a[@class=\"subTitle ellipsis fleft\"]')"
   ]
  },
  {
   "cell_type": "code",
   "execution_count": 49,
   "metadata": {},
   "outputs": [
    {
     "data": {
      "text/plain": [
       "['Axis Bank Limited',\n",
       " 'Corner Stone Solutions',\n",
       " 'Becton Dickinson India Pvt. Ltd',\n",
       " 'Wrackle Technologies Pvt Ltd',\n",
       " 'Fidius advisory',\n",
       " 'GANIT BUSINESS SOLUTIONS PRIVATE LIMITED',\n",
       " 'GlaxoSmithKline Pharmaceuticals Limited',\n",
       " 'IBM India Pvt. Limited',\n",
       " 'Sony India Software Center',\n",
       " 'Visa Inc.']"
      ]
     },
     "execution_count": 49,
     "metadata": {},
     "output_type": "execute_result"
    }
   ],
   "source": [
    "for i in company_tags:\n",
    "    company=i.text\n",
    "    company_names.append(company)\n",
    "company_names[:10]"
   ]
  },
  {
   "cell_type": "code",
   "execution_count": 50,
   "metadata": {},
   "outputs": [],
   "source": [
    "location_tags=driver.find_elements_by_xpath('//li[@class=\"fleft grey-text br2 placeHolderLi location\"]')"
   ]
  },
  {
   "cell_type": "code",
   "execution_count": 51,
   "metadata": {},
   "outputs": [
    {
     "data": {
      "text/plain": [
       "['Kolkata, New Delhi, Hyderabad/Secunderabad, Pune, Chennai, Bangalore/Bengaluru, Mumbai (All Areas)',\n",
       " 'Bangalore/Bengaluru',\n",
       " 'Bangalore/Bengaluru',\n",
       " 'Bangalore/Bengaluru',\n",
       " 'Bangalore/Bengaluru',\n",
       " 'Hyderabad/Secunderabad, Pune, Chennai, Bangalore/Bengaluru, Mumbai (All Areas)',\n",
       " 'Bangalore/Bengaluru',\n",
       " 'Bangalore/Bengaluru',\n",
       " 'Bangalore/Bengaluru',\n",
       " 'Bangalore/Bengaluru']"
      ]
     },
     "execution_count": 51,
     "metadata": {},
     "output_type": "execute_result"
    }
   ],
   "source": [
    "for i in location_tags:\n",
    "    location=i.text\n",
    "    job_locations.append(location)\n",
    "job_locations[:10]"
   ]
  },
  {
   "cell_type": "code",
   "execution_count": 58,
   "metadata": {},
   "outputs": [],
   "source": [
    "url=\"https://www.naukri.com/job-listings-required-data-scientist-nlp-axis-bank-6-months-contract-axis-bank-limited-kolkata-new-delhi-hyderabad-secunderabad-pune-chennai-bangalore-bengaluru-mumbai-all-areas-4-to-9-years-150321006568?src=jobsearchDesk&sid=16170999988199184&xp=1&px=1\""
   ]
  },
  {
   "cell_type": "code",
   "execution_count": 59,
   "metadata": {},
   "outputs": [],
   "source": [
    "driver.get(url)"
   ]
  },
  {
   "cell_type": "code",
   "execution_count": 71,
   "metadata": {},
   "outputs": [],
   "source": [
    "description_tags=driver.find_elements_by_xpath('//div[@class=\"clearboth description\"]')"
   ]
  },
  {
   "cell_type": "code",
   "execution_count": 72,
   "metadata": {},
   "outputs": [
    {
     "data": {
      "text/plain": [
       "['Roles and Responsibilities - The bank generates a vast amount of data like customer data, logs from their financial products,\\ntransaction data that can be used in order to support decision making, together with unstructured\\ndata, like social media data and customer emails etc. As the unstructured data and the technology to\\nprocess it grows, there is a natural demand to tap the insights from this data.\\nThe Bank wants to classify customer emails into different issue buckets to act on them quickly. In this\\nproject the candidate has to new age DL algorithms to train supervised and unsupervised\\nalgorithms to achieve ~90% accuracy.\\n\\nDesired Candidate Profile\\n2-8 years of relevant industry experience (NLP & Deep learning), with excellent mathematical, programming and problem-solving skills, as well as a passion for AI and research\\nThe candidate should be an expert at analysing large amounts of raw information to find patterns and extract valuable insights.\\nFluency in Python hands on relevant experience\\nExperience with NLP libraries like core NLP, spacy, genism, etc\\nHigh-performance processing with robust analytic data pipeline\\nFluency in at least one deep learning framework: PyTorch, TensorFlow / Keras\\nAdvanced knowledge of the HuggingFace libraries (transformers and tokenizers)\\nPerks and Benefits\\nWork from Home',\n",
       " 'Roles and Responsibilities - The bank generates a vast amount of data like customer data, logs from their financial products,',\n",
       " 'Roles and Responsibilities - The bank generates a vast amount of data like customer data, logs from their financial products,']"
      ]
     },
     "execution_count": 72,
     "metadata": {},
     "output_type": "execute_result"
    }
   ],
   "source": [
    "for i in description_tags:\n",
    "    description=i.text\n",
    "    job_description.append(description)\n",
    "job_description"
   ]
  },
  {
   "cell_type": "code",
   "execution_count": 54,
   "metadata": {},
   "outputs": [],
   "source": [
    "jobs2=pd.DataFrame({})\n",
    "jobs2['Title']=job_titles\n",
    "jobs2['Company']=company_names\n",
    "jobs2['Location']=job_locations"
   ]
  },
  {
   "cell_type": "code",
   "execution_count": 21,
   "metadata": {},
   "outputs": [
    {
     "data": {
      "text/html": [
       "<div>\n",
       "<style scoped>\n",
       "    .dataframe tbody tr th:only-of-type {\n",
       "        vertical-align: middle;\n",
       "    }\n",
       "\n",
       "    .dataframe tbody tr th {\n",
       "        vertical-align: top;\n",
       "    }\n",
       "\n",
       "    .dataframe thead th {\n",
       "        text-align: right;\n",
       "    }\n",
       "</style>\n",
       "<table border=\"1\" class=\"dataframe\">\n",
       "  <thead>\n",
       "    <tr style=\"text-align: right;\">\n",
       "      <th></th>\n",
       "      <th>Title</th>\n",
       "      <th>Company</th>\n",
       "      <th>Location</th>\n",
       "    </tr>\n",
       "  </thead>\n",
       "  <tbody>\n",
       "    <tr>\n",
       "      <th>0</th>\n",
       "      <td>Required- Data Scientist (NLP)-Axis Bank - 6 m...</td>\n",
       "      <td>Axis Bank Limited</td>\n",
       "      <td>Kolkata, New Delhi, Hyderabad/Secunderabad, Pu...</td>\n",
       "    </tr>\n",
       "    <tr>\n",
       "      <th>1</th>\n",
       "      <td>Data Scientist - Python/ MATLAB/ Machine Learn...</td>\n",
       "      <td>Wrackle Technologies Pvt Ltd</td>\n",
       "      <td>Bangalore/Bengaluru</td>\n",
       "    </tr>\n",
       "    <tr>\n",
       "      <th>2</th>\n",
       "      <td>Principal Data Scientist - Machine/Deep Learni...</td>\n",
       "      <td>Fidius advisory</td>\n",
       "      <td>Bangalore/Bengaluru</td>\n",
       "    </tr>\n",
       "    <tr>\n",
       "      <th>3</th>\n",
       "      <td>Data Scientist/ Analyst</td>\n",
       "      <td>Becton Dickinson India Pvt. Ltd</td>\n",
       "      <td>Bangalore/Bengaluru</td>\n",
       "    </tr>\n",
       "    <tr>\n",
       "      <th>4</th>\n",
       "      <td>Opportunity For Data Scientist Internship - Be...</td>\n",
       "      <td>Corner Stone Solutions</td>\n",
       "      <td>Bangalore/Bengaluru</td>\n",
       "    </tr>\n",
       "    <tr>\n",
       "      <th>5</th>\n",
       "      <td>Data Scientist || Data Analyst || Data science</td>\n",
       "      <td>Inspiration Manpower Consultancy Pvt. Ltd.</td>\n",
       "      <td>Navi Mumbai, Bangalore/Bengaluru</td>\n",
       "    </tr>\n",
       "    <tr>\n",
       "      <th>6</th>\n",
       "      <td>Data Scientist/Senior Data Scientist</td>\n",
       "      <td>GANIT BUSINESS SOLUTIONS PRIVATE LIMITED</td>\n",
       "      <td>Hyderabad/Secunderabad, Pune, Chennai, Bangalo...</td>\n",
       "    </tr>\n",
       "    <tr>\n",
       "      <th>7</th>\n",
       "      <td>Senior Data Scientist, , Data Science</td>\n",
       "      <td>Visa Inc.</td>\n",
       "      <td>Bangalore/Bengaluru</td>\n",
       "    </tr>\n",
       "    <tr>\n",
       "      <th>8</th>\n",
       "      <td>Senior Data Scientist (Machine Vision solutions)</td>\n",
       "      <td>ONX Software Systems Pvt Ltd</td>\n",
       "      <td>Bangalore/Bengaluru</td>\n",
       "    </tr>\n",
       "    <tr>\n",
       "      <th>9</th>\n",
       "      <td>Data Scientist - Advanced Analytics</td>\n",
       "      <td>IBM India Pvt. Limited</td>\n",
       "      <td>Bangalore/Bengaluru</td>\n",
       "    </tr>\n",
       "  </tbody>\n",
       "</table>\n",
       "</div>"
      ],
      "text/plain": [
       "                                               Title  \\\n",
       "0  Required- Data Scientist (NLP)-Axis Bank - 6 m...   \n",
       "1  Data Scientist - Python/ MATLAB/ Machine Learn...   \n",
       "2  Principal Data Scientist - Machine/Deep Learni...   \n",
       "3                            Data Scientist/ Analyst   \n",
       "4  Opportunity For Data Scientist Internship - Be...   \n",
       "5     Data Scientist || Data Analyst || Data science   \n",
       "6               Data Scientist/Senior Data Scientist   \n",
       "7              Senior Data Scientist, , Data Science   \n",
       "8   Senior Data Scientist (Machine Vision solutions)   \n",
       "9                Data Scientist - Advanced Analytics   \n",
       "\n",
       "                                      Company  \\\n",
       "0                           Axis Bank Limited   \n",
       "1                Wrackle Technologies Pvt Ltd   \n",
       "2                             Fidius advisory   \n",
       "3             Becton Dickinson India Pvt. Ltd   \n",
       "4                      Corner Stone Solutions   \n",
       "5  Inspiration Manpower Consultancy Pvt. Ltd.   \n",
       "6    GANIT BUSINESS SOLUTIONS PRIVATE LIMITED   \n",
       "7                                   Visa Inc.   \n",
       "8                ONX Software Systems Pvt Ltd   \n",
       "9                      IBM India Pvt. Limited   \n",
       "\n",
       "                                            Location  \n",
       "0  Kolkata, New Delhi, Hyderabad/Secunderabad, Pu...  \n",
       "1                                Bangalore/Bengaluru  \n",
       "2                                Bangalore/Bengaluru  \n",
       "3                                Bangalore/Bengaluru  \n",
       "4                                Bangalore/Bengaluru  \n",
       "5                   Navi Mumbai, Bangalore/Bengaluru  \n",
       "6  Hyderabad/Secunderabad, Pune, Chennai, Bangalo...  \n",
       "7                                Bangalore/Bengaluru  \n",
       "8                                Bangalore/Bengaluru  \n",
       "9                                Bangalore/Bengaluru  "
      ]
     },
     "execution_count": 21,
     "metadata": {},
     "output_type": "execute_result"
    }
   ],
   "source": [
    "jobs2[:10]"
   ]
  },
  {
   "cell_type": "code",
   "execution_count": 73,
   "metadata": {},
   "outputs": [],
   "source": [
    "driver.close()"
   ]
  },
  {
   "cell_type": "markdown",
   "metadata": {},
   "source": [
    "# Q3: Location and Salary filter"
   ]
  },
  {
   "cell_type": "code",
   "execution_count": 66,
   "metadata": {},
   "outputs": [],
   "source": [
    "driver=webdriver.Chrome(r\"C://chromedriver_win32/chromedriver.exe\")"
   ]
  },
  {
   "cell_type": "code",
   "execution_count": 67,
   "metadata": {},
   "outputs": [],
   "source": [
    "driver.get(\"https://www.naukri.com/\")"
   ]
  },
  {
   "cell_type": "code",
   "execution_count": 68,
   "metadata": {},
   "outputs": [],
   "source": [
    "job=driver.find_element_by_id(\"qsb-keyword-sugg\")\n",
    "job.send_keys('Data Scientist')"
   ]
  },
  {
   "cell_type": "code",
   "execution_count": 69,
   "metadata": {},
   "outputs": [],
   "source": [
    "search_btn=driver.find_element_by_xpath('//div[@class=\"search-btn\"]/button')\n",
    "search_btn.click()"
   ]
  },
  {
   "cell_type": "code",
   "execution_count": 71,
   "metadata": {},
   "outputs": [],
   "source": [
    "url='https://www.naukri.com/data-scientist-jobs?k=data%20scientist&cityTypeGid=9508&ctcFilter=3to6'"
   ]
  },
  {
   "cell_type": "code",
   "execution_count": 72,
   "metadata": {},
   "outputs": [],
   "source": [
    "driver.get(url)"
   ]
  },
  {
   "cell_type": "code",
   "execution_count": 73,
   "metadata": {},
   "outputs": [],
   "source": [
    "job_titles=[]\n",
    "company_names=[]\n",
    "job_locations=[]\n",
    "experience_required=[]"
   ]
  },
  {
   "cell_type": "code",
   "execution_count": 74,
   "metadata": {},
   "outputs": [],
   "source": [
    "titles_tags=driver.find_elements_by_xpath('//a[@class=\"title fw500 ellipsis\"]')"
   ]
  },
  {
   "cell_type": "code",
   "execution_count": 75,
   "metadata": {},
   "outputs": [
    {
     "data": {
      "text/plain": [
       "['Required- Data Scientist (NLP)-Axis Bank - 6 months contract',\n",
       " 'Data Scientist/Data Analyst - Python/Machine Learning',\n",
       " 'Data Scientist',\n",
       " 'Data Scientist - Python & Machine Learning',\n",
       " 'Data Scientist - Python & Machine Learning',\n",
       " 'Data Scientist - Machine Learning/ NLP',\n",
       " 'Data Scientist - Python / Machine Learning / Tableau / Power BI',\n",
       " 'Data Scientist - Python & Machine Learning (ISO 20022)',\n",
       " 'Hiring For Data Scientist',\n",
       " 'Data Scientist | Python | Machine Learning | Data Science Training']"
      ]
     },
     "execution_count": 75,
     "metadata": {},
     "output_type": "execute_result"
    }
   ],
   "source": [
    "for i in titles_tags:\n",
    "    title=i.text\n",
    "    job_titles.append(title)\n",
    "job_titles[:10]"
   ]
  },
  {
   "cell_type": "code",
   "execution_count": 76,
   "metadata": {},
   "outputs": [],
   "source": [
    "company_tags=driver.find_elements_by_xpath('//a[@class=\"subTitle ellipsis fleft\"]')"
   ]
  },
  {
   "cell_type": "code",
   "execution_count": 77,
   "metadata": {},
   "outputs": [
    {
     "data": {
      "text/plain": [
       "['Axis Bank Limited',\n",
       " 'Change leaders',\n",
       " 'Amity University',\n",
       " 'FUTURES AND CAREERS',\n",
       " 'FUTURES AND CAREERS',\n",
       " 'TalPro',\n",
       " 'FUTURES AND CAREERS',\n",
       " 'FUTURES AND CAREERS',\n",
       " 'Max Bupa Health Insurance Company Limited',\n",
       " 'Careerera']"
      ]
     },
     "execution_count": 77,
     "metadata": {},
     "output_type": "execute_result"
    }
   ],
   "source": [
    "for i in company_tags:\n",
    "    company=i.text\n",
    "    company_names.append(company)\n",
    "company_names[:10]"
   ]
  },
  {
   "cell_type": "code",
   "execution_count": 78,
   "metadata": {},
   "outputs": [],
   "source": [
    "location_tags=driver.find_elements_by_xpath('//li[@class=\"fleft grey-text br2 placeHolderLi location\"]')"
   ]
  },
  {
   "cell_type": "code",
   "execution_count": 79,
   "metadata": {},
   "outputs": [
    {
     "data": {
      "text/plain": [
       "['Kolkata, New Delhi, Hyderabad/Secunderabad, Pune, Chennai, Bangalore/Bengaluru, Mumbai (All Areas)',\n",
       " 'Mumbai, Ghaziabad',\n",
       " 'Ghaziabad, Faridabad, Delhi / NCR',\n",
       " 'Hyderabad/Secunderabad, Pune, Bangalore/Bengaluru, Delhi / NCR, Mumbai (All Areas)',\n",
       " 'Hyderabad/Secunderabad, Bangalore/Bengaluru, Delhi / NCR, Mumbai (All Areas)',\n",
       " 'Gurgaon/Gurugram',\n",
       " 'Hyderabad/Secunderabad, Bangalore/Bengaluru, Delhi / NCR',\n",
       " 'Hyderabad/Secunderabad, Bangalore/Bengaluru, Delhi / NCR',\n",
       " 'Gurgaon/Gurugram, Delhi / NCR',\n",
       " 'Noida(Sector-59 Noida)']"
      ]
     },
     "execution_count": 79,
     "metadata": {},
     "output_type": "execute_result"
    }
   ],
   "source": [
    "for i in location_tags:\n",
    "    location=i.text\n",
    "    job_locations.append(location)\n",
    "job_locations[:10]"
   ]
  },
  {
   "cell_type": "code",
   "execution_count": 80,
   "metadata": {},
   "outputs": [],
   "source": [
    "experience_tags=driver.find_elements_by_xpath('//li[@class=\"fleft grey-text br2 placeHolderLi experience\"]/span[1]')"
   ]
  },
  {
   "cell_type": "code",
   "execution_count": 81,
   "metadata": {},
   "outputs": [
    {
     "data": {
      "text/plain": [
       "['4-9 Yrs',\n",
       " '5-10 Yrs',\n",
       " '6-8 Yrs',\n",
       " '2-7 Yrs',\n",
       " '2-7 Yrs',\n",
       " '2-6 Yrs',\n",
       " '3-8 Yrs',\n",
       " '3-8 Yrs',\n",
       " '1-6 Yrs',\n",
       " '3-8 Yrs']"
      ]
     },
     "execution_count": 81,
     "metadata": {},
     "output_type": "execute_result"
    }
   ],
   "source": [
    "for i in experience_tags:\n",
    "    experience=i.text\n",
    "    experience_required.append(experience)\n",
    "experience_required[:10]"
   ]
  },
  {
   "cell_type": "code",
   "execution_count": 82,
   "metadata": {},
   "outputs": [],
   "source": [
    "jobs3=pd.DataFrame({})\n",
    "jobs3['Title']=job_titles\n",
    "jobs3['Company']=company_names\n",
    "jobs3['Location']=job_locations\n",
    "jobs3['experience_required']=experience_required"
   ]
  },
  {
   "cell_type": "code",
   "execution_count": 83,
   "metadata": {},
   "outputs": [
    {
     "data": {
      "text/html": [
       "<div>\n",
       "<style scoped>\n",
       "    .dataframe tbody tr th:only-of-type {\n",
       "        vertical-align: middle;\n",
       "    }\n",
       "\n",
       "    .dataframe tbody tr th {\n",
       "        vertical-align: top;\n",
       "    }\n",
       "\n",
       "    .dataframe thead th {\n",
       "        text-align: right;\n",
       "    }\n",
       "</style>\n",
       "<table border=\"1\" class=\"dataframe\">\n",
       "  <thead>\n",
       "    <tr style=\"text-align: right;\">\n",
       "      <th></th>\n",
       "      <th>Title</th>\n",
       "      <th>Company</th>\n",
       "      <th>Location</th>\n",
       "      <th>experience_required</th>\n",
       "    </tr>\n",
       "  </thead>\n",
       "  <tbody>\n",
       "    <tr>\n",
       "      <th>0</th>\n",
       "      <td>Required- Data Scientist (NLP)-Axis Bank - 6 m...</td>\n",
       "      <td>Axis Bank Limited</td>\n",
       "      <td>Kolkata, New Delhi, Hyderabad/Secunderabad, Pu...</td>\n",
       "      <td>4-9 Yrs</td>\n",
       "    </tr>\n",
       "    <tr>\n",
       "      <th>1</th>\n",
       "      <td>Data Scientist/Data Analyst - Python/Machine L...</td>\n",
       "      <td>Change leaders</td>\n",
       "      <td>Mumbai, Ghaziabad</td>\n",
       "      <td>5-10 Yrs</td>\n",
       "    </tr>\n",
       "    <tr>\n",
       "      <th>2</th>\n",
       "      <td>Data Scientist</td>\n",
       "      <td>Amity University</td>\n",
       "      <td>Ghaziabad, Faridabad, Delhi / NCR</td>\n",
       "      <td>6-8 Yrs</td>\n",
       "    </tr>\n",
       "    <tr>\n",
       "      <th>3</th>\n",
       "      <td>Data Scientist - Python &amp; Machine Learning</td>\n",
       "      <td>FUTURES AND CAREERS</td>\n",
       "      <td>Hyderabad/Secunderabad, Pune, Bangalore/Bengal...</td>\n",
       "      <td>2-7 Yrs</td>\n",
       "    </tr>\n",
       "    <tr>\n",
       "      <th>4</th>\n",
       "      <td>Data Scientist - Python &amp; Machine Learning</td>\n",
       "      <td>FUTURES AND CAREERS</td>\n",
       "      <td>Hyderabad/Secunderabad, Bangalore/Bengaluru, D...</td>\n",
       "      <td>2-7 Yrs</td>\n",
       "    </tr>\n",
       "    <tr>\n",
       "      <th>5</th>\n",
       "      <td>Data Scientist - Machine Learning/ NLP</td>\n",
       "      <td>TalPro</td>\n",
       "      <td>Gurgaon/Gurugram</td>\n",
       "      <td>2-6 Yrs</td>\n",
       "    </tr>\n",
       "    <tr>\n",
       "      <th>6</th>\n",
       "      <td>Data Scientist - Python / Machine Learning / T...</td>\n",
       "      <td>FUTURES AND CAREERS</td>\n",
       "      <td>Hyderabad/Secunderabad, Bangalore/Bengaluru, D...</td>\n",
       "      <td>3-8 Yrs</td>\n",
       "    </tr>\n",
       "    <tr>\n",
       "      <th>7</th>\n",
       "      <td>Data Scientist - Python &amp; Machine Learning (IS...</td>\n",
       "      <td>FUTURES AND CAREERS</td>\n",
       "      <td>Hyderabad/Secunderabad, Bangalore/Bengaluru, D...</td>\n",
       "      <td>3-8 Yrs</td>\n",
       "    </tr>\n",
       "    <tr>\n",
       "      <th>8</th>\n",
       "      <td>Hiring For Data Scientist</td>\n",
       "      <td>Max Bupa Health Insurance Company Limited</td>\n",
       "      <td>Gurgaon/Gurugram, Delhi / NCR</td>\n",
       "      <td>1-6 Yrs</td>\n",
       "    </tr>\n",
       "    <tr>\n",
       "      <th>9</th>\n",
       "      <td>Data Scientist | Python | Machine Learning | D...</td>\n",
       "      <td>Careerera</td>\n",
       "      <td>Noida(Sector-59 Noida)</td>\n",
       "      <td>3-8 Yrs</td>\n",
       "    </tr>\n",
       "  </tbody>\n",
       "</table>\n",
       "</div>"
      ],
      "text/plain": [
       "                                               Title  \\\n",
       "0  Required- Data Scientist (NLP)-Axis Bank - 6 m...   \n",
       "1  Data Scientist/Data Analyst - Python/Machine L...   \n",
       "2                                     Data Scientist   \n",
       "3         Data Scientist - Python & Machine Learning   \n",
       "4         Data Scientist - Python & Machine Learning   \n",
       "5             Data Scientist - Machine Learning/ NLP   \n",
       "6  Data Scientist - Python / Machine Learning / T...   \n",
       "7  Data Scientist - Python & Machine Learning (IS...   \n",
       "8                          Hiring For Data Scientist   \n",
       "9  Data Scientist | Python | Machine Learning | D...   \n",
       "\n",
       "                                     Company  \\\n",
       "0                          Axis Bank Limited   \n",
       "1                             Change leaders   \n",
       "2                           Amity University   \n",
       "3                        FUTURES AND CAREERS   \n",
       "4                        FUTURES AND CAREERS   \n",
       "5                                     TalPro   \n",
       "6                        FUTURES AND CAREERS   \n",
       "7                        FUTURES AND CAREERS   \n",
       "8  Max Bupa Health Insurance Company Limited   \n",
       "9                                  Careerera   \n",
       "\n",
       "                                            Location experience_required  \n",
       "0  Kolkata, New Delhi, Hyderabad/Secunderabad, Pu...             4-9 Yrs  \n",
       "1                                  Mumbai, Ghaziabad            5-10 Yrs  \n",
       "2                  Ghaziabad, Faridabad, Delhi / NCR             6-8 Yrs  \n",
       "3  Hyderabad/Secunderabad, Pune, Bangalore/Bengal...             2-7 Yrs  \n",
       "4  Hyderabad/Secunderabad, Bangalore/Bengaluru, D...             2-7 Yrs  \n",
       "5                                   Gurgaon/Gurugram             2-6 Yrs  \n",
       "6  Hyderabad/Secunderabad, Bangalore/Bengaluru, D...             3-8 Yrs  \n",
       "7  Hyderabad/Secunderabad, Bangalore/Bengaluru, D...             3-8 Yrs  \n",
       "8                      Gurgaon/Gurugram, Delhi / NCR             1-6 Yrs  \n",
       "9                             Noida(Sector-59 Noida)             3-8 Yrs  "
      ]
     },
     "execution_count": 83,
     "metadata": {},
     "output_type": "execute_result"
    }
   ],
   "source": [
    "jobs3[:10]"
   ]
  },
  {
   "cell_type": "code",
   "execution_count": 84,
   "metadata": {},
   "outputs": [],
   "source": [
    "driver.close()"
   ]
  },
  {
   "cell_type": "markdown",
   "metadata": {},
   "source": [
    "# Q4: Glassdoor salary data,You have to scrape company_name, No. of days ago when job was posted, Rating of the company."
   ]
  },
  {
   "cell_type": "code",
   "execution_count": 109,
   "metadata": {},
   "outputs": [],
   "source": [
    "driver=webdriver.Chrome(r\"C://chromedriver_win32/chromedriver.exe\")"
   ]
  },
  {
   "cell_type": "code",
   "execution_count": 113,
   "metadata": {},
   "outputs": [],
   "source": [
    "driver.get('https://www.glassdoor.co.in/index.html')"
   ]
  },
  {
   "cell_type": "code",
   "execution_count": 115,
   "metadata": {},
   "outputs": [],
   "source": [
    "job=driver.find_element_by_xpath(\"//input[@class='css-1etjok6']\")\n",
    "job.send_keys('Data Scientist')"
   ]
  },
  {
   "cell_type": "code",
   "execution_count": 116,
   "metadata": {},
   "outputs": [],
   "source": [
    "loc=driver.find_element_by_id(\"scLocation\")\n",
    "loc.send_keys('Noida')"
   ]
  },
  {
   "cell_type": "code",
   "execution_count": 117,
   "metadata": {},
   "outputs": [],
   "source": [
    "search_btn=driver.find_element_by_id('prefix__icon-arrow-1')\n",
    "search_btn.click()"
   ]
  },
  {
   "cell_type": "code",
   "execution_count": 118,
   "metadata": {},
   "outputs": [],
   "source": [
    "url=('https://www.glassdoor.co.in/Job/noida-data-scientist-jobs-SRCH_IL.0,5_IC4477468_KO6,20.htm')\n",
    "driver.get(url)"
   ]
  },
  {
   "cell_type": "code",
   "execution_count": 119,
   "metadata": {},
   "outputs": [],
   "source": [
    "company_names=[]\n",
    "days_posted=[]\n",
    "company_rating=[]"
   ]
  },
  {
   "cell_type": "code",
   "execution_count": 121,
   "metadata": {},
   "outputs": [],
   "source": [
    "company_tags=driver.find_elements_by_xpath('//div[@class=\"d-flex justify-content-between align-items-start\"]')"
   ]
  },
  {
   "cell_type": "code",
   "execution_count": 133,
   "metadata": {},
   "outputs": [
    {
     "data": {
      "text/plain": [
       "['Ericsson-Worldwide',\n",
       " 'Elsevier',\n",
       " 'Adobe',\n",
       " 'WishFin',\n",
       " 'Biz2Credit Inc',\n",
       " 'Techlive',\n",
       " 'Salasar New Age Technologies',\n",
       " 'abc consultants',\n",
       " 'IBM',\n",
       " 'Priority Vendor']"
      ]
     },
     "execution_count": 133,
     "metadata": {},
     "output_type": "execute_result"
    }
   ],
   "source": [
    "for i in company_tags:\n",
    "    company=i.text\n",
    "    company_names.append(company)\n",
    "company_names=company_names[:10]\n",
    "company_names"
   ]
  },
  {
   "cell_type": "code",
   "execution_count": 123,
   "metadata": {},
   "outputs": [],
   "source": [
    "days_tags=driver.find_elements_by_xpath('//div[@class=\"d-flex align-items-end pl-std css-mi55ob\"]')"
   ]
  },
  {
   "cell_type": "code",
   "execution_count": 132,
   "metadata": {},
   "outputs": [
    {
     "data": {
      "text/plain": [
       "['24h', '5d', '7d', '2d', '24h', '26d', '3d', '20d', '6d', '19d']"
      ]
     },
     "execution_count": 132,
     "metadata": {},
     "output_type": "execute_result"
    }
   ],
   "source": [
    "for i in days_tags:\n",
    "    days=i.text\n",
    "    days_posted.append(days)\n",
    "days_posted=days_posted[:10]\n",
    "days_posted"
   ]
  },
  {
   "cell_type": "code",
   "execution_count": 126,
   "metadata": {},
   "outputs": [],
   "source": [
    "rating_tags=driver.find_elements_by_xpath('//span[@class=\"css-19pjha7 e1cjmv6j1\"]')"
   ]
  },
  {
   "cell_type": "code",
   "execution_count": 134,
   "metadata": {},
   "outputs": [
    {
     "data": {
      "text/plain": [
       "['4.1', '4.3', '4.4', '3.8', '3.8', '5.0', '4.2', '4.0', '3.7', '3.1']"
      ]
     },
     "execution_count": 134,
     "metadata": {},
     "output_type": "execute_result"
    }
   ],
   "source": [
    "for i in rating_tags:\n",
    "    rating=i.text\n",
    "    company_rating.append(rating)\n",
    "company_rating=company_rating[:10]\n",
    "company_rating"
   ]
  },
  {
   "cell_type": "code",
   "execution_count": 135,
   "metadata": {},
   "outputs": [
    {
     "name": "stdout",
     "output_type": "stream",
     "text": [
      "10\n"
     ]
    }
   ],
   "source": [
    "print(len(company_names))"
   ]
  },
  {
   "cell_type": "code",
   "execution_count": 136,
   "metadata": {},
   "outputs": [],
   "source": [
    "jobs4=pd.DataFrame({})\n",
    "jobs4['company_names']=company_names\n",
    "jobs4['days_posted']=days_posted\n",
    "jobs4['company_rating']=company_rating"
   ]
  },
  {
   "cell_type": "code",
   "execution_count": 137,
   "metadata": {},
   "outputs": [
    {
     "data": {
      "text/html": [
       "<div>\n",
       "<style scoped>\n",
       "    .dataframe tbody tr th:only-of-type {\n",
       "        vertical-align: middle;\n",
       "    }\n",
       "\n",
       "    .dataframe tbody tr th {\n",
       "        vertical-align: top;\n",
       "    }\n",
       "\n",
       "    .dataframe thead th {\n",
       "        text-align: right;\n",
       "    }\n",
       "</style>\n",
       "<table border=\"1\" class=\"dataframe\">\n",
       "  <thead>\n",
       "    <tr style=\"text-align: right;\">\n",
       "      <th></th>\n",
       "      <th>company_names</th>\n",
       "      <th>days_posted</th>\n",
       "      <th>company_rating</th>\n",
       "    </tr>\n",
       "  </thead>\n",
       "  <tbody>\n",
       "    <tr>\n",
       "      <th>0</th>\n",
       "      <td>Ericsson-Worldwide</td>\n",
       "      <td>24h</td>\n",
       "      <td>4.1</td>\n",
       "    </tr>\n",
       "    <tr>\n",
       "      <th>1</th>\n",
       "      <td>Elsevier</td>\n",
       "      <td>5d</td>\n",
       "      <td>4.3</td>\n",
       "    </tr>\n",
       "    <tr>\n",
       "      <th>2</th>\n",
       "      <td>Adobe</td>\n",
       "      <td>7d</td>\n",
       "      <td>4.4</td>\n",
       "    </tr>\n",
       "    <tr>\n",
       "      <th>3</th>\n",
       "      <td>WishFin</td>\n",
       "      <td>2d</td>\n",
       "      <td>3.8</td>\n",
       "    </tr>\n",
       "    <tr>\n",
       "      <th>4</th>\n",
       "      <td>Biz2Credit Inc</td>\n",
       "      <td>24h</td>\n",
       "      <td>3.8</td>\n",
       "    </tr>\n",
       "    <tr>\n",
       "      <th>5</th>\n",
       "      <td>Techlive</td>\n",
       "      <td>26d</td>\n",
       "      <td>5.0</td>\n",
       "    </tr>\n",
       "    <tr>\n",
       "      <th>6</th>\n",
       "      <td>Salasar New Age Technologies</td>\n",
       "      <td>3d</td>\n",
       "      <td>4.2</td>\n",
       "    </tr>\n",
       "    <tr>\n",
       "      <th>7</th>\n",
       "      <td>abc consultants</td>\n",
       "      <td>20d</td>\n",
       "      <td>4.0</td>\n",
       "    </tr>\n",
       "    <tr>\n",
       "      <th>8</th>\n",
       "      <td>IBM</td>\n",
       "      <td>6d</td>\n",
       "      <td>3.7</td>\n",
       "    </tr>\n",
       "    <tr>\n",
       "      <th>9</th>\n",
       "      <td>Priority Vendor</td>\n",
       "      <td>19d</td>\n",
       "      <td>3.1</td>\n",
       "    </tr>\n",
       "  </tbody>\n",
       "</table>\n",
       "</div>"
      ],
      "text/plain": [
       "                  company_names days_posted company_rating\n",
       "0            Ericsson-Worldwide         24h            4.1\n",
       "1                      Elsevier          5d            4.3\n",
       "2                         Adobe          7d            4.4\n",
       "3                       WishFin          2d            3.8\n",
       "4                Biz2Credit Inc         24h            3.8\n",
       "5                      Techlive         26d            5.0\n",
       "6  Salasar New Age Technologies          3d            4.2\n",
       "7               abc consultants         20d            4.0\n",
       "8                           IBM          6d            3.7\n",
       "9               Priority Vendor         19d            3.1"
      ]
     },
     "execution_count": 137,
     "metadata": {},
     "output_type": "execute_result"
    }
   ],
   "source": [
    "jobs4"
   ]
  },
  {
   "cell_type": "code",
   "execution_count": 138,
   "metadata": {},
   "outputs": [],
   "source": [
    "driver.close()"
   ]
  },
  {
   "cell_type": "markdown",
   "metadata": {},
   "source": [
    "# Q5:Glassdoor salary data,You have to scrape Company name, Number of salaries, Average salary, Min salary, Max Salary."
   ]
  },
  {
   "cell_type": "code",
   "execution_count": 40,
   "metadata": {},
   "outputs": [],
   "source": [
    "driver=webdriver.Chrome(r\"C://chromedriver_win32/chromedriver.exe\")"
   ]
  },
  {
   "cell_type": "code",
   "execution_count": 41,
   "metadata": {},
   "outputs": [],
   "source": [
    "driver.get(\"https://www.glassdoor.co.in/Salaries/index.htm\")"
   ]
  },
  {
   "cell_type": "code",
   "execution_count": 42,
   "metadata": {},
   "outputs": [],
   "source": [
    "job=driver.find_element_by_id('KeywordSearch')\n",
    "job.send_keys('Data Scientist')"
   ]
  },
  {
   "cell_type": "code",
   "execution_count": 43,
   "metadata": {},
   "outputs": [],
   "source": [
    "loc=driver.find_element_by_id('LocationSearch')\n",
    "loc.send_keys('Noida')"
   ]
  },
  {
   "cell_type": "code",
   "execution_count": 44,
   "metadata": {},
   "outputs": [],
   "source": [
    "search_btn=driver.find_element_by_id('HeroSearchButton')\n",
    "search_btn.click()"
   ]
  },
  {
   "cell_type": "code",
   "execution_count": 80,
   "metadata": {},
   "outputs": [],
   "source": [
    "url=('https://www.glassdoor.co.in/Salaries/new-delhi-data-scientist-salary-SRCH_IL.0,9_IM1083_KO10,24.htm?clickSource=searchBtn')\n",
    "driver.get(url)"
   ]
  },
  {
   "cell_type": "code",
   "execution_count": 81,
   "metadata": {},
   "outputs": [],
   "source": [
    "company_names=[]\n",
    "number_of_salaries=[]\n",
    "average_salary=[]\n",
    "min_salary=[]\n",
    "max_salary=[]"
   ]
  },
  {
   "cell_type": "code",
   "execution_count": 82,
   "metadata": {},
   "outputs": [],
   "source": [
    "company_tags=driver.find_elements_by_xpath('//p[@class=\"m-0 \"]')"
   ]
  },
  {
   "cell_type": "code",
   "execution_count": 83,
   "metadata": {},
   "outputs": [
    {
     "data": {
      "text/plain": [
       "['Tata Consultancy Services',\n",
       " 'Accenture',\n",
       " 'Delhivery',\n",
       " 'IBM',\n",
       " 'Ericsson-Worldwide',\n",
       " 'UnitedHealth Group',\n",
       " 'Valiance Solutions',\n",
       " 'Innovaccer',\n",
       " 'EXL Service',\n",
       " 'Cognizant Technology Solutions']"
      ]
     },
     "execution_count": 83,
     "metadata": {},
     "output_type": "execute_result"
    }
   ],
   "source": [
    "for i in company_tags:\n",
    "    company=i.text\n",
    "    company_names.append(company)\n",
    "company_names=company_names[:10]\n",
    "company_names"
   ]
  },
  {
   "cell_type": "code",
   "execution_count": 84,
   "metadata": {},
   "outputs": [],
   "source": [
    "number_tags=driver.find_elements_by_xpath('//p[@class=\"css-1uyte9r css-1kuy7z7 m-0 \"]')"
   ]
  },
  {
   "cell_type": "code",
   "execution_count": 85,
   "metadata": {},
   "outputs": [
    {
     "data": {
      "text/plain": [
       "['14 salaries',\n",
       " '14 salaries',\n",
       " '14 salaries',\n",
       " '13 salaries',\n",
       " '12 salaries',\n",
       " '10 salaries',\n",
       " '9 salaries',\n",
       " '8 salaries',\n",
       " '7 salaries',\n",
       " '6 salaries']"
      ]
     },
     "execution_count": 85,
     "metadata": {},
     "output_type": "execute_result"
    }
   ],
   "source": [
    "for i in number_tags:\n",
    "    number=i.text\n",
    "    number_of_salaries.append(number)\n",
    "number_of_salaries=number_of_salaries[:10]\n",
    "number_of_salaries"
   ]
  },
  {
   "cell_type": "code",
   "execution_count": 86,
   "metadata": {},
   "outputs": [],
   "source": [
    "avg_tags=driver.find_elements_by_xpath('//div[@class=\"col-2 d-none d-md-flex flex-row justify-content-end\"]')"
   ]
  },
  {
   "cell_type": "code",
   "execution_count": 87,
   "metadata": {},
   "outputs": [
    {
     "data": {
      "text/plain": [
       "['₹ 6,01,000\\n/yr',\n",
       " '₹ 11,51,207\\n/yr',\n",
       " '₹ 12,34,207\\n/yr',\n",
       " '₹ 7,63,825\\n/yr',\n",
       " '₹ 7,32,209\\n/yr',\n",
       " '₹ 13,88,910\\n/yr',\n",
       " '₹ 8,18,515\\n/yr',\n",
       " '₹ 12,01,403\\n/yr',\n",
       " '₹ 11,90,000\\n/yr',\n",
       " '₹ 10,11,517\\n/yr']"
      ]
     },
     "execution_count": 87,
     "metadata": {},
     "output_type": "execute_result"
    }
   ],
   "source": [
    "for i in avg_tags:\n",
    "    avg=i.text\n",
    "    average_salary.append(avg)\n",
    "average_salary=average_salary[:10]\n",
    "average_salary"
   ]
  },
  {
   "cell_type": "code",
   "execution_count": 88,
   "metadata": {},
   "outputs": [],
   "source": [
    "min_tags=driver.find_elements_by_xpath('//div[@class=\"common__RangeBarStyle__values d-flex justify-content-between \"]/span[1]')"
   ]
  },
  {
   "cell_type": "code",
   "execution_count": 89,
   "metadata": {},
   "outputs": [
    {
     "data": {
      "text/plain": [
       "['₹336L',\n",
       " '₹579L',\n",
       " '₹452L',\n",
       " '₹589L',\n",
       " '₹350L',\n",
       " '₹1,050L',\n",
       " '₹504L',\n",
       " '₹623L',\n",
       " '₹578L',\n",
       " '₹796L']"
      ]
     },
     "execution_count": 89,
     "metadata": {},
     "output_type": "execute_result"
    }
   ],
   "source": [
    "for i in min_tags:\n",
    "    Min=i.text\n",
    "    min_salary.append(Min)\n",
    "min_salary=min_salary[:10]\n",
    "min_salary"
   ]
  },
  {
   "cell_type": "code",
   "execution_count": 90,
   "metadata": {},
   "outputs": [],
   "source": [
    "max_tags=driver.find_elements_by_xpath('//div[@class=\"common__RangeBarStyle__values d-flex justify-content-between \"]/span[2]')"
   ]
  },
  {
   "cell_type": "code",
   "execution_count": 91,
   "metadata": {},
   "outputs": [
    {
     "data": {
      "text/plain": [
       "['₹1,080L',\n",
       " '₹2,222L',\n",
       " '₹11,669L',\n",
       " '₹2,741L',\n",
       " '₹1,619L',\n",
       " '₹1,500L',\n",
       " '₹1,471L',\n",
       " '₹1,702L',\n",
       " '₹1,500L',\n",
       " '₹1,268L']"
      ]
     },
     "execution_count": 91,
     "metadata": {},
     "output_type": "execute_result"
    }
   ],
   "source": [
    "for i in max_tags:\n",
    "    Max=i.text\n",
    "    max_salary.append(Max)\n",
    "max_salary=max_salary[:10]\n",
    "max_salary"
   ]
  },
  {
   "cell_type": "code",
   "execution_count": 92,
   "metadata": {},
   "outputs": [],
   "source": [
    "jobs5=pd.DataFrame({})\n",
    "jobs5['company_names']=company_names\n",
    "jobs5['number_of_salaries']=number_of_salaries\n",
    "jobs5['average_salary']=average_salary\n",
    "jobs5['min_salary']=min_salary\n",
    "jobs5['max_salary']=max_salary"
   ]
  },
  {
   "cell_type": "code",
   "execution_count": 93,
   "metadata": {},
   "outputs": [
    {
     "data": {
      "text/html": [
       "<div>\n",
       "<style scoped>\n",
       "    .dataframe tbody tr th:only-of-type {\n",
       "        vertical-align: middle;\n",
       "    }\n",
       "\n",
       "    .dataframe tbody tr th {\n",
       "        vertical-align: top;\n",
       "    }\n",
       "\n",
       "    .dataframe thead th {\n",
       "        text-align: right;\n",
       "    }\n",
       "</style>\n",
       "<table border=\"1\" class=\"dataframe\">\n",
       "  <thead>\n",
       "    <tr style=\"text-align: right;\">\n",
       "      <th></th>\n",
       "      <th>company_names</th>\n",
       "      <th>number_of_salaries</th>\n",
       "      <th>average_salary</th>\n",
       "      <th>min_salary</th>\n",
       "      <th>max_salary</th>\n",
       "    </tr>\n",
       "  </thead>\n",
       "  <tbody>\n",
       "    <tr>\n",
       "      <th>0</th>\n",
       "      <td>Tata Consultancy Services</td>\n",
       "      <td>14 salaries</td>\n",
       "      <td>₹ 6,01,000\\n/yr</td>\n",
       "      <td>₹336L</td>\n",
       "      <td>₹1,080L</td>\n",
       "    </tr>\n",
       "    <tr>\n",
       "      <th>1</th>\n",
       "      <td>Accenture</td>\n",
       "      <td>14 salaries</td>\n",
       "      <td>₹ 11,51,207\\n/yr</td>\n",
       "      <td>₹579L</td>\n",
       "      <td>₹2,222L</td>\n",
       "    </tr>\n",
       "    <tr>\n",
       "      <th>2</th>\n",
       "      <td>Delhivery</td>\n",
       "      <td>14 salaries</td>\n",
       "      <td>₹ 12,34,207\\n/yr</td>\n",
       "      <td>₹452L</td>\n",
       "      <td>₹11,669L</td>\n",
       "    </tr>\n",
       "    <tr>\n",
       "      <th>3</th>\n",
       "      <td>IBM</td>\n",
       "      <td>13 salaries</td>\n",
       "      <td>₹ 7,63,825\\n/yr</td>\n",
       "      <td>₹589L</td>\n",
       "      <td>₹2,741L</td>\n",
       "    </tr>\n",
       "    <tr>\n",
       "      <th>4</th>\n",
       "      <td>Ericsson-Worldwide</td>\n",
       "      <td>12 salaries</td>\n",
       "      <td>₹ 7,32,209\\n/yr</td>\n",
       "      <td>₹350L</td>\n",
       "      <td>₹1,619L</td>\n",
       "    </tr>\n",
       "    <tr>\n",
       "      <th>5</th>\n",
       "      <td>UnitedHealth Group</td>\n",
       "      <td>10 salaries</td>\n",
       "      <td>₹ 13,88,910\\n/yr</td>\n",
       "      <td>₹1,050L</td>\n",
       "      <td>₹1,500L</td>\n",
       "    </tr>\n",
       "    <tr>\n",
       "      <th>6</th>\n",
       "      <td>Valiance Solutions</td>\n",
       "      <td>9 salaries</td>\n",
       "      <td>₹ 8,18,515\\n/yr</td>\n",
       "      <td>₹504L</td>\n",
       "      <td>₹1,471L</td>\n",
       "    </tr>\n",
       "    <tr>\n",
       "      <th>7</th>\n",
       "      <td>Innovaccer</td>\n",
       "      <td>8 salaries</td>\n",
       "      <td>₹ 12,01,403\\n/yr</td>\n",
       "      <td>₹623L</td>\n",
       "      <td>₹1,702L</td>\n",
       "    </tr>\n",
       "    <tr>\n",
       "      <th>8</th>\n",
       "      <td>EXL Service</td>\n",
       "      <td>7 salaries</td>\n",
       "      <td>₹ 11,90,000\\n/yr</td>\n",
       "      <td>₹578L</td>\n",
       "      <td>₹1,500L</td>\n",
       "    </tr>\n",
       "    <tr>\n",
       "      <th>9</th>\n",
       "      <td>Cognizant Technology Solutions</td>\n",
       "      <td>6 salaries</td>\n",
       "      <td>₹ 10,11,517\\n/yr</td>\n",
       "      <td>₹796L</td>\n",
       "      <td>₹1,268L</td>\n",
       "    </tr>\n",
       "  </tbody>\n",
       "</table>\n",
       "</div>"
      ],
      "text/plain": [
       "                    company_names number_of_salaries    average_salary  \\\n",
       "0       Tata Consultancy Services        14 salaries   ₹ 6,01,000\\n/yr   \n",
       "1                       Accenture        14 salaries  ₹ 11,51,207\\n/yr   \n",
       "2                       Delhivery        14 salaries  ₹ 12,34,207\\n/yr   \n",
       "3                             IBM        13 salaries   ₹ 7,63,825\\n/yr   \n",
       "4              Ericsson-Worldwide        12 salaries   ₹ 7,32,209\\n/yr   \n",
       "5              UnitedHealth Group        10 salaries  ₹ 13,88,910\\n/yr   \n",
       "6              Valiance Solutions         9 salaries   ₹ 8,18,515\\n/yr   \n",
       "7                      Innovaccer         8 salaries  ₹ 12,01,403\\n/yr   \n",
       "8                     EXL Service         7 salaries  ₹ 11,90,000\\n/yr   \n",
       "9  Cognizant Technology Solutions         6 salaries  ₹ 10,11,517\\n/yr   \n",
       "\n",
       "  min_salary max_salary  \n",
       "0      ₹336L    ₹1,080L  \n",
       "1      ₹579L    ₹2,222L  \n",
       "2      ₹452L   ₹11,669L  \n",
       "3      ₹589L    ₹2,741L  \n",
       "4      ₹350L    ₹1,619L  \n",
       "5    ₹1,050L    ₹1,500L  \n",
       "6      ₹504L    ₹1,471L  \n",
       "7      ₹623L    ₹1,702L  \n",
       "8      ₹578L    ₹1,500L  \n",
       "9      ₹796L    ₹1,268L  "
      ]
     },
     "execution_count": 93,
     "metadata": {},
     "output_type": "execute_result"
    }
   ],
   "source": [
    "jobs5"
   ]
  },
  {
   "cell_type": "code",
   "execution_count": 94,
   "metadata": {},
   "outputs": [],
   "source": [
    "driver.close()"
   ]
  },
  {
   "cell_type": "markdown",
   "metadata": {},
   "source": [
    "# Q6:Scrape data of first 100 sunglasses listings on flipkart.com"
   ]
  },
  {
   "cell_type": "code",
   "execution_count": 60,
   "metadata": {},
   "outputs": [],
   "source": [
    "driver=webdriver.Chrome(r\"C://chromedriver_win32/chromedriver.exe\")"
   ]
  },
  {
   "cell_type": "code",
   "execution_count": 61,
   "metadata": {},
   "outputs": [],
   "source": [
    "driver.get('https://www.flipkart.com/')"
   ]
  },
  {
   "cell_type": "code",
   "execution_count": 62,
   "metadata": {},
   "outputs": [],
   "source": [
    "flipkart=driver.find_element_by_xpath('//input[@class=\"_3704LK\"]')"
   ]
  },
  {
   "cell_type": "code",
   "execution_count": 63,
   "metadata": {},
   "outputs": [],
   "source": [
    "flipkart.send_keys('sunglasses')"
   ]
  },
  {
   "cell_type": "code",
   "execution_count": 65,
   "metadata": {},
   "outputs": [],
   "source": [
    "search_btn=driver.find_element_by_xpath('//button[@class=\"L0Z3Pu\"]')\n",
    "search_btn.click()"
   ]
  },
  {
   "cell_type": "code",
   "execution_count": 66,
   "metadata": {},
   "outputs": [],
   "source": [
    "url=('https://www.flipkart.com/search?q=sunglasses&otracker=search&otracker1=search&marketplace=FLIPKART&as-show=off&as=off')\n",
    "driver.get(url)"
   ]
  },
  {
   "cell_type": "code",
   "execution_count": 67,
   "metadata": {},
   "outputs": [],
   "source": [
    "Brand=[]\n",
    "Description=[]\n",
    "Price=[]\n",
    "Discount=[]"
   ]
  },
  {
   "cell_type": "code",
   "execution_count": 68,
   "metadata": {},
   "outputs": [],
   "source": [
    "brand_tags=driver.find_elements_by_xpath('//div[@class=\"_2WkVRV\"]')"
   ]
  },
  {
   "cell_type": "code",
   "execution_count": 69,
   "metadata": {},
   "outputs": [],
   "source": [
    "Brand1=[]\n",
    "for i in brand_tags:\n",
    "    brand=i.text\n",
    "    Brand1.append(brand)"
   ]
  },
  {
   "cell_type": "code",
   "execution_count": 70,
   "metadata": {},
   "outputs": [],
   "source": [
    "desc_tags=driver.find_elements_by_xpath('//a[@class=\"IRpwTa\" or class=\"IRpwTa _2-ICcC\"]')"
   ]
  },
  {
   "cell_type": "code",
   "execution_count": 71,
   "metadata": {},
   "outputs": [],
   "source": [
    "Description1=[]\n",
    "for i in desc_tags:\n",
    "    desc=i.text\n",
    "    Description1.append(desc)"
   ]
  },
  {
   "cell_type": "code",
   "execution_count": 72,
   "metadata": {},
   "outputs": [],
   "source": [
    "price_tags=driver.find_elements_by_xpath('//div[@class=\"_30jeq3\"]')"
   ]
  },
  {
   "cell_type": "code",
   "execution_count": 73,
   "metadata": {},
   "outputs": [],
   "source": [
    "Price1=[]\n",
    "for i in price_tags:\n",
    "    price=i.text\n",
    "    Price1.append(price)"
   ]
  },
  {
   "cell_type": "code",
   "execution_count": 74,
   "metadata": {},
   "outputs": [],
   "source": [
    "disc_tags=driver.find_elements_by_xpath('//div[@class=\"_3Ay6Sb\"]')"
   ]
  },
  {
   "cell_type": "code",
   "execution_count": 75,
   "metadata": {},
   "outputs": [],
   "source": [
    "Discount1=[]\n",
    "for i in disc_tags:\n",
    "    disc=i.text\n",
    "    Discount1.append(disc)"
   ]
  },
  {
   "cell_type": "code",
   "execution_count": 76,
   "metadata": {},
   "outputs": [],
   "source": [
    "#we got '40' results for this page, now moving to next page.. "
   ]
  },
  {
   "cell_type": "code",
   "execution_count": 77,
   "metadata": {},
   "outputs": [],
   "source": [
    "next_btn=driver.find_element_by_xpath('//a[@class=\"_1LKTO3\"]')\n",
    "next_btn.click()"
   ]
  },
  {
   "cell_type": "code",
   "execution_count": 78,
   "metadata": {},
   "outputs": [],
   "source": [
    "url=('https://www.flipkart.com/search?q=sunglasses&otracker=search&otracker1=search&marketplace=FLIPKART&as-show=off&as=off&page=2')\n",
    "driver.get(url)"
   ]
  },
  {
   "cell_type": "code",
   "execution_count": 79,
   "metadata": {},
   "outputs": [],
   "source": [
    "brand_tags=driver.find_elements_by_xpath('//div[@class=\"_2WkVRV\"]')\n",
    "Brand2=[]\n",
    "for i in brand_tags:\n",
    "    brand=i.text\n",
    "    Brand2.append(brand)"
   ]
  },
  {
   "cell_type": "code",
   "execution_count": 80,
   "metadata": {},
   "outputs": [],
   "source": [
    "desc_tags=driver.find_elements_by_xpath('//a[@class=\"IRpwTa\" or class=\"IRpwTa _2-ICcC\"]')\n",
    "Description2=[]\n",
    "for i in desc_tags:\n",
    "    desc=i.text\n",
    "    Description2.append(desc)"
   ]
  },
  {
   "cell_type": "code",
   "execution_count": 81,
   "metadata": {},
   "outputs": [],
   "source": [
    "price_tags=driver.find_elements_by_xpath('//div[@class=\"_30jeq3\"]')\n",
    "Price2=[]\n",
    "for i in price_tags:\n",
    "    price=i.text\n",
    "    Price2.append(price)"
   ]
  },
  {
   "cell_type": "code",
   "execution_count": 82,
   "metadata": {},
   "outputs": [],
   "source": [
    "disc_tags=driver.find_elements_by_xpath('//div[@class=\"_3Ay6Sb\"]')\n",
    "Discount2=[]\n",
    "for i in disc_tags:\n",
    "    disc=i.text\n",
    "    Discount2.append(disc)"
   ]
  },
  {
   "cell_type": "code",
   "execution_count": 83,
   "metadata": {},
   "outputs": [],
   "source": [
    "#we got total of '80' results for this page, now moving to next page.. "
   ]
  },
  {
   "cell_type": "code",
   "execution_count": 227,
   "metadata": {},
   "outputs": [],
   "source": [
    "next_btn=driver.find_element_by_xpath('//a[@class=\"_1LKTO3\"]')\n",
    "next_btn.click()"
   ]
  },
  {
   "cell_type": "code",
   "execution_count": 84,
   "metadata": {},
   "outputs": [],
   "source": [
    "url=('https://www.flipkart.com/search?q=sunglasses&otracker=search&otracker1=search&marketplace=FLIPKART&as-show=off&as=off&page=3')\n",
    "driver.get(url)"
   ]
  },
  {
   "cell_type": "code",
   "execution_count": 85,
   "metadata": {},
   "outputs": [],
   "source": [
    "brand_tags=driver.find_elements_by_xpath('//div[@class=\"_2WkVRV\"]')\n",
    "Brand3=[]\n",
    "for i in brand_tags:\n",
    "    brand=i.text\n",
    "    Brand3.append(brand)\n",
    "Brand3=Brand3[:20]"
   ]
  },
  {
   "cell_type": "code",
   "execution_count": 95,
   "metadata": {},
   "outputs": [],
   "source": [
    "desc_tags=driver.find_elements_by_xpath('//a[@class=\"IRpwTa\" or class=\"IRpwTa _2-ICcC\"]')\n",
    "Description3=[]\n",
    "for i in desc_tags:\n",
    "    desc=i.text\n",
    "    Description3.append(desc)\n",
    "Description3=Description3[:20]"
   ]
  },
  {
   "cell_type": "code",
   "execution_count": 87,
   "metadata": {},
   "outputs": [],
   "source": [
    "price_tags=driver.find_elements_by_xpath('//div[@class=\"_30jeq3\"]')\n",
    "Price3=[]\n",
    "for i in price_tags:\n",
    "    price=i.text\n",
    "    Price3.append(price)\n",
    "Price3=Price3[:20]"
   ]
  },
  {
   "cell_type": "code",
   "execution_count": 88,
   "metadata": {},
   "outputs": [],
   "source": [
    "disc_tags=driver.find_elements_by_xpath('//div[@class=\"_3Ay6Sb\"]')\n",
    "Discount3=[]\n",
    "for i in disc_tags:\n",
    "    disc=i.text\n",
    "    Discount3.append(disc)\n",
    "Discount3=Discount3[:20]"
   ]
  },
  {
   "cell_type": "code",
   "execution_count": 96,
   "metadata": {},
   "outputs": [],
   "source": [
    "Brand=Brand1+Brand2+Brand3\n",
    "Description=Description1+Description2+Description3\n",
    "Price=Price1+Price2+Price3\n",
    "Discount=Discount1+Discount2+Discount3"
   ]
  },
  {
   "cell_type": "code",
   "execution_count": 97,
   "metadata": {},
   "outputs": [
    {
     "data": {
      "text/html": [
       "<div>\n",
       "<style scoped>\n",
       "    .dataframe tbody tr th:only-of-type {\n",
       "        vertical-align: middle;\n",
       "    }\n",
       "\n",
       "    .dataframe tbody tr th {\n",
       "        vertical-align: top;\n",
       "    }\n",
       "\n",
       "    .dataframe thead th {\n",
       "        text-align: right;\n",
       "    }\n",
       "</style>\n",
       "<table border=\"1\" class=\"dataframe\">\n",
       "  <thead>\n",
       "    <tr style=\"text-align: right;\">\n",
       "      <th></th>\n",
       "      <th>Brand</th>\n",
       "      <th>Description</th>\n",
       "      <th>Price</th>\n",
       "      <th>Discount</th>\n",
       "    </tr>\n",
       "  </thead>\n",
       "  <tbody>\n",
       "    <tr>\n",
       "      <th>0</th>\n",
       "      <td>Aislin</td>\n",
       "      <td>UV Protection, Gradient Cat-eye Sunglasses (58)</td>\n",
       "      <td>₹485</td>\n",
       "      <td>68% off</td>\n",
       "    </tr>\n",
       "    <tr>\n",
       "      <th>1</th>\n",
       "      <td>PIRASO</td>\n",
       "      <td>UV Protection Round Sunglasses (Free Size)</td>\n",
       "      <td>₹209</td>\n",
       "      <td>82% off</td>\n",
       "    </tr>\n",
       "    <tr>\n",
       "      <th>2</th>\n",
       "      <td>Fastrack</td>\n",
       "      <td>UV Protection Wayfarer Sunglasses (Free Size)</td>\n",
       "      <td>₹758</td>\n",
       "      <td>15% off</td>\n",
       "    </tr>\n",
       "    <tr>\n",
       "      <th>3</th>\n",
       "      <td>PIRASO</td>\n",
       "      <td>UV Protection Aviator Sunglasses (Free Size)</td>\n",
       "      <td>₹349</td>\n",
       "      <td>78% off</td>\n",
       "    </tr>\n",
       "    <tr>\n",
       "      <th>4</th>\n",
       "      <td>Fastrack</td>\n",
       "      <td>UV Protection Rectangular Sunglasses (Free Size)</td>\n",
       "      <td>₹666</td>\n",
       "      <td>16% off</td>\n",
       "    </tr>\n",
       "    <tr>\n",
       "      <th>...</th>\n",
       "      <td>...</td>\n",
       "      <td>...</td>\n",
       "      <td>...</td>\n",
       "      <td>...</td>\n",
       "    </tr>\n",
       "    <tr>\n",
       "      <th>95</th>\n",
       "      <td>hipe</td>\n",
       "      <td>UV Protection Retro Square Sunglasses (88)</td>\n",
       "      <td>₹210</td>\n",
       "      <td>85% off</td>\n",
       "    </tr>\n",
       "    <tr>\n",
       "      <th>96</th>\n",
       "      <td>BKGE</td>\n",
       "      <td>UV Protection Rectangular Sunglasses (Free Size)</td>\n",
       "      <td>₹282</td>\n",
       "      <td>74% off</td>\n",
       "    </tr>\n",
       "    <tr>\n",
       "      <th>97</th>\n",
       "      <td>ROYAL SON</td>\n",
       "      <td>UV Protection, Gradient Wayfarer, Over-sized S...</td>\n",
       "      <td>₹399</td>\n",
       "      <td>73% off</td>\n",
       "    </tr>\n",
       "    <tr>\n",
       "      <th>98</th>\n",
       "      <td>Fravy</td>\n",
       "      <td>UV Protection Aviator Sunglasses (54)</td>\n",
       "      <td>₹289</td>\n",
       "      <td>80% off</td>\n",
       "    </tr>\n",
       "    <tr>\n",
       "      <th>99</th>\n",
       "      <td>ROYAL SON</td>\n",
       "      <td>UV Protection Wayfarer Sunglasses (Free Size)</td>\n",
       "      <td>₹599</td>\n",
       "      <td>70% off</td>\n",
       "    </tr>\n",
       "  </tbody>\n",
       "</table>\n",
       "<p>100 rows × 4 columns</p>\n",
       "</div>"
      ],
      "text/plain": [
       "        Brand                                        Description Price  \\\n",
       "0      Aislin    UV Protection, Gradient Cat-eye Sunglasses (58)  ₹485   \n",
       "1      PIRASO         UV Protection Round Sunglasses (Free Size)  ₹209   \n",
       "2    Fastrack      UV Protection Wayfarer Sunglasses (Free Size)  ₹758   \n",
       "3      PIRASO       UV Protection Aviator Sunglasses (Free Size)  ₹349   \n",
       "4    Fastrack   UV Protection Rectangular Sunglasses (Free Size)  ₹666   \n",
       "..        ...                                                ...   ...   \n",
       "95       hipe         UV Protection Retro Square Sunglasses (88)  ₹210   \n",
       "96       BKGE   UV Protection Rectangular Sunglasses (Free Size)  ₹282   \n",
       "97  ROYAL SON  UV Protection, Gradient Wayfarer, Over-sized S...  ₹399   \n",
       "98      Fravy              UV Protection Aviator Sunglasses (54)  ₹289   \n",
       "99  ROYAL SON      UV Protection Wayfarer Sunglasses (Free Size)  ₹599   \n",
       "\n",
       "   Discount  \n",
       "0   68% off  \n",
       "1   82% off  \n",
       "2   15% off  \n",
       "3   78% off  \n",
       "4   16% off  \n",
       "..      ...  \n",
       "95  85% off  \n",
       "96  74% off  \n",
       "97  73% off  \n",
       "98  80% off  \n",
       "99  70% off  \n",
       "\n",
       "[100 rows x 4 columns]"
      ]
     },
     "execution_count": 97,
     "metadata": {},
     "output_type": "execute_result"
    }
   ],
   "source": [
    "sunglasses=pd.DataFrame({})\n",
    "sunglasses['Brand']=Brand\n",
    "sunglasses['Description']=Description\n",
    "sunglasses['Price']=Price\n",
    "sunglasses['Discount']=Discount\n",
    "sunglasses"
   ]
  },
  {
   "cell_type": "code",
   "execution_count": 98,
   "metadata": {},
   "outputs": [],
   "source": [
    "driver.close()"
   ]
  },
  {
   "cell_type": "markdown",
   "metadata": {},
   "source": [
    "# Q7:Scrape 100 reviews data from flipkart.com for iphone11 phone."
   ]
  },
  {
   "cell_type": "code",
   "execution_count": 44,
   "metadata": {},
   "outputs": [],
   "source": [
    "driver=webdriver.Chrome(r\"C://chromedriver_win32/chromedriver.exe\")"
   ]
  },
  {
   "cell_type": "code",
   "execution_count": 45,
   "metadata": {},
   "outputs": [],
   "source": [
    "driver.get('https://www.flipkart.com/apple-iphone-11-black-64-gb-includes-earpods-power-adapter/product-reviews/itm0f37c2240b217?pid=MOBFKCTSVZAXUHGR&lid=LSTMOBFKCTSVZAXUHGREPBFGI&marketplace=FLIPKART')"
   ]
  },
  {
   "cell_type": "code",
   "execution_count": 46,
   "metadata": {},
   "outputs": [],
   "source": [
    "Ratings=[]\n",
    "Review_summary=[]\n",
    "full_review=[]"
   ]
  },
  {
   "cell_type": "code",
   "execution_count": 47,
   "metadata": {},
   "outputs": [],
   "source": [
    "rating_tags=driver.find_elements_by_xpath('//div[@class=\"_3LWZlK _1BLPMq\"]')"
   ]
  },
  {
   "cell_type": "code",
   "execution_count": 48,
   "metadata": {},
   "outputs": [],
   "source": [
    "Ratings1=[]\n",
    "for i in rating_tags:\n",
    "    Ratings1.append(i.text)"
   ]
  },
  {
   "cell_type": "code",
   "execution_count": 49,
   "metadata": {},
   "outputs": [],
   "source": [
    "summary_tags=driver.find_elements_by_xpath(\"//p[@class='_2-N8zT']\")"
   ]
  },
  {
   "cell_type": "code",
   "execution_count": 50,
   "metadata": {},
   "outputs": [],
   "source": [
    "Summary1=[]\n",
    "for i in summary_tags:\n",
    "    Summary1.append(i.text)"
   ]
  },
  {
   "cell_type": "code",
   "execution_count": 51,
   "metadata": {},
   "outputs": [],
   "source": [
    "review_tags=driver.find_elements_by_xpath(\"//div[@class='t-ZTKy']\")"
   ]
  },
  {
   "cell_type": "code",
   "execution_count": 52,
   "metadata": {},
   "outputs": [],
   "source": [
    "Review1=[]\n",
    "for i in review_tags:\n",
    "    Review1.append(i.text)"
   ]
  },
  {
   "cell_type": "code",
   "execution_count": 53,
   "metadata": {},
   "outputs": [],
   "source": [
    "#next button"
   ]
  },
  {
   "cell_type": "code",
   "execution_count": 56,
   "metadata": {},
   "outputs": [],
   "source": [
    "driver.get(\"https://www.flipkart.com/apple-iphone-11-black-64-gb-includes-earpods-power-adapter/product-reviews/itm0f37c2240b217?pid=MOBFKCTSVZAXUHGR&lid=LSTMOBFKCTSVZAXUHGREPBFGI&marketplace=FLIPKART&page=2\")"
   ]
  },
  {
   "cell_type": "code",
   "execution_count": 59,
   "metadata": {},
   "outputs": [],
   "source": [
    "rating_tags=driver.find_elements_by_xpath('//div[@class=\"_3LWZlK _1BLPMq\"]')\n",
    "Ratings2=[]\n",
    "for i in rating_tags:\n",
    "    Ratings2.append(i.text)"
   ]
  },
  {
   "cell_type": "code",
   "execution_count": 61,
   "metadata": {},
   "outputs": [],
   "source": [
    "summary_tags=driver.find_elements_by_xpath(\"//p[@class='_2-N8zT']\")\n",
    "Summary2=[]\n",
    "for i in summary_tags:\n",
    "    Summary2.append(i.text)"
   ]
  },
  {
   "cell_type": "code",
   "execution_count": 62,
   "metadata": {},
   "outputs": [],
   "source": [
    "review_tags=driver.find_elements_by_xpath(\"//div[@class='t-ZTKy']\")\n",
    "Review2=[]\n",
    "for i in review_tags:\n",
    "    Review2.append(i.text)"
   ]
  },
  {
   "cell_type": "code",
   "execution_count": 63,
   "metadata": {},
   "outputs": [],
   "source": [
    "#next button"
   ]
  },
  {
   "cell_type": "code",
   "execution_count": 64,
   "metadata": {},
   "outputs": [],
   "source": [
    "driver.get(\"https://www.flipkart.com/apple-iphone-11-black-64-gb-includes-earpods-power-adapter/product-reviews/itm0f37c2240b217?pid=MOBFKCTSVZAXUHGR&lid=LSTMOBFKCTSVZAXUHGREPBFGI&marketplace=FLIPKART&page=3\")"
   ]
  },
  {
   "cell_type": "code",
   "execution_count": 65,
   "metadata": {},
   "outputs": [],
   "source": [
    "rating_tags=driver.find_elements_by_xpath('//div[@class=\"_3LWZlK _1BLPMq\"]')\n",
    "Ratings3=[]\n",
    "for i in rating_tags:\n",
    "    Ratings3.append(i.text)"
   ]
  },
  {
   "cell_type": "code",
   "execution_count": 66,
   "metadata": {},
   "outputs": [],
   "source": [
    "summary_tags=driver.find_elements_by_xpath(\"//p[@class='_2-N8zT']\")\n",
    "Summary3=[]\n",
    "for i in summary_tags:\n",
    "    Summary3.append(i.text)"
   ]
  },
  {
   "cell_type": "code",
   "execution_count": 67,
   "metadata": {},
   "outputs": [],
   "source": [
    "review_tags=driver.find_elements_by_xpath(\"//div[@class='t-ZTKy']\")\n",
    "Review3=[]\n",
    "for i in review_tags:\n",
    "    Review3.append(i.text)"
   ]
  },
  {
   "cell_type": "code",
   "execution_count": 68,
   "metadata": {},
   "outputs": [],
   "source": [
    "#next button"
   ]
  },
  {
   "cell_type": "code",
   "execution_count": 69,
   "metadata": {},
   "outputs": [],
   "source": [
    "driver.get(\"https://www.flipkart.com/apple-iphone-11-black-64-gb-includes-earpods-power-adapter/product-reviews/itm0f37c2240b217?pid=MOBFKCTSVZAXUHGR&lid=LSTMOBFKCTSVZAXUHGREPBFGI&marketplace=FLIPKART&page=4\")"
   ]
  },
  {
   "cell_type": "code",
   "execution_count": 70,
   "metadata": {},
   "outputs": [],
   "source": [
    "rating_tags=driver.find_elements_by_xpath('//div[@class=\"_3LWZlK _1BLPMq\"]')\n",
    "Ratings4=[]\n",
    "for i in rating_tags:\n",
    "    Ratings4.append(i.text)"
   ]
  },
  {
   "cell_type": "code",
   "execution_count": 71,
   "metadata": {},
   "outputs": [],
   "source": [
    "summary_tags=driver.find_elements_by_xpath(\"//p[@class='_2-N8zT']\")\n",
    "Summary4=[]\n",
    "for i in summary_tags:\n",
    "    Summary4.append(i.text)"
   ]
  },
  {
   "cell_type": "code",
   "execution_count": 72,
   "metadata": {},
   "outputs": [],
   "source": [
    "review_tags=driver.find_elements_by_xpath(\"//div[@class='t-ZTKy']\")\n",
    "Review4=[]\n",
    "for i in review_tags:\n",
    "    Review4.append(i.text)"
   ]
  },
  {
   "cell_type": "code",
   "execution_count": 73,
   "metadata": {},
   "outputs": [],
   "source": [
    "#next"
   ]
  },
  {
   "cell_type": "code",
   "execution_count": 74,
   "metadata": {},
   "outputs": [],
   "source": [
    "driver.get(\"https://www.flipkart.com/apple-iphone-11-black-64-gb-includes-earpods-power-adapter/product-reviews/itm0f37c2240b217?pid=MOBFKCTSVZAXUHGR&lid=LSTMOBFKCTSVZAXUHGREPBFGI&marketplace=FLIPKART&page=5\")"
   ]
  },
  {
   "cell_type": "code",
   "execution_count": 75,
   "metadata": {},
   "outputs": [],
   "source": [
    "rating_tags=driver.find_elements_by_xpath('//div[@class=\"_3LWZlK _1BLPMq\"]')\n",
    "Ratings5=[]\n",
    "for i in rating_tags:\n",
    "    Ratings5.append(i.text)"
   ]
  },
  {
   "cell_type": "code",
   "execution_count": 76,
   "metadata": {},
   "outputs": [],
   "source": [
    "summary_tags=driver.find_elements_by_xpath(\"//p[@class='_2-N8zT']\")\n",
    "Summary5=[]\n",
    "for i in summary_tags:\n",
    "    Summary5.append(i.text)"
   ]
  },
  {
   "cell_type": "code",
   "execution_count": 77,
   "metadata": {},
   "outputs": [],
   "source": [
    "review_tags=driver.find_elements_by_xpath(\"//div[@class='t-ZTKy']\")\n",
    "Review5=[]\n",
    "for i in review_tags:\n",
    "    Review5.append(i.text)"
   ]
  },
  {
   "cell_type": "code",
   "execution_count": 78,
   "metadata": {},
   "outputs": [],
   "source": [
    "#next"
   ]
  },
  {
   "cell_type": "code",
   "execution_count": 79,
   "metadata": {},
   "outputs": [],
   "source": [
    "driver.get(\"https://www.flipkart.com/apple-iphone-11-black-64-gb-includes-earpods-power-adapter/product-reviews/itm0f37c2240b217?pid=MOBFKCTSVZAXUHGR&lid=LSTMOBFKCTSVZAXUHGREPBFGI&marketplace=FLIPKART&page=6\")"
   ]
  },
  {
   "cell_type": "code",
   "execution_count": 81,
   "metadata": {},
   "outputs": [],
   "source": [
    "rating_tags=driver.find_elements_by_xpath('//div[@class=\"_3LWZlK _1BLPMq\"]')\n",
    "Ratings6=[]\n",
    "for i in rating_tags:\n",
    "    Ratings6.append(i.text)"
   ]
  },
  {
   "cell_type": "code",
   "execution_count": 82,
   "metadata": {},
   "outputs": [],
   "source": [
    "summary_tags=driver.find_elements_by_xpath(\"//p[@class='_2-N8zT']\")\n",
    "Summary6=[]\n",
    "for i in summary_tags:\n",
    "    Summary6.append(i.text)"
   ]
  },
  {
   "cell_type": "code",
   "execution_count": 83,
   "metadata": {},
   "outputs": [],
   "source": [
    "review_tags=driver.find_elements_by_xpath(\"//div[@class='t-ZTKy']\")\n",
    "Review6=[]\n",
    "for i in review_tags:\n",
    "    Review6.append(i.text)"
   ]
  },
  {
   "cell_type": "code",
   "execution_count": 84,
   "metadata": {},
   "outputs": [],
   "source": [
    "#next"
   ]
  },
  {
   "cell_type": "code",
   "execution_count": 85,
   "metadata": {},
   "outputs": [],
   "source": [
    "driver.get(\"https://www.flipkart.com/apple-iphone-11-black-64-gb-includes-earpods-power-adapter/product-reviews/itm0f37c2240b217?pid=MOBFKCTSVZAXUHGR&lid=LSTMOBFKCTSVZAXUHGREPBFGI&marketplace=FLIPKART&page=7\")"
   ]
  },
  {
   "cell_type": "code",
   "execution_count": 86,
   "metadata": {},
   "outputs": [],
   "source": [
    "rating_tags=driver.find_elements_by_xpath('//div[@class=\"_3LWZlK _1BLPMq\"]')\n",
    "Ratings7=[]\n",
    "for i in rating_tags:\n",
    "    Ratings7.append(i.text)"
   ]
  },
  {
   "cell_type": "code",
   "execution_count": 87,
   "metadata": {},
   "outputs": [],
   "source": [
    "summary_tags=driver.find_elements_by_xpath(\"//p[@class='_2-N8zT']\")\n",
    "Summary7=[]\n",
    "for i in summary_tags:\n",
    "    Summary7.append(i.text)"
   ]
  },
  {
   "cell_type": "code",
   "execution_count": 88,
   "metadata": {},
   "outputs": [],
   "source": [
    "review_tags=driver.find_elements_by_xpath(\"//div[@class='t-ZTKy']\")\n",
    "Review7=[]\n",
    "for i in review_tags:\n",
    "    Review7.append(i.text)"
   ]
  },
  {
   "cell_type": "code",
   "execution_count": 89,
   "metadata": {},
   "outputs": [],
   "source": [
    "#next"
   ]
  },
  {
   "cell_type": "code",
   "execution_count": 90,
   "metadata": {},
   "outputs": [],
   "source": [
    "driver.get(\"https://www.flipkart.com/apple-iphone-11-black-64-gb-includes-earpods-power-adapter/product-reviews/itm0f37c2240b217?pid=MOBFKCTSVZAXUHGR&lid=LSTMOBFKCTSVZAXUHGREPBFGI&marketplace=FLIPKART&page=8\")"
   ]
  },
  {
   "cell_type": "code",
   "execution_count": 91,
   "metadata": {},
   "outputs": [],
   "source": [
    "rating_tags=driver.find_elements_by_xpath('//div[@class=\"_3LWZlK _1BLPMq\"]')\n",
    "Ratings8=[]\n",
    "for i in rating_tags:\n",
    "    Ratings8.append(i.text)"
   ]
  },
  {
   "cell_type": "code",
   "execution_count": 92,
   "metadata": {},
   "outputs": [],
   "source": [
    "summary_tags=driver.find_elements_by_xpath(\"//p[@class='_2-N8zT']\")\n",
    "Summary8=[]\n",
    "for i in summary_tags:\n",
    "    Summary8.append(i.text)"
   ]
  },
  {
   "cell_type": "code",
   "execution_count": 93,
   "metadata": {},
   "outputs": [],
   "source": [
    "review_tags=driver.find_elements_by_xpath(\"//div[@class='t-ZTKy']\")\n",
    "Review8=[]\n",
    "for i in review_tags:\n",
    "    Review8.append(i.text)"
   ]
  },
  {
   "cell_type": "code",
   "execution_count": 94,
   "metadata": {},
   "outputs": [],
   "source": [
    "#next"
   ]
  },
  {
   "cell_type": "code",
   "execution_count": 95,
   "metadata": {},
   "outputs": [],
   "source": [
    "driver.get(\"https://www.flipkart.com/apple-iphone-11-black-64-gb-includes-earpods-power-adapter/product-reviews/itm0f37c2240b217?pid=MOBFKCTSVZAXUHGR&lid=LSTMOBFKCTSVZAXUHGREPBFGI&marketplace=FLIPKART&page=9\")"
   ]
  },
  {
   "cell_type": "code",
   "execution_count": 96,
   "metadata": {},
   "outputs": [],
   "source": [
    "rating_tags=driver.find_elements_by_xpath('//div[@class=\"_3LWZlK _1BLPMq\"]')\n",
    "Ratings9=[]\n",
    "for i in rating_tags:\n",
    "    Ratings9.append(i.text)"
   ]
  },
  {
   "cell_type": "code",
   "execution_count": 97,
   "metadata": {},
   "outputs": [],
   "source": [
    "summary_tags=driver.find_elements_by_xpath(\"//p[@class='_2-N8zT']\")\n",
    "Summary9=[]\n",
    "for i in summary_tags:\n",
    "    Summary9.append(i.text)"
   ]
  },
  {
   "cell_type": "code",
   "execution_count": 98,
   "metadata": {},
   "outputs": [],
   "source": [
    "review_tags=driver.find_elements_by_xpath(\"//div[@class='t-ZTKy']\")\n",
    "Review9=[]\n",
    "for i in review_tags:\n",
    "    Review9.append(i.text)"
   ]
  },
  {
   "cell_type": "code",
   "execution_count": 99,
   "metadata": {},
   "outputs": [],
   "source": [
    "#next"
   ]
  },
  {
   "cell_type": "code",
   "execution_count": 100,
   "metadata": {},
   "outputs": [],
   "source": [
    "driver.get(\"https://www.flipkart.com/apple-iphone-11-black-64-gb-includes-earpods-power-adapter/product-reviews/itm0f37c2240b217?pid=MOBFKCTSVZAXUHGR&lid=LSTMOBFKCTSVZAXUHGREPBFGI&marketplace=FLIPKART&page=10\")"
   ]
  },
  {
   "cell_type": "code",
   "execution_count": 101,
   "metadata": {},
   "outputs": [],
   "source": [
    "rating_tags=driver.find_elements_by_xpath('//div[@class=\"_3LWZlK _1BLPMq\"]')\n",
    "Ratings10=[]\n",
    "for i in rating_tags:\n",
    "    Ratings10.append(i.text)"
   ]
  },
  {
   "cell_type": "code",
   "execution_count": 102,
   "metadata": {},
   "outputs": [],
   "source": [
    "summary_tags=driver.find_elements_by_xpath(\"//p[@class='_2-N8zT']\")\n",
    "Summary10=[]\n",
    "for i in summary_tags:\n",
    "    Summary10.append(i.text)"
   ]
  },
  {
   "cell_type": "code",
   "execution_count": 103,
   "metadata": {},
   "outputs": [],
   "source": [
    "review_tags=driver.find_elements_by_xpath(\"//div[@class='t-ZTKy']\")\n",
    "Review10=[]\n",
    "for i in review_tags:\n",
    "    Review10.append(i.text)"
   ]
  },
  {
   "cell_type": "code",
   "execution_count": 114,
   "metadata": {},
   "outputs": [],
   "source": [
    "Ratings=Ratings1+Ratings2+Ratings3+Ratings4+Ratings5+Ratings6+Ratings7+Ratings8+Ratings9+Ratings10\n",
    "Review_summary=Summary1+Summary2+Summary3+Summary4+Summary5+Summary6+Summary7+Summary8+Summary9+Summary10\n",
    "full_review=Review1+Review2+Review3+Review4+Review5+Review6+Review7+Review8+Review9+Review10\n",
    "\n",
    "apple=pd.DataFrame({})\n",
    "#apple['Ratings']=Ratings\n",
    "#apple['Review_summary']=Review_summary\n",
    "apple['Full_review']=full_review"
   ]
  },
  {
   "cell_type": "code",
   "execution_count": 115,
   "metadata": {},
   "outputs": [
    {
     "data": {
      "text/html": [
       "<div>\n",
       "<style scoped>\n",
       "    .dataframe tbody tr th:only-of-type {\n",
       "        vertical-align: middle;\n",
       "    }\n",
       "\n",
       "    .dataframe tbody tr th {\n",
       "        vertical-align: top;\n",
       "    }\n",
       "\n",
       "    .dataframe thead th {\n",
       "        text-align: right;\n",
       "    }\n",
       "</style>\n",
       "<table border=\"1\" class=\"dataframe\">\n",
       "  <thead>\n",
       "    <tr style=\"text-align: right;\">\n",
       "      <th></th>\n",
       "      <th>Full_review</th>\n",
       "    </tr>\n",
       "  </thead>\n",
       "  <tbody>\n",
       "    <tr>\n",
       "      <th>0</th>\n",
       "      <td>The Best Phone for the Money\\n\\nThe iPhone 11 ...</td>\n",
       "    </tr>\n",
       "    <tr>\n",
       "      <th>1</th>\n",
       "      <td>Amazing phone with great cameras and better ba...</td>\n",
       "    </tr>\n",
       "    <tr>\n",
       "      <th>2</th>\n",
       "      <td>Previously I was using one plus 3t it was a gr...</td>\n",
       "    </tr>\n",
       "    <tr>\n",
       "      <th>3</th>\n",
       "      <td>Amazing Powerful and Durable Gadget.\\n\\nI’m am...</td>\n",
       "    </tr>\n",
       "    <tr>\n",
       "      <th>4</th>\n",
       "      <td>iphone 11 is a very good phone to buy only if ...</td>\n",
       "    </tr>\n",
       "    <tr>\n",
       "      <th>...</th>\n",
       "      <td>...</td>\n",
       "    </tr>\n",
       "    <tr>\n",
       "      <th>95</th>\n",
       "      <td>I got this beast today. And I must say the pic...</td>\n",
       "    </tr>\n",
       "    <tr>\n",
       "      <th>96</th>\n",
       "      <td>iPhone is delivered on time. Display is great ...</td>\n",
       "    </tr>\n",
       "    <tr>\n",
       "      <th>97</th>\n",
       "      <td>I will just say its an awesome phone. Starting...</td>\n",
       "    </tr>\n",
       "    <tr>\n",
       "      <th>98</th>\n",
       "      <td>Just go for it without a second thought, if yo...</td>\n",
       "    </tr>\n",
       "    <tr>\n",
       "      <th>99</th>\n",
       "      <td>I really liked the budget iPhone. First I thou...</td>\n",
       "    </tr>\n",
       "  </tbody>\n",
       "</table>\n",
       "<p>100 rows × 1 columns</p>\n",
       "</div>"
      ],
      "text/plain": [
       "                                          Full_review\n",
       "0   The Best Phone for the Money\\n\\nThe iPhone 11 ...\n",
       "1   Amazing phone with great cameras and better ba...\n",
       "2   Previously I was using one plus 3t it was a gr...\n",
       "3   Amazing Powerful and Durable Gadget.\\n\\nI’m am...\n",
       "4   iphone 11 is a very good phone to buy only if ...\n",
       "..                                                ...\n",
       "95  I got this beast today. And I must say the pic...\n",
       "96  iPhone is delivered on time. Display is great ...\n",
       "97  I will just say its an awesome phone. Starting...\n",
       "98  Just go for it without a second thought, if yo...\n",
       "99  I really liked the budget iPhone. First I thou...\n",
       "\n",
       "[100 rows x 1 columns]"
      ]
     },
     "execution_count": 115,
     "metadata": {},
     "output_type": "execute_result"
    }
   ],
   "source": [
    "apple"
   ]
  },
  {
   "cell_type": "code",
   "execution_count": null,
   "metadata": {},
   "outputs": [],
   "source": [
    "driver.close()"
   ]
  },
  {
   "cell_type": "markdown",
   "metadata": {},
   "source": [
    "# Q8: Scrape data for first 100 sneakers you find when you visit flipkart.com and search for “sneakers” in the search field."
   ]
  },
  {
   "cell_type": "code",
   "execution_count": 2,
   "metadata": {},
   "outputs": [],
   "source": [
    "driver=webdriver.Chrome(r\"C://chromedriver_win32/chromedriver.exe\")"
   ]
  },
  {
   "cell_type": "code",
   "execution_count": 3,
   "metadata": {},
   "outputs": [],
   "source": [
    "driver.get('https://www.flipkart.com/')"
   ]
  },
  {
   "cell_type": "code",
   "execution_count": 4,
   "metadata": {},
   "outputs": [],
   "source": [
    "flipkart=driver.find_element_by_xpath('//input[@class=\"_3704LK\"]')\n",
    "flipkart.send_keys('sneakers')"
   ]
  },
  {
   "cell_type": "code",
   "execution_count": 5,
   "metadata": {},
   "outputs": [],
   "source": [
    "search_btn=driver.find_element_by_xpath('//button[@class=\"L0Z3Pu\"]')\n",
    "search_btn.click()"
   ]
  },
  {
   "cell_type": "code",
   "execution_count": 6,
   "metadata": {},
   "outputs": [],
   "source": [
    "url=('https://www.flipkart.com/search?q=sneakers&otracker=search&otracker1=search&marketplace=FLIPKART&as-show=on&as=off')\n",
    "driver.get(url)"
   ]
  },
  {
   "cell_type": "code",
   "execution_count": 7,
   "metadata": {},
   "outputs": [],
   "source": [
    "Brand=[]\n",
    "Description=[]\n",
    "Price=[]\n",
    "Discount=[]"
   ]
  },
  {
   "cell_type": "code",
   "execution_count": 8,
   "metadata": {},
   "outputs": [],
   "source": [
    "brand_tags=driver.find_elements_by_xpath('//div[@class=\"_2WkVRV\"]')\n",
    "Brand1=[]\n",
    "for i in brand_tags:\n",
    "    brand=i.text\n",
    "    Brand1.append(brand)"
   ]
  },
  {
   "cell_type": "code",
   "execution_count": 9,
   "metadata": {},
   "outputs": [],
   "source": [
    "desc_tags=driver.find_elements_by_xpath('//a[@class=\"IRpwTa\"]')\n",
    "Description1a=[]\n",
    "for i in desc_tags:\n",
    "    desc=i.text\n",
    "    Description1a.append(desc)"
   ]
  },
  {
   "cell_type": "code",
   "execution_count": 10,
   "metadata": {},
   "outputs": [],
   "source": [
    "desc_tags=driver.find_elements_by_xpath('//a[@class=\"IRpwTa _2-ICcC\"]')\n",
    "Description1b=[]\n",
    "for i in desc_tags:\n",
    "    desc=i.text\n",
    "    Description1b.append(desc)"
   ]
  },
  {
   "cell_type": "code",
   "execution_count": 11,
   "metadata": {},
   "outputs": [],
   "source": [
    "price_tags=driver.find_elements_by_xpath('//div[@class=\"_30jeq3\"]')\n",
    "Price1=[]\n",
    "for i in price_tags:\n",
    "    price=i.text\n",
    "    Price1.append(price)"
   ]
  },
  {
   "cell_type": "code",
   "execution_count": 12,
   "metadata": {},
   "outputs": [],
   "source": [
    "disc_tags=driver.find_elements_by_xpath('//div[@class=\"_3Ay6Sb\"]')\n",
    "Discount1=[]\n",
    "for i in disc_tags:\n",
    "    disc=i.text\n",
    "    Discount1.append(disc)"
   ]
  },
  {
   "cell_type": "code",
   "execution_count": 13,
   "metadata": {},
   "outputs": [],
   "source": [
    "#we got '40' results for this page, now moving to next page.. "
   ]
  },
  {
   "cell_type": "code",
   "execution_count": 14,
   "metadata": {},
   "outputs": [],
   "source": [
    "next_btn=driver.find_element_by_xpath('//a[@class=\"_1LKTO3\"]')\n",
    "next_btn.click()"
   ]
  },
  {
   "cell_type": "code",
   "execution_count": 34,
   "metadata": {},
   "outputs": [],
   "source": [
    "url=('https://www.flipkart.com/search?q=sneakers&otracker=search&otracker1=search&marketplace=FLIPKART&as-show=on&as=off&page=2')\n",
    "driver.get(url)"
   ]
  },
  {
   "cell_type": "code",
   "execution_count": 35,
   "metadata": {},
   "outputs": [],
   "source": [
    "brand_tags=driver.find_elements_by_xpath('//div[@class=\"_2WkVRV\"]')\n",
    "Brand2=[]\n",
    "for i in brand_tags:\n",
    "    brand=i.text\n",
    "    Brand2.append(brand)"
   ]
  },
  {
   "cell_type": "code",
   "execution_count": 36,
   "metadata": {},
   "outputs": [],
   "source": [
    "desc_tags=driver.find_elements_by_xpath('//a[@class=\"IRpwTa\"]')\n",
    "Description2a=[]\n",
    "for i in desc_tags:\n",
    "    desc=i.text\n",
    "    Description2a.append(desc)"
   ]
  },
  {
   "cell_type": "code",
   "execution_count": 37,
   "metadata": {},
   "outputs": [],
   "source": [
    "desc_tags=driver.find_elements_by_xpath('//a[@class=\"IRpwTa _2-ICcC\"]')\n",
    "Description2b=[]\n",
    "for i in desc_tags:\n",
    "    desc=i.text\n",
    "    Description2b.append(desc)"
   ]
  },
  {
   "cell_type": "code",
   "execution_count": 38,
   "metadata": {},
   "outputs": [],
   "source": [
    "price_tags=driver.find_elements_by_xpath('//div[@class=\"_30jeq3\"]')\n",
    "Price2=[]\n",
    "for i in price_tags:\n",
    "    price=i.text\n",
    "    Price2.append(price)"
   ]
  },
  {
   "cell_type": "code",
   "execution_count": 39,
   "metadata": {},
   "outputs": [],
   "source": [
    "disc_tags=driver.find_elements_by_xpath('//div[@class=\"_3Ay6Sb\"]')\n",
    "Discount2=[]\n",
    "for i in disc_tags:\n",
    "    disc=i.text\n",
    "    Discount2.append(disc)"
   ]
  },
  {
   "cell_type": "code",
   "execution_count": 21,
   "metadata": {},
   "outputs": [],
   "source": [
    "#we got total of '80' results for this page, now moving to next page.. "
   ]
  },
  {
   "cell_type": "code",
   "execution_count": 22,
   "metadata": {},
   "outputs": [],
   "source": [
    "next_btn=driver.find_element_by_xpath('//a[@class=\"_1LKTO3\"]')\n",
    "next_btn.click()"
   ]
  },
  {
   "cell_type": "code",
   "execution_count": 23,
   "metadata": {},
   "outputs": [],
   "source": [
    "url=('https://www.flipkart.com/search?q=sneakers&otracker=search&otracker1=search&marketplace=FLIPKART&as-show=on&as=off&page=3')\n",
    "driver.get(url)"
   ]
  },
  {
   "cell_type": "code",
   "execution_count": 24,
   "metadata": {},
   "outputs": [],
   "source": [
    "brand_tags=driver.find_elements_by_xpath('//div[@class=\"_2WkVRV\"]')\n",
    "Brand3=[]\n",
    "for i in brand_tags:\n",
    "    brand=i.text\n",
    "    Brand3.append(brand)\n",
    "Brand3=Brand3[:20]"
   ]
  },
  {
   "cell_type": "code",
   "execution_count": 25,
   "metadata": {},
   "outputs": [],
   "source": [
    "desc_tags=driver.find_elements_by_xpath('//a[@class=\"IRpwTa\"]')\n",
    "Description3a=[]\n",
    "for i in desc_tags:\n",
    "    desc=i.text\n",
    "    Description3a.append(desc)\n",
    "Description3a=Description3a[:20]"
   ]
  },
  {
   "cell_type": "code",
   "execution_count": 26,
   "metadata": {},
   "outputs": [],
   "source": [
    "price_tags=driver.find_elements_by_xpath('//div[@class=\"_30jeq3\"]')\n",
    "Price3=[]\n",
    "for i in price_tags:\n",
    "    price=i.text\n",
    "    Price3.append(price)\n",
    "Price3=Price3[:20]"
   ]
  },
  {
   "cell_type": "code",
   "execution_count": 27,
   "metadata": {},
   "outputs": [],
   "source": [
    "disc_tags=driver.find_elements_by_xpath('//div[@class=\"_3Ay6Sb\"]')\n",
    "Discount3=[]\n",
    "for i in disc_tags:\n",
    "    disc=i.text\n",
    "    Discount3.append(disc)\n",
    "Discount3=Discount3[:20]"
   ]
  },
  {
   "cell_type": "code",
   "execution_count": 41,
   "metadata": {},
   "outputs": [],
   "source": [
    "Brand=Brand1+Brand2+Brand3\n",
    "Description=Description1a+Description2a+Description3a+Description1b+Description2b\n",
    "Price=Price1+Price2+Price3\n",
    "Discount=Discount1+Discount2+Discount3"
   ]
  },
  {
   "cell_type": "code",
   "execution_count": 42,
   "metadata": {},
   "outputs": [
    {
     "data": {
      "text/html": [
       "<div>\n",
       "<style scoped>\n",
       "    .dataframe tbody tr th:only-of-type {\n",
       "        vertical-align: middle;\n",
       "    }\n",
       "\n",
       "    .dataframe tbody tr th {\n",
       "        vertical-align: top;\n",
       "    }\n",
       "\n",
       "    .dataframe thead th {\n",
       "        text-align: right;\n",
       "    }\n",
       "</style>\n",
       "<table border=\"1\" class=\"dataframe\">\n",
       "  <thead>\n",
       "    <tr style=\"text-align: right;\">\n",
       "      <th></th>\n",
       "      <th>Brand</th>\n",
       "      <th>Description</th>\n",
       "      <th>Price</th>\n",
       "      <th>Discount</th>\n",
       "    </tr>\n",
       "  </thead>\n",
       "  <tbody>\n",
       "    <tr>\n",
       "      <th>0</th>\n",
       "      <td>Chevit</td>\n",
       "      <td>Latest &amp; Stylish Design Combo Pack of 2 Pairs ...</td>\n",
       "      <td>₹536</td>\n",
       "      <td>58% off</td>\n",
       "    </tr>\n",
       "    <tr>\n",
       "      <th>1</th>\n",
       "      <td>JEETLAV</td>\n",
       "      <td>Perfect &amp; Affordable Combo Pack of 02 Pairs Sn...</td>\n",
       "      <td>₹349</td>\n",
       "      <td>65% off</td>\n",
       "    </tr>\n",
       "    <tr>\n",
       "      <th>2</th>\n",
       "      <td>Chevit</td>\n",
       "      <td>Casual Sneakers Shoes For Men Sneakers For Men</td>\n",
       "      <td>₹499</td>\n",
       "      <td>72% off</td>\n",
       "    </tr>\n",
       "    <tr>\n",
       "      <th>3</th>\n",
       "      <td>Robbie jones</td>\n",
       "      <td>Combo Pack of 4 Casual Sneakers With Sneakers ...</td>\n",
       "      <td>₹399</td>\n",
       "      <td>60% off</td>\n",
       "    </tr>\n",
       "    <tr>\n",
       "      <th>4</th>\n",
       "      <td>Chevit</td>\n",
       "      <td>Combo pack of 2 casual sneaker shoes for men S...</td>\n",
       "      <td>₹474</td>\n",
       "      <td>76% off</td>\n",
       "    </tr>\n",
       "    <tr>\n",
       "      <th>...</th>\n",
       "      <td>...</td>\n",
       "      <td>...</td>\n",
       "      <td>...</td>\n",
       "      <td>...</td>\n",
       "    </tr>\n",
       "    <tr>\n",
       "      <th>95</th>\n",
       "      <td>ROCKFIELD</td>\n",
       "      <td>Sneakers For Men</td>\n",
       "      <td>₹424</td>\n",
       "      <td>57% off</td>\n",
       "    </tr>\n",
       "    <tr>\n",
       "      <th>96</th>\n",
       "      <td>M K FOOTWEAR</td>\n",
       "      <td>Sneakers For Men</td>\n",
       "      <td>₹349</td>\n",
       "      <td>65% off</td>\n",
       "    </tr>\n",
       "    <tr>\n",
       "      <th>97</th>\n",
       "      <td>Absolute comfort</td>\n",
       "      <td>Sneakers For Men</td>\n",
       "      <td>₹348</td>\n",
       "      <td>65% off</td>\n",
       "    </tr>\n",
       "    <tr>\n",
       "      <th>98</th>\n",
       "      <td>Edoeviv</td>\n",
       "      <td>SM439G Sneakers For Men</td>\n",
       "      <td>₹499</td>\n",
       "      <td>37% off</td>\n",
       "    </tr>\n",
       "    <tr>\n",
       "      <th>99</th>\n",
       "      <td>BRUTON</td>\n",
       "      <td>Sneakers For Men</td>\n",
       "      <td>₹526</td>\n",
       "      <td>78% off</td>\n",
       "    </tr>\n",
       "  </tbody>\n",
       "</table>\n",
       "<p>100 rows × 4 columns</p>\n",
       "</div>"
      ],
      "text/plain": [
       "               Brand                                        Description Price  \\\n",
       "0             Chevit  Latest & Stylish Design Combo Pack of 2 Pairs ...  ₹536   \n",
       "1            JEETLAV  Perfect & Affordable Combo Pack of 02 Pairs Sn...  ₹349   \n",
       "2             Chevit     Casual Sneakers Shoes For Men Sneakers For Men  ₹499   \n",
       "3       Robbie jones  Combo Pack of 4 Casual Sneakers With Sneakers ...  ₹399   \n",
       "4             Chevit  Combo pack of 2 casual sneaker shoes for men S...  ₹474   \n",
       "..               ...                                                ...   ...   \n",
       "95         ROCKFIELD                                   Sneakers For Men  ₹424   \n",
       "96      M K FOOTWEAR                                   Sneakers For Men  ₹349   \n",
       "97  Absolute comfort                                   Sneakers For Men  ₹348   \n",
       "98           Edoeviv                            SM439G Sneakers For Men  ₹499   \n",
       "99            BRUTON                                   Sneakers For Men  ₹526   \n",
       "\n",
       "   Discount  \n",
       "0   58% off  \n",
       "1   65% off  \n",
       "2   72% off  \n",
       "3   60% off  \n",
       "4   76% off  \n",
       "..      ...  \n",
       "95  57% off  \n",
       "96  65% off  \n",
       "97  65% off  \n",
       "98  37% off  \n",
       "99  78% off  \n",
       "\n",
       "[100 rows x 4 columns]"
      ]
     },
     "execution_count": 42,
     "metadata": {},
     "output_type": "execute_result"
    }
   ],
   "source": [
    "sneakers=pd.DataFrame({})\n",
    "sneakers['Brand']=Brand\n",
    "sneakers['Description']=Description\n",
    "sneakers['Price']=Price\n",
    "sneakers['Discount']=Discount\n",
    "sneakers"
   ]
  },
  {
   "cell_type": "code",
   "execution_count": 43,
   "metadata": {},
   "outputs": [],
   "source": [
    "driver.close()"
   ]
  },
  {
   "cell_type": "markdown",
   "metadata": {},
   "source": [
    "# Q9: Myntra shoes"
   ]
  },
  {
   "cell_type": "code",
   "execution_count": 5,
   "metadata": {},
   "outputs": [],
   "source": [
    "driver=webdriver.Chrome(r\"C://chromedriver_win32/chromedriver.exe\")"
   ]
  },
  {
   "cell_type": "code",
   "execution_count": 6,
   "metadata": {},
   "outputs": [],
   "source": [
    "driver.get(\"https://www.myntra.com/shoes\")"
   ]
  },
  {
   "cell_type": "code",
   "execution_count": null,
   "metadata": {},
   "outputs": [],
   "source": [
    "#filter_btn=driver.find_elements_by_xpath(\"//ul[@class='price-list']/label\")\n",
    "#for i in filter_btn:\n",
    " #   if i.text==\"Rs. 6612 to Rs. 13075\":\n",
    "  #      i.click()\n",
    "   #     break"
   ]
  },
  {
   "cell_type": "code",
   "execution_count": 7,
   "metadata": {},
   "outputs": [],
   "source": [
    "Brand=[]\n",
    "Description=[]\n",
    "Price=[]"
   ]
  },
  {
   "cell_type": "code",
   "execution_count": 8,
   "metadata": {},
   "outputs": [],
   "source": [
    "brand_tags=driver.find_elements_by_xpath('//h3[@class=\"product-brand\"]')\n",
    "Brand1=[]\n",
    "for i in brand_tags:\n",
    "    brand=i.text\n",
    "    Brand1.append(brand)"
   ]
  },
  {
   "cell_type": "code",
   "execution_count": 9,
   "metadata": {},
   "outputs": [],
   "source": [
    "desc_tags=driver.find_elements_by_xpath('//h4[@class=\"product-product\"]')\n",
    "Description1=[]\n",
    "for i in desc_tags:\n",
    "    desc=i.text\n",
    "    Description1.append(desc)"
   ]
  },
  {
   "cell_type": "code",
   "execution_count": 10,
   "metadata": {},
   "outputs": [],
   "source": [
    "price_tags=driver.find_elements_by_xpath('//div[@class=\"product-price\"]')\n",
    "Price1=[]\n",
    "for i in price_tags:\n",
    "    price=i.text\n",
    "    Price1.append(price)"
   ]
  },
  {
   "cell_type": "code",
   "execution_count": 11,
   "metadata": {},
   "outputs": [],
   "source": [
    "#next button"
   ]
  },
  {
   "cell_type": "code",
   "execution_count": 12,
   "metadata": {},
   "outputs": [],
   "source": [
    "driver.get(\"https://www.myntra.com/shoes?f=Color%3ABlack_36454f&p=2&plaEnabled=false&rf=Price%3A6612.0_13075.0_6612.0%20TO%2013075.0\")"
   ]
  },
  {
   "cell_type": "code",
   "execution_count": 13,
   "metadata": {},
   "outputs": [],
   "source": [
    "brand_tags=driver.find_elements_by_xpath('//h3[@class=\"product-brand\"]')\n",
    "Brand2=[]\n",
    "for i in brand_tags:\n",
    "    brand=i.text\n",
    "    Brand2.append(brand)"
   ]
  },
  {
   "cell_type": "code",
   "execution_count": 14,
   "metadata": {},
   "outputs": [],
   "source": [
    "desc_tags=driver.find_elements_by_xpath('//h4[@class=\"product-product\"]')\n",
    "Description2=[]\n",
    "for i in desc_tags:\n",
    "    desc=i.text\n",
    "    Description2.append(desc)"
   ]
  },
  {
   "cell_type": "code",
   "execution_count": 15,
   "metadata": {},
   "outputs": [],
   "source": [
    "price_tags=driver.find_elements_by_xpath('//div[@class=\"product-price\"]')\n",
    "Price2=[]\n",
    "for i in price_tags:\n",
    "    price=i.text\n",
    "    Price2.append(price)"
   ]
  },
  {
   "cell_type": "code",
   "execution_count": 16,
   "metadata": {},
   "outputs": [],
   "source": [
    "Brand=Brand1+Brand2\n",
    "Description=Description1+Description2\n",
    "Price=Price1+Price2"
   ]
  },
  {
   "cell_type": "code",
   "execution_count": 17,
   "metadata": {},
   "outputs": [],
   "source": [
    "myntra=pd.DataFrame({})\n",
    "myntra['Brand']=Brand\n",
    "myntra['Description']=Description\n",
    "myntra['Price']=Price"
   ]
  },
  {
   "cell_type": "code",
   "execution_count": 18,
   "metadata": {},
   "outputs": [
    {
     "data": {
      "text/html": [
       "<div>\n",
       "<style scoped>\n",
       "    .dataframe tbody tr th:only-of-type {\n",
       "        vertical-align: middle;\n",
       "    }\n",
       "\n",
       "    .dataframe tbody tr th {\n",
       "        vertical-align: top;\n",
       "    }\n",
       "\n",
       "    .dataframe thead th {\n",
       "        text-align: right;\n",
       "    }\n",
       "</style>\n",
       "<table border=\"1\" class=\"dataframe\">\n",
       "  <thead>\n",
       "    <tr style=\"text-align: right;\">\n",
       "      <th></th>\n",
       "      <th>Brand</th>\n",
       "      <th>Description</th>\n",
       "      <th>Price</th>\n",
       "    </tr>\n",
       "  </thead>\n",
       "  <tbody>\n",
       "    <tr>\n",
       "      <th>0</th>\n",
       "      <td>Nike</td>\n",
       "      <td>Women Running Shoes</td>\n",
       "      <td>Rs. 7796Rs. 11995(35% OFF)</td>\n",
       "    </tr>\n",
       "    <tr>\n",
       "      <th>1</th>\n",
       "      <td>Nike</td>\n",
       "      <td>Women AIR ZOOM Running Shoes</td>\n",
       "      <td>Rs. 7496Rs. 9995(25% OFF)</td>\n",
       "    </tr>\n",
       "    <tr>\n",
       "      <th>2</th>\n",
       "      <td>PUMA Motorsport</td>\n",
       "      <td>Unisex Mercedes Running Shoes</td>\n",
       "      <td>Rs. 7999</td>\n",
       "    </tr>\n",
       "    <tr>\n",
       "      <th>3</th>\n",
       "      <td>UNDER ARMOUR</td>\n",
       "      <td>Men HOVR STRT Sportstyle Shoes</td>\n",
       "      <td>Rs. 9999</td>\n",
       "    </tr>\n",
       "    <tr>\n",
       "      <th>4</th>\n",
       "      <td>Nike</td>\n",
       "      <td>Men JOYRIDE Running Shoes</td>\n",
       "      <td>Rs. 10496Rs. 14995(30% OFF)</td>\n",
       "    </tr>\n",
       "    <tr>\n",
       "      <th>...</th>\n",
       "      <td>...</td>\n",
       "      <td>...</td>\n",
       "      <td>...</td>\n",
       "    </tr>\n",
       "    <tr>\n",
       "      <th>95</th>\n",
       "      <td>Cole Haan</td>\n",
       "      <td>Women Woven Design Sneakers</td>\n",
       "      <td>Rs. 7499Rs. 14999(50% OFF)</td>\n",
       "    </tr>\n",
       "    <tr>\n",
       "      <th>96</th>\n",
       "      <td>Geox</td>\n",
       "      <td>Men Leather Formal Oxfords</td>\n",
       "      <td>Rs. 7867Rs. 10490(25% OFF)</td>\n",
       "    </tr>\n",
       "    <tr>\n",
       "      <th>97</th>\n",
       "      <td>Geox</td>\n",
       "      <td>Men Leather Formal Oxfords</td>\n",
       "      <td>Rs. 9367Rs. 12490(25% OFF)</td>\n",
       "    </tr>\n",
       "    <tr>\n",
       "      <th>98</th>\n",
       "      <td>Ruosh</td>\n",
       "      <td>Men Formal Leather Brogues</td>\n",
       "      <td>Rs. 7490</td>\n",
       "    </tr>\n",
       "    <tr>\n",
       "      <th>99</th>\n",
       "      <td>UNDER ARMOUR</td>\n",
       "      <td>Charged RC Sportstyle Sneakers</td>\n",
       "      <td>Rs. 8999</td>\n",
       "    </tr>\n",
       "  </tbody>\n",
       "</table>\n",
       "<p>100 rows × 3 columns</p>\n",
       "</div>"
      ],
      "text/plain": [
       "              Brand                     Description  \\\n",
       "0              Nike             Women Running Shoes   \n",
       "1              Nike    Women AIR ZOOM Running Shoes   \n",
       "2   PUMA Motorsport   Unisex Mercedes Running Shoes   \n",
       "3      UNDER ARMOUR  Men HOVR STRT Sportstyle Shoes   \n",
       "4              Nike       Men JOYRIDE Running Shoes   \n",
       "..              ...                             ...   \n",
       "95        Cole Haan     Women Woven Design Sneakers   \n",
       "96             Geox      Men Leather Formal Oxfords   \n",
       "97             Geox      Men Leather Formal Oxfords   \n",
       "98            Ruosh      Men Formal Leather Brogues   \n",
       "99     UNDER ARMOUR  Charged RC Sportstyle Sneakers   \n",
       "\n",
       "                          Price  \n",
       "0    Rs. 7796Rs. 11995(35% OFF)  \n",
       "1     Rs. 7496Rs. 9995(25% OFF)  \n",
       "2                      Rs. 7999  \n",
       "3                      Rs. 9999  \n",
       "4   Rs. 10496Rs. 14995(30% OFF)  \n",
       "..                          ...  \n",
       "95   Rs. 7499Rs. 14999(50% OFF)  \n",
       "96   Rs. 7867Rs. 10490(25% OFF)  \n",
       "97   Rs. 9367Rs. 12490(25% OFF)  \n",
       "98                     Rs. 7490  \n",
       "99                     Rs. 8999  \n",
       "\n",
       "[100 rows x 3 columns]"
      ]
     },
     "execution_count": 18,
     "metadata": {},
     "output_type": "execute_result"
    }
   ],
   "source": [
    "myntra"
   ]
  },
  {
   "cell_type": "code",
   "execution_count": 19,
   "metadata": {},
   "outputs": [],
   "source": [
    "driver.close()"
   ]
  },
  {
   "cell_type": "markdown",
   "metadata": {},
   "source": [
    "# Q10: Amazon laptop"
   ]
  },
  {
   "cell_type": "code",
   "execution_count": 44,
   "metadata": {},
   "outputs": [],
   "source": [
    "from selenium.common.exceptions import NoSuchElementException"
   ]
  },
  {
   "cell_type": "code",
   "execution_count": 45,
   "metadata": {},
   "outputs": [],
   "source": [
    "driver=webdriver.Chrome(r\"C://chromedriver_win32/chromedriver.exe\")"
   ]
  },
  {
   "cell_type": "code",
   "execution_count": 46,
   "metadata": {},
   "outputs": [],
   "source": [
    "driver.get('https://www.amazon.in/')"
   ]
  },
  {
   "cell_type": "code",
   "execution_count": null,
   "metadata": {},
   "outputs": [],
   "source": [
    "amazon=driver.find_element_by_id(\"twotabsearchtextbox\")\n",
    "amazon.send_keys(\"Laptop\")"
   ]
  },
  {
   "cell_type": "code",
   "execution_count": 48,
   "metadata": {},
   "outputs": [],
   "source": [
    "search_btn=driver.find_element_by_id(\"nav-search-submit-button\")\n",
    "search_btn.click()"
   ]
  },
  {
   "cell_type": "code",
   "execution_count": 51,
   "metadata": {},
   "outputs": [],
   "source": [
    "filter_btn=driver.find_elements_by_xpath(\"//a[@class='a-link-normal s-navigation-item']/span\")\n",
    "for i in filter_btn:\n",
    "    if i.text==\"Intel Core i7\":\n",
    "        i.click()\n",
    "        break"
   ]
  },
  {
   "cell_type": "code",
   "execution_count": 52,
   "metadata": {},
   "outputs": [],
   "source": [
    "filter_btn=driver.find_elements_by_xpath(\"//a[@class='a-link-normal s-navigation-item']/span\")\n",
    "for i in filter_btn:\n",
    "    if i.text==\"Intel Core i9\":\n",
    "        i.click()\n",
    "        break"
   ]
  },
  {
   "cell_type": "code",
   "execution_count": 53,
   "metadata": {},
   "outputs": [],
   "source": [
    "Title=[]\n",
    "Price=[]\n",
    "Rating=[]"
   ]
  },
  {
   "cell_type": "code",
   "execution_count": 54,
   "metadata": {},
   "outputs": [],
   "source": [
    "titles=driver.find_elements_by_xpath(\"//span[@class='a-size-medium a-color-base a-text-normal']\")\n",
    "for i in titles[:10]:\n",
    "    Title.append(i.text)"
   ]
  },
  {
   "cell_type": "code",
   "execution_count": 55,
   "metadata": {},
   "outputs": [],
   "source": [
    "prices=driver.find_elements_by_xpath(\"//span[@class='a-price-whole']\")\n",
    "for i in prices[:10]:\n",
    "    Price.append(i.text)"
   ]
  },
  {
   "cell_type": "code",
   "execution_count": 56,
   "metadata": {},
   "outputs": [],
   "source": [
    "URL=[]\n",
    "urls=driver.find_elements_by_xpath('//a[@class=\"a-link-normal a-text-normal\"]')\n",
    "for i in urls[:10]:\n",
    "    URL.append(i.get_attribute('href'))\n",
    "for urls in URL:\n",
    "    driver.get(urls)\n",
    "    try:\n",
    "        rate=driver.find_element_by_xpath(\"//span[@id='acrCustomerReviewText']\")\n",
    "        rate.click()\n",
    "        rating=driver.find_element_by_xpath(\"//span[@class='a-size-medium a-color-base']\")\n",
    "        Rating.append(rating.text)\n",
    "    except NoSuchElementException as e:\n",
    "        Rating.append(\"No Rating\")"
   ]
  },
  {
   "cell_type": "code",
   "execution_count": 57,
   "metadata": {},
   "outputs": [],
   "source": [
    "laptop=pd.DataFrame({})\n",
    "laptop['Title']=Title\n",
    "laptop['Price']=Price\n",
    "laptop['Rating']=Rating"
   ]
  },
  {
   "cell_type": "code",
   "execution_count": 58,
   "metadata": {},
   "outputs": [
    {
     "data": {
      "text/html": [
       "<div>\n",
       "<style scoped>\n",
       "    .dataframe tbody tr th:only-of-type {\n",
       "        vertical-align: middle;\n",
       "    }\n",
       "\n",
       "    .dataframe tbody tr th {\n",
       "        vertical-align: top;\n",
       "    }\n",
       "\n",
       "    .dataframe thead th {\n",
       "        text-align: right;\n",
       "    }\n",
       "</style>\n",
       "<table border=\"1\" class=\"dataframe\">\n",
       "  <thead>\n",
       "    <tr style=\"text-align: right;\">\n",
       "      <th></th>\n",
       "      <th>Title</th>\n",
       "      <th>Price</th>\n",
       "      <th>Rating</th>\n",
       "    </tr>\n",
       "  </thead>\n",
       "  <tbody>\n",
       "    <tr>\n",
       "      <th>0</th>\n",
       "      <td>Lenovo IdeaPad Flex 5 11th Gen Intel Core i7 1...</td>\n",
       "      <td>86,990</td>\n",
       "      <td>4.6 out of 5</td>\n",
       "    </tr>\n",
       "    <tr>\n",
       "      <th>1</th>\n",
       "      <td>MSI GL65 Leopard 10SDK-069IN Intel Core i7-107...</td>\n",
       "      <td>1,20,240</td>\n",
       "      <td>3 out of 5</td>\n",
       "    </tr>\n",
       "    <tr>\n",
       "      <th>2</th>\n",
       "      <td>Dell Alienware m15(R3) 15.6-inch FHD Gaming La...</td>\n",
       "      <td>1,98,590</td>\n",
       "      <td>3 out of 5</td>\n",
       "    </tr>\n",
       "    <tr>\n",
       "      <th>3</th>\n",
       "      <td>Lenovo Legion Y540 Intel Core i7 9th Gen 15.6 ...</td>\n",
       "      <td>78,990</td>\n",
       "      <td>4.1 out of 5</td>\n",
       "    </tr>\n",
       "    <tr>\n",
       "      <th>4</th>\n",
       "      <td>HP 14 Thin &amp; Light 14-inch FHD Laptop (11th Ge...</td>\n",
       "      <td>76,500</td>\n",
       "      <td>4.6 out of 5</td>\n",
       "    </tr>\n",
       "    <tr>\n",
       "      <th>5</th>\n",
       "      <td>Mi Notebook Horizon Edition 14 Intel Core i5-1...</td>\n",
       "      <td>49,999</td>\n",
       "      <td>4.3 out of 5</td>\n",
       "    </tr>\n",
       "    <tr>\n",
       "      <th>6</th>\n",
       "      <td>ASUS ZenBook Pro Duo Intel Core i9-10980HK 10t...</td>\n",
       "      <td>2,77,390</td>\n",
       "      <td>3.3 out of 5</td>\n",
       "    </tr>\n",
       "    <tr>\n",
       "      <th>7</th>\n",
       "      <td>Lenovo Yoga S740 Intel Core i7 10th Gen 14 inc...</td>\n",
       "      <td>1,35,490</td>\n",
       "      <td>3.4 out of 5</td>\n",
       "    </tr>\n",
       "    <tr>\n",
       "      <th>8</th>\n",
       "      <td>Lenovo Legion 5Pi 10th Gen Intel Core i7 15.6\"...</td>\n",
       "      <td>45,990</td>\n",
       "      <td>4.3 out of 5</td>\n",
       "    </tr>\n",
       "    <tr>\n",
       "      <th>9</th>\n",
       "      <td>Asus ROG Zephyrus S Ultra Slim Gaming Laptop, ...</td>\n",
       "      <td>38,999</td>\n",
       "      <td>4.1 out of 5</td>\n",
       "    </tr>\n",
       "  </tbody>\n",
       "</table>\n",
       "</div>"
      ],
      "text/plain": [
       "                                               Title     Price        Rating\n",
       "0  Lenovo IdeaPad Flex 5 11th Gen Intel Core i7 1...    86,990  4.6 out of 5\n",
       "1  MSI GL65 Leopard 10SDK-069IN Intel Core i7-107...  1,20,240    3 out of 5\n",
       "2  Dell Alienware m15(R3) 15.6-inch FHD Gaming La...  1,98,590    3 out of 5\n",
       "3  Lenovo Legion Y540 Intel Core i7 9th Gen 15.6 ...    78,990  4.1 out of 5\n",
       "4  HP 14 Thin & Light 14-inch FHD Laptop (11th Ge...    76,500  4.6 out of 5\n",
       "5  Mi Notebook Horizon Edition 14 Intel Core i5-1...    49,999  4.3 out of 5\n",
       "6  ASUS ZenBook Pro Duo Intel Core i9-10980HK 10t...  2,77,390  3.3 out of 5\n",
       "7  Lenovo Yoga S740 Intel Core i7 10th Gen 14 inc...  1,35,490  3.4 out of 5\n",
       "8  Lenovo Legion 5Pi 10th Gen Intel Core i7 15.6\"...    45,990  4.3 out of 5\n",
       "9  Asus ROG Zephyrus S Ultra Slim Gaming Laptop, ...    38,999  4.1 out of 5"
      ]
     },
     "execution_count": 58,
     "metadata": {},
     "output_type": "execute_result"
    }
   ],
   "source": [
    "laptop"
   ]
  },
  {
   "cell_type": "code",
   "execution_count": 59,
   "metadata": {},
   "outputs": [],
   "source": [
    "driver.close()"
   ]
  }
 ],
 "metadata": {
  "kernelspec": {
   "display_name": "Python 3",
   "language": "python",
   "name": "python3"
  },
  "language_info": {
   "codemirror_mode": {
    "name": "ipython",
    "version": 3
   },
   "file_extension": ".py",
   "mimetype": "text/x-python",
   "name": "python",
   "nbconvert_exporter": "python",
   "pygments_lexer": "ipython3",
   "version": "3.7.6"
  }
 },
 "nbformat": 4,
 "nbformat_minor": 4
}
