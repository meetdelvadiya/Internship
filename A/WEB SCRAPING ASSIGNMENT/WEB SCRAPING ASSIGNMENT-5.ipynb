{
 "cells": [
  {
   "cell_type": "code",
   "execution_count": 1,
   "metadata": {},
   "outputs": [],
   "source": [
    "from bs4 import BeautifulSoup\n",
    "import requests"
   ]
  },
  {
   "cell_type": "markdown",
   "metadata": {},
   "source": [
    "# Top 10 ODI Team Men"
   ]
  },
  {
   "cell_type": "code",
   "execution_count": 21,
   "metadata": {},
   "outputs": [
    {
     "data": {
      "text/plain": [
       "<Response [200]>"
      ]
     },
     "execution_count": 21,
     "metadata": {},
     "output_type": "execute_result"
    }
   ],
   "source": [
    "page=requests.get('https://www.icc-cricket.com/rankings/mens/team-rankings/odi')\n",
    "page"
   ]
  },
  {
   "cell_type": "code",
   "execution_count": 22,
   "metadata": {},
   "outputs": [],
   "source": [
    "soup = BeautifulSoup(page.content, \"html.parser\")\n",
    "#soup"
   ]
  },
  {
   "cell_type": "code",
   "execution_count": 24,
   "metadata": {},
   "outputs": [
    {
     "name": "stdout",
     "output_type": "stream",
     "text": [
      "England\n",
      "New Zealand\n",
      "India\n",
      "Australia\n",
      "South Africa\n",
      "Pakistan\n",
      "Bangladesh\n",
      "Sri Lanka\n",
      "West Indies\n",
      "Afghanistan\n"
     ]
    }
   ],
   "source": [
    "for data in soup.find_all('span',class_='u-hide-phablet')[:10]:\n",
    "    print(data.get_text())"
   ]
  },
  {
   "cell_type": "code",
   "execution_count": 29,
   "metadata": {},
   "outputs": [
    {
     "name": "stdout",
     "output_type": "stream",
     "text": [
      "46\n",
      "5,640\n",
      "35\n",
      "4,137\n",
      "54\n",
      "6,347\n",
      "39\n",
      "4,344\n",
      "31\n",
      "3,345\n",
      "35\n",
      "3,490\n",
      "40\n",
      "3,567\n",
      "42\n",
      "3,372\n",
      "49\n",
      "3,802\n",
      "31\n",
      "1,844\n"
     ]
    }
   ],
   "source": [
    "icc=soup.find('td',class_='rankings-block__banner--matches')\n",
    "match=icc.text\n",
    "print(match)\n",
    "icc=soup.find('td',class_='rankings-block__banner--points')\n",
    "point=icc.text\n",
    "print(point)\n",
    "for data in soup.find_all('td',class_='table-body__cell u-center-text')[:18]:\n",
    "    print(data.get_text())"
   ]
  },
  {
   "cell_type": "code",
   "execution_count": 33,
   "metadata": {},
   "outputs": [
    {
     "name": "stdout",
     "output_type": "stream",
     "text": [
      "\n",
      "                            123\n",
      "                            \n",
      "\n",
      "\n",
      "118\n",
      "118\n",
      "111\n",
      "108\n",
      "100\n",
      "89\n",
      "80\n",
      "78\n",
      "59\n"
     ]
    }
   ],
   "source": [
    "icc=soup.find('td',class_='rankings-block__banner--rating u-text-right')\n",
    "rating=icc.text\n",
    "print(rating)\n",
    "for data in soup.find_all('td',class_='table-body__cell u-text-right rating')[:9]:\n",
    "    print(data.get_text())"
   ]
  },
  {
   "cell_type": "markdown",
   "metadata": {},
   "source": [
    "# Top 10 ODI Batsmen Men"
   ]
  },
  {
   "cell_type": "code",
   "execution_count": 38,
   "metadata": {},
   "outputs": [
    {
     "data": {
      "text/plain": [
       "<Response [200]>"
      ]
     },
     "execution_count": 38,
     "metadata": {},
     "output_type": "execute_result"
    }
   ],
   "source": [
    "page=requests.get('https://www.icc-cricket.com/rankings/mens/player-rankings/odi/batting')\n",
    "page"
   ]
  },
  {
   "cell_type": "code",
   "execution_count": 39,
   "metadata": {},
   "outputs": [],
   "source": [
    "soup = BeautifulSoup(page.content, \"html.parser\")\n",
    "#soup"
   ]
  },
  {
   "cell_type": "code",
   "execution_count": 40,
   "metadata": {},
   "outputs": [
    {
     "name": "stdout",
     "output_type": "stream",
     "text": [
      "Virat Kohli\n",
      "\n",
      "Babar Azam\n",
      "\n",
      "\n",
      "Rohit Sharma\n",
      "\n",
      "\n",
      "Ross Taylor\n",
      "\n",
      "\n",
      "Aaron Finch\n",
      "\n",
      "\n",
      "Francois du Plessis\n",
      "\n",
      "\n",
      "Jonny Bairstow\n",
      "\n",
      "\n",
      "David Warner\n",
      "\n",
      "\n",
      "Shai Hope\n",
      "\n",
      "\n",
      "Kane Williamson\n",
      "\n"
     ]
    }
   ],
   "source": [
    "icc=soup.find('div',class_='rankings-block__banner--name-large')\n",
    "name=icc.text\n",
    "print(name)\n",
    "for data in soup.find_all('td',class_='table-body__cell rankings-table__name name')[:9]:\n",
    "    print(data.get_text())"
   ]
  },
  {
   "cell_type": "code",
   "execution_count": 41,
   "metadata": {},
   "outputs": [
    {
     "name": "stdout",
     "output_type": "stream",
     "text": [
      "\n",
      "\n",
      "IND\n",
      "PAK\n",
      "IND\n",
      "NZ\n",
      "AUS\n",
      "SA\n",
      "ENG\n",
      "AUS\n",
      "WI\n",
      "NZ\n"
     ]
    }
   ],
   "source": [
    "icc=soup.find('div',class_='rankings-block__banner--nationality')\n",
    "team=icc.text\n",
    "print(team)\n",
    "for data in soup.find_all('span',class_='table-body__logo-text')[:9]:\n",
    "    print(data.get_text())\n",
    "    "
   ]
  },
  {
   "cell_type": "code",
   "execution_count": 44,
   "metadata": {},
   "outputs": [
    {
     "name": "stdout",
     "output_type": "stream",
     "text": [
      "868\n",
      "837\n",
      "836\n",
      "810\n",
      "791\n",
      "790\n",
      "775\n",
      "773\n",
      "773\n",
      "757\n"
     ]
    }
   ],
   "source": [
    "icc=soup.find('div',class_='rankings-block__banner--rating')\n",
    "rating=icc.text\n",
    "print(rating)\n",
    "for data in soup.find_all('td',class_='table-body__cell rating')[:9]:\n",
    "    print(data.get_text())"
   ]
  },
  {
   "cell_type": "markdown",
   "metadata": {},
   "source": [
    "# Top 10 ODI bowlers"
   ]
  },
  {
   "cell_type": "code",
   "execution_count": 45,
   "metadata": {},
   "outputs": [
    {
     "data": {
      "text/plain": [
       "<Response [200]>"
      ]
     },
     "execution_count": 45,
     "metadata": {},
     "output_type": "execute_result"
    }
   ],
   "source": [
    "page=requests.get('https://www.icc-cricket.com/rankings/mens/player-rankings/odi/bowling')\n",
    "page"
   ]
  },
  {
   "cell_type": "code",
   "execution_count": 46,
   "metadata": {},
   "outputs": [],
   "source": [
    "soup = BeautifulSoup(page.content, \"html.parser\")\n",
    "#soup"
   ]
  },
  {
   "cell_type": "code",
   "execution_count": 47,
   "metadata": {},
   "outputs": [
    {
     "name": "stdout",
     "output_type": "stream",
     "text": [
      "Trent Boult\n",
      "\n",
      "Mujeeb Ur Rahman\n",
      "\n",
      "\n",
      "Jasprit Bumrah\n",
      "\n",
      "\n",
      "Mehedi Hasan\n",
      "\n",
      "\n",
      "Chris Woakes\n",
      "\n",
      "\n",
      "Kagiso Rabada\n",
      "\n",
      "\n",
      "Josh Hazlewood\n",
      "\n",
      "\n",
      "Matt Henry\n",
      "\n",
      "\n",
      "Mohammad Amir\n",
      "\n",
      "\n",
      "Pat Cummins\n",
      "\n"
     ]
    }
   ],
   "source": [
    "icc=soup.find('div',class_='rankings-block__banner--name-large')\n",
    "name=icc.text\n",
    "print(name)\n",
    "for data in soup.find_all('td',class_='table-body__cell rankings-table__name name')[:9]:\n",
    "    print(data.get_text())"
   ]
  },
  {
   "cell_type": "code",
   "execution_count": 48,
   "metadata": {},
   "outputs": [
    {
     "name": "stdout",
     "output_type": "stream",
     "text": [
      "\n",
      "\n",
      "NZ\n",
      "AFG\n",
      "IND\n",
      "BAN\n",
      "ENG\n",
      "SA\n",
      "AUS\n",
      "NZ\n",
      "PAK\n",
      "AUS\n"
     ]
    }
   ],
   "source": [
    "icc=soup.find('div',class_='rankings-block__banner--nationality')\n",
    "team=icc.text\n",
    "print(team)\n",
    "for data in soup.find_all('span',class_='table-body__logo-text')[:9]:\n",
    "    print(data.get_text())"
   ]
  },
  {
   "cell_type": "code",
   "execution_count": 56,
   "metadata": {},
   "outputs": [
    {
     "name": "stdout",
     "output_type": "stream",
     "text": [
      "742\n",
      "708\n",
      "697\n",
      "678\n",
      "672\n",
      "665\n",
      "660\n",
      "653\n",
      "647\n",
      "646\n"
     ]
    }
   ],
   "source": [
    "icc=soup.find('div',class_='rankings-block__banner--rating')\n",
    "rating=icc.text\n",
    "print(rating)\n",
    "for data in soup.find_all('td',class_='table-body__cell rating',)[:9]:\n",
    "    print(data.get_text())"
   ]
  },
  {
   "cell_type": "code",
   "execution_count": null,
   "metadata": {},
   "outputs": [],
   "source": []
  }
 ],
 "metadata": {
  "kernelspec": {
   "display_name": "Python 3",
   "language": "python",
   "name": "python3"
  },
  "language_info": {
   "codemirror_mode": {
    "name": "ipython",
    "version": 3
   },
   "file_extension": ".py",
   "mimetype": "text/x-python",
   "name": "python",
   "nbconvert_exporter": "python",
   "pygments_lexer": "ipython3",
   "version": "3.7.6"
  }
 },
 "nbformat": 4,
 "nbformat_minor": 4
}
