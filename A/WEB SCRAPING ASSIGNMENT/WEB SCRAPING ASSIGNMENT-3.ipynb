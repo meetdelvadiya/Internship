{
 "cells": [
  {
   "cell_type": "code",
   "execution_count": 1,
   "metadata": {},
   "outputs": [],
   "source": [
    "from bs4 import BeautifulSoup\n",
    "import requests"
   ]
  },
  {
   "cell_type": "code",
   "execution_count": 2,
   "metadata": {},
   "outputs": [
    {
     "data": {
      "text/plain": [
       "<Response [200]>"
      ]
     },
     "execution_count": 2,
     "metadata": {},
     "output_type": "execute_result"
    }
   ],
   "source": [
    "page=requests.get('https://www.imdb.com/list/ls063915608/?sort=user_rating,desc&st_dt=&mode=simple&page=1&ref_=ttls_vw_smp')\n",
    "page"
   ]
  },
  {
   "cell_type": "code",
   "execution_count": 3,
   "metadata": {},
   "outputs": [],
   "source": [
    "soup = BeautifulSoup(page.content, \"html.parser\")\n",
    "#soup"
   ]
  },
  {
   "cell_type": "code",
   "execution_count": 4,
   "metadata": {},
   "outputs": [],
   "source": [
    "list_of_titles = []\n",
    "list_of_years = []\n",
    "user_ratings = []"
   ]
  },
  {
   "cell_type": "code",
   "execution_count": 5,
   "metadata": {},
   "outputs": [
    {
     "data": {
      "text/plain": [
       "[<span class=\"lister-item-header\">\n",
       " <span class=\"lister-item-index unbold text-primary\">1.</span>\n",
       " <span title=\"Anurag Kashyap (dir.), Kay Kay Menon, Pawan Malhotra\">\n",
       " <a href=\"/title/tt0400234/\">Black Friday</a>\n",
       " <span class=\"lister-item-year text-muted unbold\">(2004)</span>\n",
       " </span>\n",
       " </span>,\n",
       " <span class=\"lister-item-header\">\n",
       " <span class=\"lister-item-index unbold text-primary\">2.</span>\n",
       " <span title=\"Rajkumar Hirani (dir.), Aamir Khan, Madhavan\">\n",
       " <a href=\"/title/tt1187043/\">3 Idiots</a>\n",
       " <span class=\"lister-item-year text-muted unbold\">(2009)</span>\n",
       " </span>\n",
       " </span>]"
      ]
     },
     "execution_count": 5,
     "metadata": {},
     "output_type": "execute_result"
    }
   ],
   "source": [
    "movie_titles=soup.find_all('span',class_='lister-item-header')\n",
    "movie_titles[:2]"
   ]
  },
  {
   "cell_type": "code",
   "execution_count": 6,
   "metadata": {},
   "outputs": [],
   "source": [
    "imdb_ratings=soup.find_all('div',class_='col-imdb-rating')\n",
    "#imdb_ratings"
   ]
  },
  {
   "cell_type": "code",
   "execution_count": 7,
   "metadata": {},
   "outputs": [],
   "source": [
    "for information in movie_titles:\n",
    "    title = information.a.text\n",
    "    list_of_titles.append(title)\n",
    "    year = information.span.text\n",
    "    list_of_years.append(year)\n",
    "       \n",
    "for rating in imdb_ratings:\n",
    "    user_rating = rating.text.strip()\n",
    "    user_ratings.append(user_rating)"
   ]
  },
  {
   "cell_type": "code",
   "execution_count": 9,
   "metadata": {},
   "outputs": [],
   "source": [
    "name=[]\n",
    "for i in range(len(user_ratings))[:100]:\n",
    "    name.append(list_of_titles[i])"
   ]
  },
  {
   "cell_type": "code",
   "execution_count": 10,
   "metadata": {},
   "outputs": [],
   "source": [
    "year=[]\n",
    "for i in range(len(user_ratings))[:100]:\n",
    "    year.append(list_of_years[i])"
   ]
  },
  {
   "cell_type": "code",
   "execution_count": 11,
   "metadata": {},
   "outputs": [],
   "source": [
    "rating=[]\n",
    "for i in range(len(user_ratings))[:100]:\n",
    "    rating.append(user_ratings[i])"
   ]
  },
  {
   "cell_type": "code",
   "execution_count": 13,
   "metadata": {},
   "outputs": [
    {
     "data": {
      "text/html": [
       "<div>\n",
       "<style scoped>\n",
       "    .dataframe tbody tr th:only-of-type {\n",
       "        vertical-align: middle;\n",
       "    }\n",
       "\n",
       "    .dataframe tbody tr th {\n",
       "        vertical-align: top;\n",
       "    }\n",
       "\n",
       "    .dataframe thead th {\n",
       "        text-align: right;\n",
       "    }\n",
       "</style>\n",
       "<table border=\"1\" class=\"dataframe\">\n",
       "  <thead>\n",
       "    <tr style=\"text-align: right;\">\n",
       "      <th></th>\n",
       "      <th>name</th>\n",
       "      <th>rating</th>\n",
       "    </tr>\n",
       "  </thead>\n",
       "  <tbody>\n",
       "    <tr>\n",
       "      <th>0</th>\n",
       "      <td>Black Friday</td>\n",
       "      <td>8.5</td>\n",
       "    </tr>\n",
       "    <tr>\n",
       "      <th>1</th>\n",
       "      <td>3 Idiots</td>\n",
       "      <td>8.4</td>\n",
       "    </tr>\n",
       "    <tr>\n",
       "      <th>2</th>\n",
       "      <td>Dangal</td>\n",
       "      <td>8.4</td>\n",
       "    </tr>\n",
       "    <tr>\n",
       "      <th>3</th>\n",
       "      <td>Taare Zameen Par</td>\n",
       "      <td>8.4</td>\n",
       "    </tr>\n",
       "    <tr>\n",
       "      <th>4</th>\n",
       "      <td>Khosla Ka Ghosla!</td>\n",
       "      <td>8.3</td>\n",
       "    </tr>\n",
       "    <tr>\n",
       "      <th>...</th>\n",
       "      <td>...</td>\n",
       "      <td>...</td>\n",
       "    </tr>\n",
       "    <tr>\n",
       "      <th>95</th>\n",
       "      <td>Raincoat</td>\n",
       "      <td>7.6</td>\n",
       "    </tr>\n",
       "    <tr>\n",
       "      <th>96</th>\n",
       "      <td>Raanjhanaa</td>\n",
       "      <td>7.6</td>\n",
       "    </tr>\n",
       "    <tr>\n",
       "      <th>97</th>\n",
       "      <td>Parched</td>\n",
       "      <td>7.6</td>\n",
       "    </tr>\n",
       "    <tr>\n",
       "      <th>98</th>\n",
       "      <td>Titli</td>\n",
       "      <td>7.6</td>\n",
       "    </tr>\n",
       "    <tr>\n",
       "      <th>99</th>\n",
       "      <td>Bandit Queen</td>\n",
       "      <td>7.6</td>\n",
       "    </tr>\n",
       "  </tbody>\n",
       "</table>\n",
       "<p>100 rows × 2 columns</p>\n",
       "</div>"
      ],
      "text/plain": [
       "                 name rating\n",
       "0        Black Friday    8.5\n",
       "1            3 Idiots    8.4\n",
       "2              Dangal    8.4\n",
       "3    Taare Zameen Par    8.4\n",
       "4   Khosla Ka Ghosla!    8.3\n",
       "..                ...    ...\n",
       "95           Raincoat    7.6\n",
       "96         Raanjhanaa    7.6\n",
       "97            Parched    7.6\n",
       "98              Titli    7.6\n",
       "99       Bandit Queen    7.6\n",
       "\n",
       "[100 rows x 2 columns]"
      ]
     },
     "execution_count": 13,
     "metadata": {},
     "output_type": "execute_result"
    }
   ],
   "source": [
    "import pandas as pd\n",
    "IMDB2 = pd.DataFrame({\n",
    "        \"name\": name,\n",
    "         \"rating\": rating,\n",
    "    })\n",
    "IMDB2"
   ]
  },
  {
   "cell_type": "code",
   "execution_count": 14,
   "metadata": {},
   "outputs": [
    {
     "data": {
      "text/plain": [
       "'name,rating\\r\\nBlack Friday,8.5\\r\\n3 Idiots,8.4\\r\\nDangal,8.4\\r\\nTaare Zameen Par,8.4\\r\\nKhosla Ka Ghosla!,8.3\\r\\nDrishyam,8.2\\r\\nGangs of Wasseypur,8.2\\r\\nGangs of Wasseypur,8.2\\r\\nRang De Basanti,8.2\\r\\nZindagi Na Milegi Dobara,8.2\\r\\nBhaag Milkha Bhaag,8.2\\r\\nMasaan,8.2\\r\\n\"Swades: We, the People\",8.2\\r\\nHera Pheri,8.2\\r\\nTalvar,8.2\\r\\nQueen,8.2\\r\\nBlack,8.2\\r\\nAndaz Apna Apna,8.2\\r\\nSholay,8.2\\r\\nUdaan,8.2\\r\\nSatya,8.2\\r\\nChak De! India,8.2\\r\\nShahid,8.2\\r\\nPaan Singh Tomar,8.2\\r\\nJo Jeeta Wohi Sikandar,8.2\\r\\nPK,8.1\\r\\nLagaan: Once Upon a Time in India,8.1\\r\\nOMG: Oh My God!,8.1\\r\\nKahaani,8.1\\r\\nPink,8.1\\r\\nBarfi!,8.1\\r\\nDilwale Dulhania Le Jayenge,8.1\\r\\nDil Chahta Hai,8.1\\r\\nHaider,8.1\\r\\nA Wednesday,8.1\\r\\nMunna Bhai M.B.B.S.,8.1\\r\\nOmkara,8.1\\r\\nShip of Theseus,8.1\\r\\nMaqbool,8.1\\r\\nDeewaar,8.1\\r\\nGulaal,8.1\\r\\nLage Raho Munna Bhai,8.1\\r\\nSarfarosh,8.1\\r\\nBombay,8.1\\r\\nThe Legend of Bhagat Singh,8.1\\r\\nIqbal,8.1\\r\\nBãhubali: The Beginning,8\\r\\nMy Name Is Khan,8\\r\\nBajrangi Bhaijaan,8\\r\\nBaby,8\\r\\nSpecial Chabbis,8\\r\\nUgly,8\\r\\nSalaam Bombay!,8\\r\\nDev.D,8\\r\\nAirlift,8\\r\\nCompany,8\\r\\nVaastav: The Reality,8\\r\\nAnkhon Dekhi,8\\r\\nManjhi: The Mountain Man,8\\r\\nKal Ho Naa Ho,7.9\\r\\nJab We Met,7.9\\r\\nZakhm,7.9\\r\\nThe Lunchbox,7.8\\r\\nUdta Punjab,7.8\\r\\nEnglish Vinglish,7.8\\r\\nVeer-Zaara,7.8\\r\\nVicky Donor,7.8\\r\\nAligarh,7.8\\r\\nNayak: The Real Hero,7.8\\r\\nDarr,7.8\\r\\nStanley Ka Dabba,7.8\\r\\nGangaajal,7.8\\r\\nDon,7.8\\r\\nDamini,7.8\\r\\nRockstar,7.7\\r\\nKapoor & Sons,7.7\\r\\nMadras Cafe,7.7\\r\\nNeerja,7.7\\r\\nKai po che!,7.7\\r\\nGuru,7.7\\r\\nPyaar Ka Punchnama,7.7\\r\\nEarth,7.7\\r\\nRock On!!,7.7\\r\\nOye Lucky! Lucky Oye!,7.7\\r\\nAgneepath,7.7\\r\\nShool,7.7\\r\\nMatrubhoomi: A Nation Without Women,7.7\\r\\nMumbai Meri Jaan,7.7\\r\\nKuch Kuch Hota Hai,7.6\\r\\nDevdas,7.6\\r\\nHighway,7.6\\r\\nDelhi Belly,7.6\\r\\nJodhaa Akbar,7.6\\r\\nWake Up Sid,7.6\\r\\nPiku,7.6\\r\\nRaincoat,7.6\\r\\nRaanjhanaa,7.6\\r\\nParched,7.6\\r\\nTitli,7.6\\r\\nBandit Queen,7.6\\r\\n'"
      ]
     },
     "execution_count": 14,
     "metadata": {},
     "output_type": "execute_result"
    }
   ],
   "source": [
    "IMDB2.to_csv(index=False)"
   ]
  },
  {
   "cell_type": "code",
   "execution_count": null,
   "metadata": {},
   "outputs": [],
   "source": []
  }
 ],
 "metadata": {
  "kernelspec": {
   "display_name": "Python 3",
   "language": "python",
   "name": "python3"
  },
  "language_info": {
   "codemirror_mode": {
    "name": "ipython",
    "version": 3
   },
   "file_extension": ".py",
   "mimetype": "text/x-python",
   "name": "python",
   "nbconvert_exporter": "python",
   "pygments_lexer": "ipython3",
   "version": "3.7.6"
  }
 },
 "nbformat": 4,
 "nbformat_minor": 4
}
