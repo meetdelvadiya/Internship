{
 "cells": [
  {
   "cell_type": "code",
   "execution_count": 15,
   "metadata": {},
   "outputs": [],
   "source": [
    "from bs4 import BeautifulSoup\n",
    "import requests"
   ]
  },
  {
   "cell_type": "code",
   "execution_count": 16,
   "metadata": {},
   "outputs": [
    {
     "data": {
      "text/plain": [
       "<Response [200]>"
      ]
     },
     "execution_count": 16,
     "metadata": {},
     "output_type": "execute_result"
    }
   ],
   "source": [
    "page=requests.get('https://bookpage.com/reviews')\n",
    "page"
   ]
  },
  {
   "cell_type": "code",
   "execution_count": 17,
   "metadata": {},
   "outputs": [],
   "source": [
    "soup = BeautifulSoup(page.content, \"html.parser\")\n",
    "#soup"
   ]
  },
  {
   "cell_type": "code",
   "execution_count": 33,
   "metadata": {},
   "outputs": [
    {
     "name": "stdout",
     "output_type": "stream",
     "text": [
      " ★ Watercress \n",
      "Andrea Wang, Jason Chin\n",
      "\n",
      "Raft of Stars \n",
      "Andrew J. Graff\n",
      "\n",
      "Until Justice Be Done \n",
      "Kate Masur\n",
      "\n",
      " ★ Breathing Underwater \n",
      "Sarah Allen\n",
      "\n",
      "Confident Women \n",
      "Tori Telfer\n",
      "\n",
      "The Ladies of the Secret Circus \n",
      "Constance Sayers\n",
      "\n",
      "The Unbroken \n",
      "C.L. Clark\n",
      "\n",
      "New Yorkers \n",
      "Craig Taylor\n",
      "\n",
      " ★ Red Widow \n",
      "Alma Katsu\n",
      "\n",
      " ★ Just as I Am \n",
      "Cicely Tyson, Robin Miles\n",
      "\n"
     ]
    }
   ],
   "source": [
    "for book in soup.find_all('div',class_='flex-article-content'):\n",
    "    name=book.h4.a.text\n",
    "    author=book.p.text\n",
    "    print(name,author)"
   ]
  },
  {
   "cell_type": "code",
   "execution_count": 27,
   "metadata": {},
   "outputs": [
    {
     "name": "stdout",
     "output_type": "stream",
     "text": [
      "\n",
      "Children's\n",
      " / \n",
      "Children's Picture Book\n",
      "\n",
      "\n",
      "Fiction\n",
      " / \n",
      "Coming of Age\n",
      "\n",
      "\n",
      "Nonfiction\n",
      " / \n",
      "History\n",
      " / \n",
      "American History\n",
      "\n",
      "\n",
      "Children's\n",
      " / \n",
      "Middle Grade\n",
      "\n",
      "\n",
      "Nonfiction\n",
      " / \n",
      "True Crime\n",
      " / \n",
      "Women's History\n",
      "\n",
      "\n",
      "Fiction\n",
      " / \n",
      "Speculative Fiction\n",
      "\n",
      "\n",
      "Science Fiction & Fantasy\n",
      " / \n",
      "Fantasy\n",
      "\n",
      "\n",
      "Nonfiction\n",
      " / \n",
      "Culture\n",
      " / \n",
      "History\n",
      "\n",
      "\n",
      "Mystery & Suspense\n",
      " / \n",
      "Suspense\n",
      "\n",
      "\n",
      "Audio\n",
      " / \n",
      "Nonfiction\n",
      " / \n",
      "Biography & Memoir\n",
      "\n"
     ]
    }
   ],
   "source": [
    "for book in soup.find_all('p',class_='genre-links hidden-phone'):\n",
    "    print(book.get_text())"
   ]
  },
  {
   "cell_type": "code",
   "execution_count": 31,
   "metadata": {},
   "outputs": [
    {
     "name": "stdout",
     "output_type": "stream",
     "text": [
      "\n",
      "Author Andrea Wang’s childhood memory of picking watercress by the side of the road serves as the inspiration for this emotional powerhouse of a picture book, which she describes in an author’s note as “both an apology and a love letter” to her parents. \n",
      "\n",
      "\n",
      "Andrew J. Graff’s fine debut novel begins gently but builds to a thumping climax on a raging river.\n",
      "\n",
      "\n",
      "Masur’s scholarly but accessible history demonstrates how thoroughly racism pervaded both the North and the South during the 19th century.\n",
      "\n",
      "\n",
      "When 13-year-old Olivia climbs aboard her aunt and uncle’s RV with her prized camera and her 16-year-old sister, Ruth, she’s both excited and trepidatious.\n",
      "\n",
      "\n",
      "With Tori Telfer at the wheel, reading these tales of plunder—littered with diamonds, fancy cars, mansions, booze and furs—is a fun, spicy romp.\n",
      "\n",
      "\n",
      "Constance Sayers’ second novel is just as much about the secrets we keep in the name of family as it is about the spells we cast in the name of love.\n",
      "\n",
      "\n",
      "Lieutenant Touraine is a conscript. Kidnapped from her homeland as a small child—once the Shāzan Empire, now the colony of Qazāl—she has been forced into service in the Colonial Brigade of Balladaire.\n",
      "\n",
      "\n",
      "In January 2014, Canadian writer Craig Taylor relocated to New York City with a mission: He would interview New Yorkers about themselves and their city.\n",
      "\n",
      "\n",
      "Alma Katsu, known for her spooky historical novels, showcases her versatility in Red Widow, an espionage thriller.\n",
      "\n",
      "\n",
      "Narrator Robin Miles bringing the same warmth and depth of characterization to Cicely Tyson’s memoir as she did to Isabel Wilkerson’s Caste.\n",
      "\n"
     ]
    }
   ],
   "source": [
    "for book in soup.find_all('p',class_='excerpt'):\n",
    "    print(book.get_text()) "
   ]
  },
  {
   "cell_type": "code",
   "execution_count": null,
   "metadata": {},
   "outputs": [],
   "source": []
  }
 ],
 "metadata": {
  "kernelspec": {
   "display_name": "Python 3",
   "language": "python",
   "name": "python3"
  },
  "language_info": {
   "codemirror_mode": {
    "name": "ipython",
    "version": 3
   },
   "file_extension": ".py",
   "mimetype": "text/x-python",
   "name": "python",
   "nbconvert_exporter": "python",
   "pygments_lexer": "ipython3",
   "version": "3.7.6"
  }
 },
 "nbformat": 4,
 "nbformat_minor": 4
}
