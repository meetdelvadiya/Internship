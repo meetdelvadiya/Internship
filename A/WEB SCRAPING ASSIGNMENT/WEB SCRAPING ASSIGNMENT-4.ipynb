{
 "cells": [
  {
   "cell_type": "code",
   "execution_count": 2,
   "metadata": {},
   "outputs": [],
   "source": [
    "from bs4 import BeautifulSoup\n",
    "import requests"
   ]
  },
  {
   "cell_type": "code",
   "execution_count": 3,
   "metadata": {},
   "outputs": [
    {
     "data": {
      "text/plain": [
       "<Response [200]>"
      ]
     },
     "execution_count": 3,
     "metadata": {},
     "output_type": "execute_result"
    }
   ],
   "source": [
    "page=requests.get('https://bookpage.com/reviews')\n",
    "page"
   ]
  },
  {
   "cell_type": "code",
   "execution_count": 4,
   "metadata": {},
   "outputs": [],
   "source": [
    "soup = BeautifulSoup(page.content, \"html.parser\")\n",
    "#soup"
   ]
  },
  {
   "cell_type": "code",
   "execution_count": 7,
   "metadata": {},
   "outputs": [],
   "source": [
    "name=[]\n",
    "author=[]\n",
    "for book in soup.find_all('div',class_='flex-article-content'):\n",
    "    name.append(book.h4.a.text)\n",
    "    author.append(book.p.text)"
   ]
  },
  {
   "cell_type": "code",
   "execution_count": 8,
   "metadata": {},
   "outputs": [],
   "source": [
    "genre=[]\n",
    "for book in soup.find_all('p',class_='genre-links hidden-phone'):\n",
    "    genre.append(book.get_text())"
   ]
  },
  {
   "cell_type": "code",
   "execution_count": 9,
   "metadata": {},
   "outputs": [],
   "source": [
    "review=[]\n",
    "for book in soup.find_all('p',class_='excerpt'):\n",
    "    review.append(book.get_text()) "
   ]
  },
  {
   "cell_type": "code",
   "execution_count": 10,
   "metadata": {},
   "outputs": [
    {
     "data": {
      "text/html": [
       "<div>\n",
       "<style scoped>\n",
       "    .dataframe tbody tr th:only-of-type {\n",
       "        vertical-align: middle;\n",
       "    }\n",
       "\n",
       "    .dataframe tbody tr th {\n",
       "        vertical-align: top;\n",
       "    }\n",
       "\n",
       "    .dataframe thead th {\n",
       "        text-align: right;\n",
       "    }\n",
       "</style>\n",
       "<table border=\"1\" class=\"dataframe\">\n",
       "  <thead>\n",
       "    <tr style=\"text-align: right;\">\n",
       "      <th></th>\n",
       "      <th>name</th>\n",
       "      <th>author</th>\n",
       "      <th>genre</th>\n",
       "      <th>review</th>\n",
       "    </tr>\n",
       "  </thead>\n",
       "  <tbody>\n",
       "    <tr>\n",
       "      <th>0</th>\n",
       "      <td>★ Watercress</td>\n",
       "      <td>\\nAndrea Wang, Jason Chin\\n</td>\n",
       "      <td>\\nChildren's\\n / \\nChildren's Picture Book\\n</td>\n",
       "      <td>\\nAuthor Andrea Wang’s childhood memory of pic...</td>\n",
       "    </tr>\n",
       "    <tr>\n",
       "      <th>1</th>\n",
       "      <td>Raft of Stars</td>\n",
       "      <td>\\nAndrew J. Graff\\n</td>\n",
       "      <td>\\nFiction\\n / \\nComing of Age\\n</td>\n",
       "      <td>\\nAndrew J. Graff’s fine debut novel begins ge...</td>\n",
       "    </tr>\n",
       "    <tr>\n",
       "      <th>2</th>\n",
       "      <td>Until Justice Be Done</td>\n",
       "      <td>\\nKate Masur\\n</td>\n",
       "      <td>\\nNonfiction\\n / \\nHistory\\n / \\nAmerican Hist...</td>\n",
       "      <td>\\nMasur’s scholarly but accessible history dem...</td>\n",
       "    </tr>\n",
       "    <tr>\n",
       "      <th>3</th>\n",
       "      <td>★ Breathing Underwater</td>\n",
       "      <td>\\nSarah Allen\\n</td>\n",
       "      <td>\\nChildren's\\n / \\nMiddle Grade\\n</td>\n",
       "      <td>\\nWhen 13-year-old Olivia climbs aboard her au...</td>\n",
       "    </tr>\n",
       "    <tr>\n",
       "      <th>4</th>\n",
       "      <td>Confident Women</td>\n",
       "      <td>\\nTori Telfer\\n</td>\n",
       "      <td>\\nNonfiction\\n / \\nTrue Crime\\n / \\nWomen's Hi...</td>\n",
       "      <td>\\nWith Tori Telfer at the wheel, reading these...</td>\n",
       "    </tr>\n",
       "    <tr>\n",
       "      <th>5</th>\n",
       "      <td>The Ladies of the Secret Circus</td>\n",
       "      <td>\\nConstance Sayers\\n</td>\n",
       "      <td>\\nFiction\\n / \\nSpeculative Fiction\\n</td>\n",
       "      <td>\\nConstance Sayers’ second novel is just as mu...</td>\n",
       "    </tr>\n",
       "    <tr>\n",
       "      <th>6</th>\n",
       "      <td>The Unbroken</td>\n",
       "      <td>\\nC.L. Clark\\n</td>\n",
       "      <td>\\nScience Fiction &amp; Fantasy\\n / \\nFantasy\\n</td>\n",
       "      <td>\\nLieutenant Touraine is a conscript. Kidnappe...</td>\n",
       "    </tr>\n",
       "    <tr>\n",
       "      <th>7</th>\n",
       "      <td>New Yorkers</td>\n",
       "      <td>\\nCraig Taylor\\n</td>\n",
       "      <td>\\nNonfiction\\n / \\nCulture\\n / \\nHistory\\n</td>\n",
       "      <td>\\nIn January 2014, Canadian writer Craig Taylo...</td>\n",
       "    </tr>\n",
       "    <tr>\n",
       "      <th>8</th>\n",
       "      <td>★ Red Widow</td>\n",
       "      <td>\\nAlma Katsu\\n</td>\n",
       "      <td>\\nMystery &amp; Suspense\\n / \\nSuspense\\n</td>\n",
       "      <td>\\nAlma Katsu, known for her spooky historical ...</td>\n",
       "    </tr>\n",
       "    <tr>\n",
       "      <th>9</th>\n",
       "      <td>★ Just as I Am</td>\n",
       "      <td>\\nCicely Tyson, Robin Miles\\n</td>\n",
       "      <td>\\nAudio\\n / \\nNonfiction\\n / \\nBiography &amp; Mem...</td>\n",
       "      <td>\\nNarrator Robin Miles bringing the same warmt...</td>\n",
       "    </tr>\n",
       "  </tbody>\n",
       "</table>\n",
       "</div>"
      ],
      "text/plain": [
       "                              name                         author  \\\n",
       "0                     ★ Watercress    \\nAndrea Wang, Jason Chin\\n   \n",
       "1                    Raft of Stars            \\nAndrew J. Graff\\n   \n",
       "2            Until Justice Be Done                 \\nKate Masur\\n   \n",
       "3           ★ Breathing Underwater                \\nSarah Allen\\n   \n",
       "4                  Confident Women                \\nTori Telfer\\n   \n",
       "5  The Ladies of the Secret Circus           \\nConstance Sayers\\n   \n",
       "6                     The Unbroken                 \\nC.L. Clark\\n   \n",
       "7                      New Yorkers               \\nCraig Taylor\\n   \n",
       "8                      ★ Red Widow                 \\nAlma Katsu\\n   \n",
       "9                   ★ Just as I Am  \\nCicely Tyson, Robin Miles\\n   \n",
       "\n",
       "                                               genre  \\\n",
       "0       \\nChildren's\\n / \\nChildren's Picture Book\\n   \n",
       "1                    \\nFiction\\n / \\nComing of Age\\n   \n",
       "2  \\nNonfiction\\n / \\nHistory\\n / \\nAmerican Hist...   \n",
       "3                  \\nChildren's\\n / \\nMiddle Grade\\n   \n",
       "4  \\nNonfiction\\n / \\nTrue Crime\\n / \\nWomen's Hi...   \n",
       "5              \\nFiction\\n / \\nSpeculative Fiction\\n   \n",
       "6        \\nScience Fiction & Fantasy\\n / \\nFantasy\\n   \n",
       "7         \\nNonfiction\\n / \\nCulture\\n / \\nHistory\\n   \n",
       "8              \\nMystery & Suspense\\n / \\nSuspense\\n   \n",
       "9  \\nAudio\\n / \\nNonfiction\\n / \\nBiography & Mem...   \n",
       "\n",
       "                                              review  \n",
       "0  \\nAuthor Andrea Wang’s childhood memory of pic...  \n",
       "1  \\nAndrew J. Graff’s fine debut novel begins ge...  \n",
       "2  \\nMasur’s scholarly but accessible history dem...  \n",
       "3  \\nWhen 13-year-old Olivia climbs aboard her au...  \n",
       "4  \\nWith Tori Telfer at the wheel, reading these...  \n",
       "5  \\nConstance Sayers’ second novel is just as mu...  \n",
       "6  \\nLieutenant Touraine is a conscript. Kidnappe...  \n",
       "7  \\nIn January 2014, Canadian writer Craig Taylo...  \n",
       "8  \\nAlma Katsu, known for her spooky historical ...  \n",
       "9  \\nNarrator Robin Miles bringing the same warmt...  "
      ]
     },
     "execution_count": 10,
     "metadata": {},
     "output_type": "execute_result"
    }
   ],
   "source": [
    "import pandas as pd\n",
    "book = pd.DataFrame({\n",
    "        \"name\": name,\n",
    "         \"author\": author,\n",
    "         \"genre\": genre,\n",
    "        \"review\": review\n",
    "    })\n",
    "book"
   ]
  },
  {
   "cell_type": "code",
   "execution_count": 11,
   "metadata": {},
   "outputs": [
    {
     "data": {
      "text/plain": [
       "'name,author,genre,review\\r\\n ★ Watercress,\"\\nAndrea Wang, Jason Chin\\n\",\"\\nChildren\\'s\\n / \\nChildren\\'s Picture Book\\n\",\"\\nAuthor Andrea Wang’s childhood memory of picking watercress by the side of the road serves as the inspiration for this emotional powerhouse of a picture book, which she describes in an author’s note as “both an apology and a love letter” to her parents.\\xa0\\n\"\\r\\nRaft of Stars,\"\\nAndrew J. Graff\\n\",\"\\nFiction\\n / \\nComing of Age\\n\",\"\\nAndrew J. Graff’s fine debut novel begins gently but builds to a thumping climax on a raging river.\\n\"\\r\\nUntil Justice Be Done,\"\\nKate Masur\\n\",\"\\nNonfiction\\n / \\nHistory\\n / \\nAmerican History\\n\",\"\\nMasur’s scholarly but accessible history demonstrates how thoroughly racism pervaded both the North and the South during the 19th century.\\n\"\\r\\n ★ Breathing Underwater,\"\\nSarah Allen\\n\",\"\\nChildren\\'s\\n / \\nMiddle Grade\\n\",\"\\nWhen 13-year-old Olivia climbs aboard her aunt and uncle’s RV with her prized camera and her 16-year-old sister, Ruth, she’s both excited and trepidatious.\\n\"\\r\\nConfident Women,\"\\nTori Telfer\\n\",\"\\nNonfiction\\n / \\nTrue Crime\\n / \\nWomen\\'s History\\n\",\"\\nWith Tori Telfer at the wheel, reading these tales of plunder—littered with diamonds, fancy cars, mansions, booze and furs—is a fun, spicy romp.\\n\"\\r\\nThe Ladies of the Secret Circus,\"\\nConstance Sayers\\n\",\"\\nFiction\\n / \\nSpeculative Fiction\\n\",\"\\nConstance Sayers’ second novel is just as much about the secrets we keep in the name of family as it is about the spells we cast in the name of love.\\n\"\\r\\nThe Unbroken,\"\\nC.L. Clark\\n\",\"\\nScience Fiction & Fantasy\\n / \\nFantasy\\n\",\"\\nLieutenant Touraine is a conscript. Kidnapped from her homeland as a small child—once the Shāzan Empire, now the colony of Qazāl—she has been forced into service in the Colonial Brigade of Balladaire.\\n\"\\r\\nNew Yorkers,\"\\nCraig Taylor\\n\",\"\\nNonfiction\\n / \\nCulture\\n / \\nHistory\\n\",\"\\nIn January 2014, Canadian writer Craig Taylor relocated to New York City with a mission: He would interview New Yorkers about themselves and their city.\\n\"\\r\\n ★ Red Widow,\"\\nAlma Katsu\\n\",\"\\nMystery & Suspense\\n / \\nSuspense\\n\",\"\\nAlma Katsu, known for her spooky historical novels, showcases her versatility in Red Widow, an espionage thriller.\\n\"\\r\\n ★ Just as I Am,\"\\nCicely Tyson, Robin Miles\\n\",\"\\nAudio\\n / \\nNonfiction\\n / \\nBiography & Memoir\\n\",\"\\nNarrator Robin Miles bringing the same warmth and depth of characterization to Cicely Tyson’s memoir as she did to Isabel Wilkerson’s Caste.\\n\"\\r\\n'"
      ]
     },
     "execution_count": 11,
     "metadata": {},
     "output_type": "execute_result"
    }
   ],
   "source": [
    "book.to_csv(index=False)"
   ]
  },
  {
   "cell_type": "code",
   "execution_count": null,
   "metadata": {},
   "outputs": [],
   "source": []
  }
 ],
 "metadata": {
  "kernelspec": {
   "display_name": "Python 3",
   "language": "python",
   "name": "python3"
  },
  "language_info": {
   "codemirror_mode": {
    "name": "ipython",
    "version": 3
   },
   "file_extension": ".py",
   "mimetype": "text/x-python",
   "name": "python",
   "nbconvert_exporter": "python",
   "pygments_lexer": "ipython3",
   "version": "3.7.6"
  }
 },
 "nbformat": 4,
 "nbformat_minor": 4
}
