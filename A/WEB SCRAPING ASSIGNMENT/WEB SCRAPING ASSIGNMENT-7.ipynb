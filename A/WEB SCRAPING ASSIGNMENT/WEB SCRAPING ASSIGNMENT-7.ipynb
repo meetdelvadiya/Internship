{
 "cells": [
  {
   "cell_type": "code",
   "execution_count": 2,
   "metadata": {},
   "outputs": [],
   "source": [
    "from bs4 import BeautifulSoup\n",
    "import requests"
   ]
  },
  {
   "cell_type": "code",
   "execution_count": 3,
   "metadata": {},
   "outputs": [
    {
     "data": {
      "text/plain": [
       "<Response [200]>"
      ]
     },
     "execution_count": 3,
     "metadata": {},
     "output_type": "execute_result"
    }
   ],
   "source": [
    "page=requests.get('https://www.amazon.in/s?k=mobile+phones+under+20000&rh=p_36%3A-2000000&qid=1616761817&rnid=1318502031&ref=sr_nr_p_36_5')\n",
    "page"
   ]
  },
  {
   "cell_type": "code",
   "execution_count": 4,
   "metadata": {},
   "outputs": [],
   "source": [
    "soup = BeautifulSoup(page.content, \"html.parser\")\n",
    "#soup"
   ]
  },
  {
   "cell_type": "code",
   "execution_count": 34,
   "metadata": {},
   "outputs": [
    {
     "name": "stdout",
     "output_type": "stream",
     "text": [
      "Redmi 9 (Sky Blue, 4GB RAM, 64GB Storage)\n",
      "Redmi 9A (Nature Green, 2GB Ram, 32GB Storage) | 2GHz Octa-core Helio G25 Processor\n",
      "Redmi 9A (Midnight Black, 2GB RAM, 32GB Storage) | 2GHz Octa-core Helio G25 Processor\n",
      "Oppo A31 (Mystery Black, 6GB RAM, 128GB Storage) with No Cost EMI/Additional Exchange Offers\n",
      "Redmi 9 Prime (Sunrise Flare, 4GB RAM, 64GB Storage)- Full HD+ Display & AI Quad Camera\n",
      "Samsung Galaxy M31 (Ocean Blue, 6GB RAM, 128GB Storage)\n",
      "Oppo A31 (Fantasy White, 6GB RAM, 128GB Storage) with No Cost EMI/Additional Exchange Offers\n",
      "OPPO A31 (Mystery Black, 4GB RAM, 64GB Storage) with No Cost EMI/Additional Exchange Offers\n",
      "Samsung Galaxy M21 (Midnight Blue, 4GB RAM, 64GB Storage)\n",
      "Samsung Galaxy M31s (Mirage Blue, 6GB RAM, 128GB Storage)\n",
      "Vivo Y91i (Ocean Blue, 2GB RAM, 32GB Storage) with No Cost EMI/Additional Exchange Offers\n",
      "Redmi Note 9 Pro (Interstellar Black, 4GB RAM, 64GB Storage)- Latest 8nm Snapdragon 720G & Alexa Hands-Free\n",
      "Vivo Y91i (Fusion Black, 2GB RAM, 32GB Storage) with No Cost EMI/Additional Exchange Offers\n",
      "Samsung Galaxy M12 (Blue,6GB RAM, 128GB Storage) 6000 mAh with 8nm Processor | True 48 MP Quad Camera | 90Hz Refresh Rate\n",
      "Samsung Galaxy M12 (Blue,4GB RAM, 64GB Storage) 6000 mAh with 8nm Processor | True 48 MP Quad Camera | 90Hz Refresh Rate\n",
      "Redmi Note 9 Pro Max (Interstellar Black, 6GB RAM, 64GB Storage) - 64MP Quad Camera & Alexa Hands-Free\n"
     ]
    }
   ],
   "source": [
    "for data in soup.find_all('span',class_='a-size-medium a-color-base a-text-normal'):\n",
    "    print(data.get_text())"
   ]
  },
  {
   "cell_type": "code",
   "execution_count": 29,
   "metadata": {},
   "outputs": [
    {
     "name": "stdout",
     "output_type": "stream",
     "text": [
      "8,799\n",
      "6,799\n",
      "6,799\n",
      "11,990\n",
      "9,499\n",
      "16,499\n",
      "11,990\n",
      "10,990\n",
      "13,999\n",
      "18,499\n",
      "7,990\n",
      "12,999\n",
      "7,990\n",
      "13,499\n",
      "10,999\n",
      "14,999\n"
     ]
    }
   ],
   "source": [
    "for data in soup.find_all('span',class_='a-price-whole'):\n",
    "    print(data.get_text())"
   ]
  },
  {
   "cell_type": "code",
   "execution_count": 32,
   "metadata": {},
   "outputs": [
    {
     "name": "stdout",
     "output_type": "stream",
     "text": [
      "4.1 out of 5 stars\n",
      "4.2 out of 5 stars\n",
      "4.2 out of 5 stars\n",
      "4.2 out of 5 stars\n",
      "4.2 out of 5 stars\n",
      "4.3 out of 5 stars\n",
      "4.2 out of 5 stars\n",
      "4.2 out of 5 stars\n",
      "4.2 out of 5 stars\n",
      "4.3 out of 5 stars\n",
      "4.1 out of 5 stars\n",
      "4.2 out of 5 stars\n",
      "4.2 out of 5 stars\n",
      "3.8 out of 5 stars\n",
      "3.8 out of 5 stars\n",
      "4.2 out of 5 stars\n",
      "4 Stars & Up\n",
      "3 Stars & Up\n",
      "2 Stars & Up\n",
      "1 Star & Up\n"
     ]
    }
   ],
   "source": [
    "for data in soup.find_all('span',class_='a-icon-alt'):\n",
    "    print(data.get_text())"
   ]
  },
  {
   "cell_type": "code",
   "execution_count": 37,
   "metadata": {},
   "outputs": [
    {
     "name": "stdout",
     "output_type": "stream",
     "text": [
      "\n",
      "\n",
      "\n",
      "\n",
      "\n",
      "\n",
      "\n",
      "\n",
      "\n",
      "\n",
      "\n",
      "\n",
      "\n",
      "\n",
      "\n",
      "\n",
      "\n",
      "\n",
      "\n",
      "\n",
      "\n"
     ]
    }
   ],
   "source": [
    "for data in soup.find_all('img',class_='s-image'):\n",
    "    print(data.get_text())"
   ]
  },
  {
   "cell_type": "code",
   "execution_count": 27,
   "metadata": {},
   "outputs": [
    {
     "name": "stdout",
     "output_type": "stream",
     "text": [
      "None\n"
     ]
    }
   ],
   "source": [
    "img=soup.find('img src',class_='a-section aok-relative s-image-fixed-height')\n",
    "print(img)"
   ]
  },
  {
   "cell_type": "code",
   "execution_count": null,
   "metadata": {},
   "outputs": [],
   "source": []
  }
 ],
 "metadata": {
  "kernelspec": {
   "display_name": "Python 3",
   "language": "python",
   "name": "python3"
  },
  "language_info": {
   "codemirror_mode": {
    "name": "ipython",
    "version": 3
   },
   "file_extension": ".py",
   "mimetype": "text/x-python",
   "name": "python",
   "nbconvert_exporter": "python",
   "pygments_lexer": "ipython3",
   "version": "3.7.6"
  }
 },
 "nbformat": 4,
 "nbformat_minor": 4
}
