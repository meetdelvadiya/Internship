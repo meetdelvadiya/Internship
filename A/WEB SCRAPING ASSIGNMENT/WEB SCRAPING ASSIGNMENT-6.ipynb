{
 "cells": [
  {
   "cell_type": "code",
   "execution_count": 4,
   "metadata": {},
   "outputs": [],
   "source": [
    "from bs4 import BeautifulSoup\n",
    "import requests"
   ]
  },
  {
   "cell_type": "markdown",
   "metadata": {},
   "source": [
    "# Top 10 ODI Team Women"
   ]
  },
  {
   "cell_type": "code",
   "execution_count": 31,
   "metadata": {},
   "outputs": [
    {
     "data": {
      "text/plain": [
       "<Response [200]>"
      ]
     },
     "execution_count": 31,
     "metadata": {},
     "output_type": "execute_result"
    }
   ],
   "source": [
    "page=requests.get('https://www.icc-cricket.com/rankings/womens/team-rankings/odi')\n",
    "page"
   ]
  },
  {
   "cell_type": "code",
   "execution_count": 32,
   "metadata": {},
   "outputs": [],
   "source": [
    "soup = BeautifulSoup(page.content, \"html.parser\")\n",
    "#soup"
   ]
  },
  {
   "cell_type": "code",
   "execution_count": 34,
   "metadata": {},
   "outputs": [
    {
     "name": "stdout",
     "output_type": "stream",
     "text": [
      "Australia\n",
      "South Africa\n",
      "England\n",
      "India\n",
      "New Zealand\n",
      "West Indies\n",
      "Pakistan\n",
      "Bangladesh\n",
      "Sri Lanka\n",
      "Ireland\n"
     ]
    }
   ],
   "source": [
    "for data in soup.find_all('span',class_='u-hide-phablet')[:10]:\n",
    "    print(data.get_text())"
   ]
  },
  {
   "cell_type": "code",
   "execution_count": 35,
   "metadata": {},
   "outputs": [
    {
     "name": "stdout",
     "output_type": "stream",
     "text": [
      "15\n",
      "2,436\n",
      "24\n",
      "2,828\n",
      "17\n",
      "1,993\n",
      "20\n",
      "2,226\n",
      "18\n",
      "1,696\n",
      "12\n",
      "1,025\n",
      "15\n",
      "1,101\n",
      "5\n",
      "306\n",
      "11\n",
      "519\n",
      "2\n",
      "25\n"
     ]
    }
   ],
   "source": [
    "icc=soup.find('td',class_='rankings-block__banner--matches')\n",
    "match=icc.text\n",
    "print(match)\n",
    "icc=soup.find('td',class_='rankings-block__banner--points')\n",
    "point=icc.text\n",
    "print(point)\n",
    "for data in soup.find_all('td',class_='table-body__cell u-center-text')[:20]:\n",
    "    print(data.get_text())"
   ]
  },
  {
   "cell_type": "code",
   "execution_count": 36,
   "metadata": {},
   "outputs": [
    {
     "name": "stdout",
     "output_type": "stream",
     "text": [
      "\n",
      "                            162\n",
      "                            \n",
      "\n",
      "\n",
      "118\n",
      "117\n",
      "111\n",
      "94\n",
      "85\n",
      "73\n",
      "61\n",
      "47\n",
      "13\n"
     ]
    }
   ],
   "source": [
    "icc=soup.find('td',class_='rankings-block__banner--rating u-text-right')\n",
    "rating=icc.text\n",
    "print(rating)\n",
    "for data in soup.find_all('td',class_='table-body__cell u-text-right rating')[:9]:\n",
    "    print(data.get_text())"
   ]
  },
  {
   "cell_type": "markdown",
   "metadata": {},
   "source": [
    "# Top 10 ODI Batsmen Women"
   ]
  },
  {
   "cell_type": "code",
   "execution_count": 37,
   "metadata": {},
   "outputs": [
    {
     "data": {
      "text/plain": [
       "<Response [200]>"
      ]
     },
     "execution_count": 37,
     "metadata": {},
     "output_type": "execute_result"
    }
   ],
   "source": [
    "page=requests.get('https://www.icc-cricket.com/rankings/womens/player-rankings/odi/batting')\n",
    "page"
   ]
  },
  {
   "cell_type": "code",
   "execution_count": 38,
   "metadata": {},
   "outputs": [],
   "source": [
    "soup = BeautifulSoup(page.content, \"html.parser\")\n",
    "#soup"
   ]
  },
  {
   "cell_type": "code",
   "execution_count": 39,
   "metadata": {},
   "outputs": [
    {
     "name": "stdout",
     "output_type": "stream",
     "text": [
      "Tammy Beaumont\n",
      "\n",
      "Lizelle Lee\n",
      "\n",
      "\n",
      "Meg Lanning\n",
      "\n",
      "\n",
      "Stafanie Taylor\n",
      "\n",
      "\n",
      "Alyssa Healy\n",
      "\n",
      "\n",
      "Amy Satterthwaite\n",
      "\n",
      "\n",
      "Smriti Mandhana\n",
      "\n",
      "\n",
      "Mithali Raj\n",
      "\n",
      "\n",
      "Ellyse Perry\n",
      "\n",
      "\n",
      "Natalie Sciver\n",
      "\n"
     ]
    }
   ],
   "source": [
    "icc=soup.find('div',class_='rankings-block__banner--name-large')\n",
    "name=icc.text\n",
    "print(name)\n",
    "for data in soup.find_all('td',class_='table-body__cell rankings-table__name name')[:9]:\n",
    "    print(data.get_text())"
   ]
  },
  {
   "cell_type": "code",
   "execution_count": 40,
   "metadata": {},
   "outputs": [
    {
     "name": "stdout",
     "output_type": "stream",
     "text": [
      "\n",
      "\n",
      "ENG\n",
      "SA\n",
      "AUS\n",
      "WI\n",
      "AUS\n",
      "NZ\n",
      "IND\n",
      "IND\n",
      "AUS\n",
      "ENG\n"
     ]
    }
   ],
   "source": [
    "icc=soup.find('div',class_='rankings-block__banner--nationality')\n",
    "team=icc.text\n",
    "print(team)\n",
    "for data in soup.find_all('span',class_='table-body__logo-text')[:9]:\n",
    "    print(data.get_text())\n",
    "    "
   ]
  },
  {
   "cell_type": "code",
   "execution_count": 41,
   "metadata": {},
   "outputs": [
    {
     "name": "stdout",
     "output_type": "stream",
     "text": [
      "765\n",
      "758\n",
      "749\n",
      "746\n",
      "741\n",
      "740\n",
      "710\n",
      "709\n",
      "691\n",
      "685\n"
     ]
    }
   ],
   "source": [
    "icc=soup.find('div',class_='rankings-block__banner--rating')\n",
    "rating=icc.text\n",
    "print(rating)\n",
    "for data in soup.find_all('td',class_='table-body__cell rating')[:9]:\n",
    "    print(data.get_text())"
   ]
  },
  {
   "cell_type": "markdown",
   "metadata": {},
   "source": [
    "# Top 10 ODI All-Rounder Women"
   ]
  },
  {
   "cell_type": "code",
   "execution_count": 43,
   "metadata": {},
   "outputs": [
    {
     "data": {
      "text/plain": [
       "<Response [200]>"
      ]
     },
     "execution_count": 43,
     "metadata": {},
     "output_type": "execute_result"
    }
   ],
   "source": [
    "page=requests.get('https://www.icc-cricket.com/rankings/womens/player-rankings/odi/all-rounder')\n",
    "page"
   ]
  },
  {
   "cell_type": "code",
   "execution_count": 44,
   "metadata": {},
   "outputs": [],
   "source": [
    "soup = BeautifulSoup(page.content, \"html.parser\")\n",
    "#soup"
   ]
  },
  {
   "cell_type": "code",
   "execution_count": 45,
   "metadata": {},
   "outputs": [
    {
     "name": "stdout",
     "output_type": "stream",
     "text": [
      "Ellyse Perry\n",
      "\n",
      "Marizanne Kapp\n",
      "\n",
      "\n",
      "Stafanie Taylor\n",
      "\n",
      "\n",
      "Natalie Sciver\n",
      "\n",
      "\n",
      "Deepti Sharma\n",
      "\n",
      "\n",
      "Jess Jonassen\n",
      "\n",
      "\n",
      "Sophie Devine\n",
      "\n",
      "\n",
      "Dane van Niekerk\n",
      "\n",
      "\n",
      "Katherine Brunt\n",
      "\n",
      "\n",
      "Ashleigh Gardner\n",
      "\n"
     ]
    }
   ],
   "source": [
    "icc=soup.find('div',class_='rankings-block__banner--name-large')\n",
    "name=icc.text\n",
    "print(name)\n",
    "for data in soup.find_all('td',class_='table-body__cell rankings-table__name name')[:9]:\n",
    "    print(data.get_text())"
   ]
  },
  {
   "cell_type": "code",
   "execution_count": 46,
   "metadata": {},
   "outputs": [
    {
     "name": "stdout",
     "output_type": "stream",
     "text": [
      "\n",
      "\n",
      "AUS\n",
      "SA\n",
      "WI\n",
      "ENG\n",
      "IND\n",
      "AUS\n",
      "NZ\n",
      "SA\n",
      "ENG\n",
      "AUS\n"
     ]
    }
   ],
   "source": [
    "icc=soup.find('div',class_='rankings-block__banner--nationality')\n",
    "team=icc.text\n",
    "print(team)\n",
    "for data in soup.find_all('span',class_='table-body__logo-text')[:9]:\n",
    "    print(data.get_text())\n",
    "    "
   ]
  },
  {
   "cell_type": "code",
   "execution_count": 47,
   "metadata": {},
   "outputs": [
    {
     "name": "stdout",
     "output_type": "stream",
     "text": [
      "460\n",
      "418\n",
      "410\n",
      "349\n",
      "343\n",
      "301\n",
      "274\n",
      "243\n",
      "236\n",
      "223\n"
     ]
    }
   ],
   "source": [
    "icc=soup.find('div',class_='rankings-block__banner--rating')\n",
    "rating=icc.text\n",
    "print(rating)\n",
    "for data in soup.find_all('td',class_='table-body__cell rating')[:9]:\n",
    "    print(data.get_text())"
   ]
  },
  {
   "cell_type": "code",
   "execution_count": null,
   "metadata": {},
   "outputs": [],
   "source": []
  }
 ],
 "metadata": {
  "kernelspec": {
   "display_name": "Python 3",
   "language": "python",
   "name": "python3"
  },
  "language_info": {
   "codemirror_mode": {
    "name": "ipython",
    "version": 3
   },
   "file_extension": ".py",
   "mimetype": "text/x-python",
   "name": "python",
   "nbconvert_exporter": "python",
   "pygments_lexer": "ipython3",
   "version": "3.7.6"
  }
 },
 "nbformat": 4,
 "nbformat_minor": 4
}
