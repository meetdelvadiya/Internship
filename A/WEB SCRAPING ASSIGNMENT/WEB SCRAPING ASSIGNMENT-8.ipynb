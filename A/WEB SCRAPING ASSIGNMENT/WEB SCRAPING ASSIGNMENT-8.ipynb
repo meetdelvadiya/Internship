{
 "cells": [
  {
   "cell_type": "code",
   "execution_count": 1,
   "metadata": {},
   "outputs": [],
   "source": [
    "from bs4 import BeautifulSoup\n",
    "import requests"
   ]
  },
  {
   "cell_type": "code",
   "execution_count": 2,
   "metadata": {},
   "outputs": [],
   "source": [
    "page=requests.get('https://forecast.weather.gov/MapClick.php?lat=37.77493000000004&lon=-122.41941999999995#.YFi_q68zbIU')"
   ]
  },
  {
   "cell_type": "code",
   "execution_count": 3,
   "metadata": {},
   "outputs": [],
   "source": [
    "soup = BeautifulSoup(page.content, \"html.parser\")\n",
    "#soup"
   ]
  },
  {
   "cell_type": "code",
   "execution_count": 5,
   "metadata": {},
   "outputs": [],
   "source": [
    "seven_day = soup.find(id=\"seven-day-forecast\")\n",
    "forecast_items = seven_day.find_all(class_=\"tombstone-container\")\n",
    "tonight = forecast_items[0]"
   ]
  },
  {
   "cell_type": "code",
   "execution_count": 10,
   "metadata": {},
   "outputs": [
    {
     "name": "stdout",
     "output_type": "stream",
     "text": [
      "['Sunny', 'Mostly Clear', 'Sunny', 'Clear', 'Sunny', 'Partly Cloudy', 'Sunny', 'Clear', 'Sunny']\n",
      "['High: 65 °F', 'Low: 47 °F', 'High: 69 °F', 'Low: 49 °F', 'High: 70 °F', 'Low: 49 °F', 'High: 65 °F', 'Low: 46 °F', 'High: 66 °F']\n",
      "['Today: Sunny, with a high near 65. West wind 5 to 10 mph increasing to 16 to 21 mph in the afternoon. Winds could gust as high as 31 mph. ', 'Tonight: Mostly clear, with a low around 47. West northwest wind 12 to 17 mph decreasing to 6 to 11 mph after midnight. Winds could gust as high as 30 mph. ', 'Tuesday: Sunny, with a high near 69. North wind 7 to 12 mph increasing to 13 to 18 mph in the afternoon. Winds could gust as high as 28 mph. ', 'Tuesday Night: Clear, with a low around 49. North wind 13 to 17 mph, with gusts as high as 38 mph. ', 'Wednesday: Sunny, with a high near 70. Light and variable wind becoming west 5 to 10 mph in the morning. ', 'Wednesday Night: Partly cloudy, with a low around 49.', 'Thursday: Sunny, with a high near 65.', 'Thursday Night: Clear, with a low around 46.', 'Friday: Sunny, with a high near 66.']\n"
     ]
    }
   ],
   "source": [
    "period_tags=seven_day.select('.tombstone-container .period-name')\n",
    "periods=[pt.get_text() for pt in period_tags]\n",
    "short_descs = [sd.get_text() for sd in seven_day.select(\".tombstone-container .short-desc\")]\n",
    "temps = [t.get_text() for t in seven_day.select(\".tombstone-container .temp\")]\n",
    "descs = [d[\"title\"] for d in seven_day.select(\".tombstone-container img\")]\n",
    "print(short_descs)\n",
    "print(temps)\n",
    "print(descs)"
   ]
  },
  {
   "cell_type": "code",
   "execution_count": 11,
   "metadata": {},
   "outputs": [
    {
     "data": {
      "text/html": [
       "<div>\n",
       "<style scoped>\n",
       "    .dataframe tbody tr th:only-of-type {\n",
       "        vertical-align: middle;\n",
       "    }\n",
       "\n",
       "    .dataframe tbody tr th {\n",
       "        vertical-align: top;\n",
       "    }\n",
       "\n",
       "    .dataframe thead th {\n",
       "        text-align: right;\n",
       "    }\n",
       "</style>\n",
       "<table border=\"1\" class=\"dataframe\">\n",
       "  <thead>\n",
       "    <tr style=\"text-align: right;\">\n",
       "      <th></th>\n",
       "      <th>period</th>\n",
       "      <th>short_desc</th>\n",
       "      <th>temp</th>\n",
       "      <th>desc</th>\n",
       "    </tr>\n",
       "  </thead>\n",
       "  <tbody>\n",
       "    <tr>\n",
       "      <th>0</th>\n",
       "      <td>Today</td>\n",
       "      <td>Sunny</td>\n",
       "      <td>High: 65 °F</td>\n",
       "      <td>Today: Sunny, with a high near 65. West wind 5...</td>\n",
       "    </tr>\n",
       "    <tr>\n",
       "      <th>1</th>\n",
       "      <td>Tonight</td>\n",
       "      <td>Mostly Clear</td>\n",
       "      <td>Low: 47 °F</td>\n",
       "      <td>Tonight: Mostly clear, with a low around 47. W...</td>\n",
       "    </tr>\n",
       "    <tr>\n",
       "      <th>2</th>\n",
       "      <td>Tuesday</td>\n",
       "      <td>Sunny</td>\n",
       "      <td>High: 69 °F</td>\n",
       "      <td>Tuesday: Sunny, with a high near 69. North win...</td>\n",
       "    </tr>\n",
       "    <tr>\n",
       "      <th>3</th>\n",
       "      <td>TuesdayNight</td>\n",
       "      <td>Clear</td>\n",
       "      <td>Low: 49 °F</td>\n",
       "      <td>Tuesday Night: Clear, with a low around 49. No...</td>\n",
       "    </tr>\n",
       "    <tr>\n",
       "      <th>4</th>\n",
       "      <td>Wednesday</td>\n",
       "      <td>Sunny</td>\n",
       "      <td>High: 70 °F</td>\n",
       "      <td>Wednesday: Sunny, with a high near 70. Light a...</td>\n",
       "    </tr>\n",
       "    <tr>\n",
       "      <th>5</th>\n",
       "      <td>WednesdayNight</td>\n",
       "      <td>Partly Cloudy</td>\n",
       "      <td>Low: 49 °F</td>\n",
       "      <td>Wednesday Night: Partly cloudy, with a low aro...</td>\n",
       "    </tr>\n",
       "    <tr>\n",
       "      <th>6</th>\n",
       "      <td>Thursday</td>\n",
       "      <td>Sunny</td>\n",
       "      <td>High: 65 °F</td>\n",
       "      <td>Thursday: Sunny, with a high near 65.</td>\n",
       "    </tr>\n",
       "    <tr>\n",
       "      <th>7</th>\n",
       "      <td>ThursdayNight</td>\n",
       "      <td>Clear</td>\n",
       "      <td>Low: 46 °F</td>\n",
       "      <td>Thursday Night: Clear, with a low around 46.</td>\n",
       "    </tr>\n",
       "    <tr>\n",
       "      <th>8</th>\n",
       "      <td>Friday</td>\n",
       "      <td>Sunny</td>\n",
       "      <td>High: 66 °F</td>\n",
       "      <td>Friday: Sunny, with a high near 66.</td>\n",
       "    </tr>\n",
       "  </tbody>\n",
       "</table>\n",
       "</div>"
      ],
      "text/plain": [
       "           period     short_desc         temp  \\\n",
       "0           Today          Sunny  High: 65 °F   \n",
       "1         Tonight   Mostly Clear   Low: 47 °F   \n",
       "2         Tuesday          Sunny  High: 69 °F   \n",
       "3    TuesdayNight          Clear   Low: 49 °F   \n",
       "4       Wednesday          Sunny  High: 70 °F   \n",
       "5  WednesdayNight  Partly Cloudy   Low: 49 °F   \n",
       "6        Thursday          Sunny  High: 65 °F   \n",
       "7   ThursdayNight          Clear   Low: 46 °F   \n",
       "8          Friday          Sunny  High: 66 °F   \n",
       "\n",
       "                                                desc  \n",
       "0  Today: Sunny, with a high near 65. West wind 5...  \n",
       "1  Tonight: Mostly clear, with a low around 47. W...  \n",
       "2  Tuesday: Sunny, with a high near 69. North win...  \n",
       "3  Tuesday Night: Clear, with a low around 49. No...  \n",
       "4  Wednesday: Sunny, with a high near 70. Light a...  \n",
       "5  Wednesday Night: Partly cloudy, with a low aro...  \n",
       "6              Thursday: Sunny, with a high near 65.  \n",
       "7       Thursday Night: Clear, with a low around 46.  \n",
       "8                Friday: Sunny, with a high near 66.  "
      ]
     },
     "execution_count": 11,
     "metadata": {},
     "output_type": "execute_result"
    }
   ],
   "source": [
    "import pandas as pd\n",
    "weather = pd.DataFrame({\n",
    "        \"period\": periods,\n",
    "         \"short_desc\": short_descs,\n",
    "         \"temp\": temps,\n",
    "         \"desc\":descs\n",
    "    })\n",
    "weather"
   ]
  },
  {
   "cell_type": "code",
   "execution_count": null,
   "metadata": {},
   "outputs": [],
   "source": []
  }
 ],
 "metadata": {
  "kernelspec": {
   "display_name": "Python 3",
   "language": "python",
   "name": "python3"
  },
  "language_info": {
   "codemirror_mode": {
    "name": "ipython",
    "version": 3
   },
   "file_extension": ".py",
   "mimetype": "text/x-python",
   "name": "python",
   "nbconvert_exporter": "python",
   "pygments_lexer": "ipython3",
   "version": "3.7.6"
  }
 },
 "nbformat": 4,
 "nbformat_minor": 4
}
