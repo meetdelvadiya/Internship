{
 "cells": [
  {
   "cell_type": "code",
   "execution_count": 1,
   "metadata": {},
   "outputs": [],
   "source": [
    "from bs4 import BeautifulSoup\n",
    "import requests"
   ]
  },
  {
   "cell_type": "code",
   "execution_count": 2,
   "metadata": {},
   "outputs": [],
   "source": [
    "page=requests.get('https://forecast.weather.gov/MapClick.php?lat=37.77493000000004&lon=-122.41941999999995#.YFi_q68zbIU')"
   ]
  },
  {
   "cell_type": "code",
   "execution_count": 3,
   "metadata": {},
   "outputs": [],
   "source": [
    "soup = BeautifulSoup(page.content, \"html.parser\")\n",
    "#soup"
   ]
  },
  {
   "cell_type": "code",
   "execution_count": 4,
   "metadata": {},
   "outputs": [],
   "source": [
    "seven_day = soup.find(id=\"seven-day-forecast\")\n",
    "forecast_items = seven_day.find_all(class_=\"tombstone-container\")\n",
    "tonight = forecast_items[0]"
   ]
  },
  {
   "cell_type": "code",
   "execution_count": 5,
   "metadata": {},
   "outputs": [
    {
     "name": "stdout",
     "output_type": "stream",
     "text": [
      "['Mostly Clear', 'Sunny', 'Mostly Clear', 'Sunny', 'Mostly Clear', 'Sunny', 'Clear', 'Sunny', 'Clear']\n",
      "['Low: 47 °F', 'High: 71 °F', 'Low: 47 °F', 'High: 67 °F', 'Low: 48 °F', 'High: 65 °F', 'Low: 49 °F', 'High: 72 °F', 'Low: 51 °F']\n",
      "['Overnight: Mostly clear, with a low around 47. Calm wind. ', 'Saturday: Sunny, with a high near 71. Calm wind becoming west 5 to 7 mph in the afternoon. ', 'Saturday Night: Mostly clear, with a low around 47. West wind 5 to 10 mph becoming light west southwest  in the evening. ', 'Sunday: Sunny, with a high near 67. Light west wind increasing to 6 to 11 mph in the afternoon. ', 'Sunday Night: Mostly clear, with a low around 48. West wind 9 to 15 mph, with gusts as high as 20 mph. ', 'Monday: Sunny, with a high near 65.', 'Monday Night: Clear, with a low around 49.', 'Tuesday: Sunny, with a high near 72.', 'Tuesday Night: Clear, with a low around 51.']\n"
     ]
    }
   ],
   "source": [
    "period_tags=seven_day.select('.tombstone-container .period-name')\n",
    "periods=[pt.get_text() for pt in period_tags]\n",
    "short_descs = [sd.get_text() for sd in seven_day.select(\".tombstone-container .short-desc\")]\n",
    "temps = [t.get_text() for t in seven_day.select(\".tombstone-container .temp\")]\n",
    "descs = [d[\"title\"] for d in seven_day.select(\".tombstone-container img\")]\n",
    "print(short_descs)\n",
    "print(temps)\n",
    "print(descs)"
   ]
  },
  {
   "cell_type": "code",
   "execution_count": 6,
   "metadata": {},
   "outputs": [
    {
     "data": {
      "text/html": [
       "<div>\n",
       "<style scoped>\n",
       "    .dataframe tbody tr th:only-of-type {\n",
       "        vertical-align: middle;\n",
       "    }\n",
       "\n",
       "    .dataframe tbody tr th {\n",
       "        vertical-align: top;\n",
       "    }\n",
       "\n",
       "    .dataframe thead th {\n",
       "        text-align: right;\n",
       "    }\n",
       "</style>\n",
       "<table border=\"1\" class=\"dataframe\">\n",
       "  <thead>\n",
       "    <tr style=\"text-align: right;\">\n",
       "      <th></th>\n",
       "      <th>period</th>\n",
       "      <th>short_desc</th>\n",
       "      <th>temp</th>\n",
       "      <th>desc</th>\n",
       "    </tr>\n",
       "  </thead>\n",
       "  <tbody>\n",
       "    <tr>\n",
       "      <th>0</th>\n",
       "      <td>Overnight</td>\n",
       "      <td>Mostly Clear</td>\n",
       "      <td>Low: 47 °F</td>\n",
       "      <td>Overnight: Mostly clear, with a low around 47....</td>\n",
       "    </tr>\n",
       "    <tr>\n",
       "      <th>1</th>\n",
       "      <td>Saturday</td>\n",
       "      <td>Sunny</td>\n",
       "      <td>High: 71 °F</td>\n",
       "      <td>Saturday: Sunny, with a high near 71. Calm win...</td>\n",
       "    </tr>\n",
       "    <tr>\n",
       "      <th>2</th>\n",
       "      <td>SaturdayNight</td>\n",
       "      <td>Mostly Clear</td>\n",
       "      <td>Low: 47 °F</td>\n",
       "      <td>Saturday Night: Mostly clear, with a low aroun...</td>\n",
       "    </tr>\n",
       "    <tr>\n",
       "      <th>3</th>\n",
       "      <td>Sunday</td>\n",
       "      <td>Sunny</td>\n",
       "      <td>High: 67 °F</td>\n",
       "      <td>Sunday: Sunny, with a high near 67. Light west...</td>\n",
       "    </tr>\n",
       "    <tr>\n",
       "      <th>4</th>\n",
       "      <td>SundayNight</td>\n",
       "      <td>Mostly Clear</td>\n",
       "      <td>Low: 48 °F</td>\n",
       "      <td>Sunday Night: Mostly clear, with a low around ...</td>\n",
       "    </tr>\n",
       "    <tr>\n",
       "      <th>5</th>\n",
       "      <td>Monday</td>\n",
       "      <td>Sunny</td>\n",
       "      <td>High: 65 °F</td>\n",
       "      <td>Monday: Sunny, with a high near 65.</td>\n",
       "    </tr>\n",
       "    <tr>\n",
       "      <th>6</th>\n",
       "      <td>MondayNight</td>\n",
       "      <td>Clear</td>\n",
       "      <td>Low: 49 °F</td>\n",
       "      <td>Monday Night: Clear, with a low around 49.</td>\n",
       "    </tr>\n",
       "    <tr>\n",
       "      <th>7</th>\n",
       "      <td>Tuesday</td>\n",
       "      <td>Sunny</td>\n",
       "      <td>High: 72 °F</td>\n",
       "      <td>Tuesday: Sunny, with a high near 72.</td>\n",
       "    </tr>\n",
       "    <tr>\n",
       "      <th>8</th>\n",
       "      <td>TuesdayNight</td>\n",
       "      <td>Clear</td>\n",
       "      <td>Low: 51 °F</td>\n",
       "      <td>Tuesday Night: Clear, with a low around 51.</td>\n",
       "    </tr>\n",
       "  </tbody>\n",
       "</table>\n",
       "</div>"
      ],
      "text/plain": [
       "          period    short_desc         temp  \\\n",
       "0      Overnight  Mostly Clear   Low: 47 °F   \n",
       "1       Saturday         Sunny  High: 71 °F   \n",
       "2  SaturdayNight  Mostly Clear   Low: 47 °F   \n",
       "3         Sunday         Sunny  High: 67 °F   \n",
       "4    SundayNight  Mostly Clear   Low: 48 °F   \n",
       "5         Monday         Sunny  High: 65 °F   \n",
       "6    MondayNight         Clear   Low: 49 °F   \n",
       "7        Tuesday         Sunny  High: 72 °F   \n",
       "8   TuesdayNight         Clear   Low: 51 °F   \n",
       "\n",
       "                                                desc  \n",
       "0  Overnight: Mostly clear, with a low around 47....  \n",
       "1  Saturday: Sunny, with a high near 71. Calm win...  \n",
       "2  Saturday Night: Mostly clear, with a low aroun...  \n",
       "3  Sunday: Sunny, with a high near 67. Light west...  \n",
       "4  Sunday Night: Mostly clear, with a low around ...  \n",
       "5                Monday: Sunny, with a high near 65.  \n",
       "6         Monday Night: Clear, with a low around 49.  \n",
       "7               Tuesday: Sunny, with a high near 72.  \n",
       "8        Tuesday Night: Clear, with a low around 51.  "
      ]
     },
     "execution_count": 6,
     "metadata": {},
     "output_type": "execute_result"
    }
   ],
   "source": [
    "import pandas as pd\n",
    "weather = pd.DataFrame({\n",
    "        \"period\": periods,\n",
    "         \"short_desc\": short_descs,\n",
    "         \"temp\": temps,\n",
    "         \"desc\":descs\n",
    "    })\n",
    "weather"
   ]
  },
  {
   "cell_type": "code",
   "execution_count": 7,
   "metadata": {},
   "outputs": [
    {
     "data": {
      "text/plain": [
       "'period,short_desc,temp,desc\\r\\nOvernight,Mostly Clear,Low: 47 °F,\"Overnight: Mostly clear, with a low around 47. Calm wind. \"\\r\\nSaturday,Sunny,High: 71 °F,\"Saturday: Sunny, with a high near 71. Calm wind becoming west 5 to 7 mph in the afternoon. \"\\r\\nSaturdayNight,Mostly Clear,Low: 47 °F,\"Saturday Night: Mostly clear, with a low around 47. West wind 5 to 10 mph becoming light west southwest  in the evening. \"\\r\\nSunday,Sunny,High: 67 °F,\"Sunday: Sunny, with a high near 67. Light west wind increasing to 6 to 11 mph in the afternoon. \"\\r\\nSundayNight,Mostly Clear,Low: 48 °F,\"Sunday Night: Mostly clear, with a low around 48. West wind 9 to 15 mph, with gusts as high as 20 mph. \"\\r\\nMonday,Sunny,High: 65 °F,\"Monday: Sunny, with a high near 65.\"\\r\\nMondayNight,Clear,Low: 49 °F,\"Monday Night: Clear, with a low around 49.\"\\r\\nTuesday,Sunny,High: 72 °F,\"Tuesday: Sunny, with a high near 72.\"\\r\\nTuesdayNight,Clear,Low: 51 °F,\"Tuesday Night: Clear, with a low around 51.\"\\r\\n'"
      ]
     },
     "execution_count": 7,
     "metadata": {},
     "output_type": "execute_result"
    }
   ],
   "source": [
    "weather.to_csv(index=False)"
   ]
  }
 ],
 "metadata": {
  "kernelspec": {
   "display_name": "Python 3",
   "language": "python",
   "name": "python3"
  },
  "language_info": {
   "codemirror_mode": {
    "name": "ipython",
    "version": 3
   },
   "file_extension": ".py",
   "mimetype": "text/x-python",
   "name": "python",
   "nbconvert_exporter": "python",
   "pygments_lexer": "ipython3",
   "version": "3.7.6"
  }
 },
 "nbformat": 4,
 "nbformat_minor": 4
}
