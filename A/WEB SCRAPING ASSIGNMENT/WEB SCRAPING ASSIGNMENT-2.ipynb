{
 "cells": [
  {
   "cell_type": "code",
   "execution_count": 45,
   "metadata": {},
   "outputs": [],
   "source": [
    "from bs4 import BeautifulSoup\n",
    "import requests"
   ]
  },
  {
   "cell_type": "code",
   "execution_count": 46,
   "metadata": {},
   "outputs": [
    {
     "data": {
      "text/plain": [
       "<Response [200]>"
      ]
     },
     "execution_count": 46,
     "metadata": {},
     "output_type": "execute_result"
    }
   ],
   "source": [
    "page=requests.get('https://www.imdb.com/chart/top/?sort=rk,asc&mode=simple&page=1')\n",
    "page"
   ]
  },
  {
   "cell_type": "code",
   "execution_count": 47,
   "metadata": {},
   "outputs": [],
   "source": [
    "soup = BeautifulSoup(page.content, \"html.parser\")\n",
    "#soup"
   ]
  },
  {
   "cell_type": "code",
   "execution_count": 48,
   "metadata": {},
   "outputs": [],
   "source": [
    "list_of_titles = []\n",
    "list_of_years = []\n",
    "user_ratings = []\n",
    "inputs=[]\n",
    "x=[]"
   ]
  },
  {
   "cell_type": "code",
   "execution_count": 49,
   "metadata": {},
   "outputs": [],
   "source": [
    "movie_titles=soup.find_all('td',class_='titleColumn')\n",
    "#movie_titles"
   ]
  },
  {
   "cell_type": "code",
   "execution_count": 50,
   "metadata": {},
   "outputs": [],
   "source": [
    "imdb_ratings=soup.find_all('td',class_='ratingColumn imdbRating')\n",
    "#imdb_ratings"
   ]
  },
  {
   "cell_type": "code",
   "execution_count": 51,
   "metadata": {},
   "outputs": [],
   "source": [
    "for information in movie_titles:\n",
    "    title = information.a.text\n",
    "    list_of_titles.append(title)\n",
    "    year = information.span.text\n",
    "    list_of_years.append(year)\n",
    "       \n",
    "for rating in imdb_ratings:\n",
    "    user_rating = rating.text.strip()\n",
    "    user_ratings.append(user_rating)"
   ]
  },
  {
   "cell_type": "code",
   "execution_count": 52,
   "metadata": {},
   "outputs": [],
   "source": [
    "name=[]\n",
    "for i in range(len(user_ratings))[:100]:\n",
    "    name.append(list_of_titles[i])"
   ]
  },
  {
   "cell_type": "code",
   "execution_count": 53,
   "metadata": {},
   "outputs": [],
   "source": [
    "year=[]\n",
    "for i in range(len(user_ratings))[:100]:\n",
    "    year.append(list_of_years[i])"
   ]
  },
  {
   "cell_type": "code",
   "execution_count": 54,
   "metadata": {},
   "outputs": [],
   "source": [
    "rating=[]\n",
    "for i in range(len(user_ratings))[:100]:\n",
    "    rating.append(user_ratings[i])"
   ]
  },
  {
   "cell_type": "code",
   "execution_count": 55,
   "metadata": {},
   "outputs": [
    {
     "data": {
      "text/html": [
       "<div>\n",
       "<style scoped>\n",
       "    .dataframe tbody tr th:only-of-type {\n",
       "        vertical-align: middle;\n",
       "    }\n",
       "\n",
       "    .dataframe tbody tr th {\n",
       "        vertical-align: top;\n",
       "    }\n",
       "\n",
       "    .dataframe thead th {\n",
       "        text-align: right;\n",
       "    }\n",
       "</style>\n",
       "<table border=\"1\" class=\"dataframe\">\n",
       "  <thead>\n",
       "    <tr style=\"text-align: right;\">\n",
       "      <th></th>\n",
       "      <th>name</th>\n",
       "      <th>year</th>\n",
       "      <th>rating</th>\n",
       "    </tr>\n",
       "  </thead>\n",
       "  <tbody>\n",
       "    <tr>\n",
       "      <th>0</th>\n",
       "      <td>The Shawshank Redemption</td>\n",
       "      <td>(1994)</td>\n",
       "      <td>9.2</td>\n",
       "    </tr>\n",
       "    <tr>\n",
       "      <th>1</th>\n",
       "      <td>The Godfather</td>\n",
       "      <td>(1972)</td>\n",
       "      <td>9.1</td>\n",
       "    </tr>\n",
       "    <tr>\n",
       "      <th>2</th>\n",
       "      <td>The Godfather: Part II</td>\n",
       "      <td>(1974)</td>\n",
       "      <td>9.0</td>\n",
       "    </tr>\n",
       "    <tr>\n",
       "      <th>3</th>\n",
       "      <td>The Dark Knight</td>\n",
       "      <td>(2008)</td>\n",
       "      <td>9.0</td>\n",
       "    </tr>\n",
       "    <tr>\n",
       "      <th>4</th>\n",
       "      <td>12 Angry Men</td>\n",
       "      <td>(1957)</td>\n",
       "      <td>8.9</td>\n",
       "    </tr>\n",
       "    <tr>\n",
       "      <th>...</th>\n",
       "      <td>...</td>\n",
       "      <td>...</td>\n",
       "      <td>...</td>\n",
       "    </tr>\n",
       "    <tr>\n",
       "      <th>95</th>\n",
       "      <td>Citizen Kane</td>\n",
       "      <td>(1941)</td>\n",
       "      <td>8.3</td>\n",
       "    </tr>\n",
       "    <tr>\n",
       "      <th>96</th>\n",
       "      <td>Dangal</td>\n",
       "      <td>(2016)</td>\n",
       "      <td>8.3</td>\n",
       "    </tr>\n",
       "    <tr>\n",
       "      <th>97</th>\n",
       "      <td>Singin' in the Rain</td>\n",
       "      <td>(1952)</td>\n",
       "      <td>8.2</td>\n",
       "    </tr>\n",
       "    <tr>\n",
       "      <th>98</th>\n",
       "      <td>The Kid</td>\n",
       "      <td>(1921)</td>\n",
       "      <td>8.2</td>\n",
       "    </tr>\n",
       "    <tr>\n",
       "      <th>99</th>\n",
       "      <td>Ladri di biciclette</td>\n",
       "      <td>(1948)</td>\n",
       "      <td>8.2</td>\n",
       "    </tr>\n",
       "  </tbody>\n",
       "</table>\n",
       "<p>100 rows × 3 columns</p>\n",
       "</div>"
      ],
      "text/plain": [
       "                        name    year rating\n",
       "0   The Shawshank Redemption  (1994)    9.2\n",
       "1              The Godfather  (1972)    9.1\n",
       "2     The Godfather: Part II  (1974)    9.0\n",
       "3            The Dark Knight  (2008)    9.0\n",
       "4               12 Angry Men  (1957)    8.9\n",
       "..                       ...     ...    ...\n",
       "95              Citizen Kane  (1941)    8.3\n",
       "96                    Dangal  (2016)    8.3\n",
       "97       Singin' in the Rain  (1952)    8.2\n",
       "98                   The Kid  (1921)    8.2\n",
       "99       Ladri di biciclette  (1948)    8.2\n",
       "\n",
       "[100 rows x 3 columns]"
      ]
     },
     "execution_count": 55,
     "metadata": {},
     "output_type": "execute_result"
    }
   ],
   "source": [
    "import pandas as pd\n",
    "IMDB = pd.DataFrame({\n",
    "        \"name\": name,\n",
    "         \"year\": year,\n",
    "         \"rating\": rating,\n",
    "    })\n",
    "IMDB"
   ]
  },
  {
   "cell_type": "code",
   "execution_count": 63,
   "metadata": {},
   "outputs": [
    {
     "data": {
      "text/plain": [
       "'name,year,rating\\r\\nThe Shawshank Redemption,(1994),9.2\\r\\nThe Godfather,(1972),9.1\\r\\nThe Godfather: Part II,(1974),9.0\\r\\nThe Dark Knight,(2008),9.0\\r\\n12 Angry Men,(1957),8.9\\r\\nSchindler\\'s List,(1993),8.9\\r\\nThe Lord of the Rings: The Return of the King,(2003),8.9\\r\\nPulp Fiction,(1994),8.8\\r\\n\"Il buono, il brutto, il cattivo\",(1966),8.8\\r\\nThe Lord of the Rings: The Fellowship of the Ring,(2001),8.8\\r\\nFight Club,(1999),8.8\\r\\nForrest Gump,(1994),8.8\\r\\nInception,(2010),8.7\\r\\nThe Lord of the Rings: The Two Towers,(2002),8.7\\r\\nStar Wars: Episode V - The Empire Strikes Back,(1980),8.7\\r\\nThe Matrix,(1999),8.6\\r\\nGoodfellas,(1990),8.6\\r\\nOne Flew Over the Cuckoo\\'s Nest,(1975),8.6\\r\\nShichinin no samurai,(1954),8.6\\r\\nSe7en,(1995),8.6\\r\\nLa vita è bella,(1997),8.6\\r\\nCidade de Deus,(2002),8.6\\r\\nThe Silence of the Lambs,(1991),8.6\\r\\nIt\\'s a Wonderful Life,(1946),8.6\\r\\nStar Wars,(1977),8.6\\r\\nSaving Private Ryan,(1998),8.6\\r\\nThe Green Mile,(1999),8.5\\r\\nSen to Chihiro no kamikakushi,(2001),8.5\\r\\nInterstellar,(2014),8.5\\r\\nGisaengchung,(2019),8.5\\r\\nLéon,(1994),8.5\\r\\nSeppuku,(1962),8.5\\r\\nThe Usual Suspects,(1995),8.5\\r\\nThe Lion King,(1994),8.5\\r\\nThe Pianist,(2002),8.5\\r\\nTerminator 2: Judgment Day,(1991),8.5\\r\\nBack to the Future,(1985),8.5\\r\\nAmerican History X,(1998),8.5\\r\\nModern Times,(1936),8.5\\r\\nGladiator,(2000),8.5\\r\\nPsycho,(1960),8.5\\r\\nThe Departed,(2006),8.5\\r\\nCity Lights,(1931),8.5\\r\\nThe Intouchables,(2011),8.5\\r\\nWhiplash,(2014),8.5\\r\\nHotaru no haka,(1988),8.5\\r\\nThe Prestige,(2006),8.5\\r\\nOnce Upon a Time in the West,(1968),8.4\\r\\nCasablanca,(1942),8.4\\r\\nNuovo Cinema Paradiso,(1988),8.4\\r\\nRear Window,(1954),8.4\\r\\nAlien,(1979),8.4\\r\\nApocalypse Now,(1979),8.4\\r\\nMemento,(2000),8.4\\r\\nThe Great Dictator,(1940),8.4\\r\\nRaiders of the Lost Ark,(1981),8.4\\r\\nDjango Unchained,(2012),8.4\\r\\nThe Lives of Others,(2006),8.4\\r\\nHamilton,(2020),8.4\\r\\nPaths of Glory,(1957),8.4\\r\\nJoker,(2019),8.4\\r\\nWALL·E,(2008),8.4\\r\\nThe Shining,(1980),8.4\\r\\nAvengers: Infinity War,(2018),8.4\\r\\nSunset Blvd.,(1950),8.4\\r\\nWitness for the Prosecution,(1957),8.4\\r\\nOldeuboi,(2003),8.3\\r\\nSpider-Man: Into the Spider-Verse,(2018),8.3\\r\\nMononoke-hime,(1997),8.3\\r\\nDr. Strangelove or: How I Learned to Stop Worrying and Love the Bomb,(1964),8.3\\r\\nThe Dark Knight Rises,(2012),8.3\\r\\nOnce Upon a Time in America,(1984),8.3\\r\\nKimi no na wa.,(2016),8.3\\r\\nAliens,(1986),8.3\\r\\nCoco,(2017),8.3\\r\\nAvengers: Endgame,(2019),8.3\\r\\nCapharnaüm,(2018),8.3\\r\\nAmerican Beauty,(1999),8.3\\r\\nBraveheart,(1995),8.3\\r\\nTengoku to jigoku,(1963),8.3\\r\\nDas Boot,(1981),8.3\\r\\nToy Story,(1995),8.3\\r\\n3 Idiots,(2009),8.3\\r\\nAmadeus,(1984),8.3\\r\\nInglourious Basterds,(2009),8.3\\r\\nGood Will Hunting,(1997),8.3\\r\\nStar Wars: Episode VI - Return of the Jedi,(1983),8.3\\r\\nTaare Zameen Par,(2007),8.3\\r\\nReservoir Dogs,(1992),8.3\\r\\n2001: A Space Odyssey,(1968),8.3\\r\\nRequiem for a Dream,(2000),8.3\\r\\nJagten,(2012),8.3\\r\\nVertigo,(1958),8.3\\r\\nM - Eine Stadt sucht einen Mörder,(1931),8.3\\r\\nEternal Sunshine of the Spotless Mind,(2004),8.3\\r\\nCitizen Kane,(1941),8.3\\r\\nDangal,(2016),8.3\\r\\nSingin\\' in the Rain,(1952),8.2\\r\\nThe Kid,(1921),8.2\\r\\nLadri di biciclette,(1948),8.2\\r\\n'"
      ]
     },
     "execution_count": 63,
     "metadata": {},
     "output_type": "execute_result"
    }
   ],
   "source": [
    "IMDB.to_csv(index=False)"
   ]
  },
  {
   "cell_type": "code",
   "execution_count": 64,
   "metadata": {},
   "outputs": [
    {
     "name": "stdout",
     "output_type": "stream",
     "text": [
      "                        name    year rating\n",
      "0   The Shawshank Redemption  (1994)    9.2\n",
      "1              The Godfather  (1972)    9.1\n",
      "2     The Godfather: Part II  (1974)    9.0\n",
      "3            The Dark Knight  (2008)    9.0\n",
      "4               12 Angry Men  (1957)    8.9\n",
      "..                       ...     ...    ...\n",
      "95              Citizen Kane  (1941)    8.3\n",
      "96                    Dangal  (2016)    8.3\n",
      "97       Singin' in the Rain  (1952)    8.2\n",
      "98                   The Kid  (1921)    8.2\n",
      "99       Ladri di biciclette  (1948)    8.2\n",
      "\n",
      "[100 rows x 3 columns]\n"
     ]
    }
   ],
   "source": [
    "print(IMDB)"
   ]
  },
  {
   "cell_type": "code",
   "execution_count": null,
   "metadata": {},
   "outputs": [],
   "source": []
  }
 ],
 "metadata": {
  "kernelspec": {
   "display_name": "Python 3",
   "language": "python",
   "name": "python3"
  },
  "language_info": {
   "codemirror_mode": {
    "name": "ipython",
    "version": 3
   },
   "file_extension": ".py",
   "mimetype": "text/x-python",
   "name": "python",
   "nbconvert_exporter": "python",
   "pygments_lexer": "ipython3",
   "version": "3.7.6"
  }
 },
 "nbformat": 4,
 "nbformat_minor": 4
}
